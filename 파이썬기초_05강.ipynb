{
 "cells": [
  {
   "cell_type": "code",
   "execution_count": 4,
   "id": "272229c9",
   "metadata": {
    "scrolled": true
   },
   "outputs": [
    {
     "name": "stdout",
     "output_type": "stream",
     "text": [
      "이름이 뭐니?홍규민\n",
      "주인님 어서오십시요\n"
     ]
    }
   ],
   "source": [
    "name = input(\"이름이 뭐니?\") #안내 문구와 함께 인풋값을 받아 변수 name에 문자형으로 저장한다.\n",
    "if name == \"홍규민\" : #저장한 문자형 name이 \"홍규민\" 이 문자형과 같다면\n",
    "    print(\"주인님 어서오십시요\") #참일 때 실행하는 실행문"
   ]
  },
  {
   "cell_type": "code",
   "execution_count": 5,
   "id": "31a8a704",
   "metadata": {},
   "outputs": [
    {
     "name": "stdout",
     "output_type": "stream",
     "text": [
      "이름이 뭐니?홍홍홍\n"
     ]
    }
   ],
   "source": [
    "name = input(\"이름이 뭐니?\") #안내 문구와 함께 인풋값을 받아 변수 name에 문자형으로 저장한다.\n",
    "if name == \"홍규민\" : #저장한 문자형 name이 \"홍규민\" 이 문자형과 같다면\n",
    "    print(\"주인님 어서오십시요\")"
   ]
  },
  {
   "cell_type": "code",
   "execution_count": 6,
   "id": "e46c6315",
   "metadata": {},
   "outputs": [
    {
     "name": "stdout",
     "output_type": "stream",
     "text": [
      "성별이 어떻게 되나요?남자\n",
      "넥타이가 멋있습니다.\n"
     ]
    }
   ],
   "source": [
    "name = input(\"성별이 어떻게 되나요?\") #안내 문구와 함께 인풋값을 받아 변수 name에 문자형으로 저장한다.\n",
    "\n",
    "if name == \"남자\" :  #저장한 문자형 name이 \"남자\" 이 문자형과 같다면\n",
    "    print(\"넥타이가 멋있습니다.\") #참일 때 실행하는 실행문\n",
    "else:\n",
    "    print(\"립스틱색이 예쁘네요.\") #거짓일 때 실행하는 실행문"
   ]
  },
  {
   "cell_type": "code",
   "execution_count": 7,
   "id": "cc90ccef",
   "metadata": {},
   "outputs": [
    {
     "name": "stdout",
     "output_type": "stream",
     "text": [
      "성별이 어떻게 되나요?여자\n",
      "립스틱색이 예쁘네요.\n"
     ]
    }
   ],
   "source": [
    "name = input(\"성별이 어떻게 되나요?\")\n",
    "\n",
    "if name == \"남자\" :\n",
    "    print(\"넥타이가 멋있습니다.\")\n",
    "else:\n",
    "    print(\"립스틱색이 예쁘네요.\")"
   ]
  },
  {
   "cell_type": "code",
   "execution_count": 8,
   "id": "d21b8eb1",
   "metadata": {
    "scrolled": true
   },
   "outputs": [
    {
     "name": "stdout",
     "output_type": "stream",
     "text": [
      "성별이 어떻게 되나요?몰라\n",
      "립스틱색이 예쁘네요.\n"
     ]
    }
   ],
   "source": [
    "name = input(\"성별이 어떻게 되나요?\")\n",
    "\n",
    "if name == \"남자\" :\n",
    "    print(\"넥타이가 멋있습니다.\")\n",
    "else:\n",
    "    print(\"립스틱색이 예쁘네요.\") #이때 남자가 아닌 모든 입력값을 else가 받으므로 몰라라고 입력해도 립스틱 그 문장이 출력됨"
   ]
  },
  {
   "cell_type": "code",
   "execution_count": 11,
   "id": "a794f795",
   "metadata": {},
   "outputs": [
    {
     "name": "stdout",
     "output_type": "stream",
     "text": [
      "얼마를 구매하셨나요?1000\n",
      "면세입니다.\n"
     ]
    }
   ],
   "source": [
    "price = int(input(\"얼마를 구매하셨나요?\"))\n",
    "if price < 10000 :\n",
    "    print(\"면세입니다.\")\n",
    "else:\n",
    "    print(\"세금은 10%입니다.\")"
   ]
  },
  {
   "cell_type": "code",
   "execution_count": 15,
   "id": "24b7a550",
   "metadata": {},
   "outputs": [
    {
     "name": "stdout",
     "output_type": "stream",
     "text": [
      "얼마를 구매하셨나요?100000\n",
      "세금은 10%입니다.\n"
     ]
    }
   ],
   "source": [
    "price = int(input(\"얼마를 구매하셨나요?\"))\n",
    "if price < 10000 :\n",
    "    print(\"면세입니다.\")\n",
    "else:\n",
    "    print(\"세금은 10%입니다.\")"
   ]
  },
  {
   "cell_type": "code",
   "execution_count": 16,
   "id": "c5736eaf",
   "metadata": {
    "scrolled": true
   },
   "outputs": [
    {
     "name": "stdout",
     "output_type": "stream",
     "text": [
      "얼마를 구매하셨나요?100\n",
      "면세입니다.\n"
     ]
    }
   ],
   "source": [
    "price = int(input(\"얼마를 구매하셨나요?\"))\n",
    "if price < 10000 :\n",
    "    print(\"면세입니다.\")\n",
    "else:\n",
    "    print(\"세금은 10%입니다.\")"
   ]
  },
  {
   "cell_type": "code",
   "execution_count": 17,
   "id": "c39ec9f8",
   "metadata": {},
   "outputs": [],
   "source": [
    "a=100 #a에 정수형 자료형 100을 대입"
   ]
  },
  {
   "cell_type": "code",
   "execution_count": 18,
   "id": "2b7a649b",
   "metadata": {},
   "outputs": [],
   "source": [
    "if (a==99): print(\"a는 99입니다\") #a는 100이므로 99가 아니므로 실행 안함"
   ]
  },
  {
   "cell_type": "code",
   "execution_count": 19,
   "id": "8402ee11",
   "metadata": {},
   "outputs": [
    {
     "name": "stdout",
     "output_type": "stream",
     "text": [
      "a는 100입니다\n"
     ]
    }
   ],
   "source": [
    "if (a==100): print(\"a는 100입니다\") #a는 100이므로 실행함"
   ]
  },
  {
   "cell_type": "code",
   "execution_count": 20,
   "id": "e0445c88",
   "metadata": {},
   "outputs": [
    {
     "name": "stdout",
     "output_type": "stream",
     "text": [
      "a는 100이상입니다\n"
     ]
    }
   ],
   "source": [
    "if (a>=100): print(\"a는 100이상입니다\") #a는 100이므로 100이상이라는 조건에 맞다"
   ]
  },
  {
   "cell_type": "code",
   "execution_count": 21,
   "id": "50e13de7",
   "metadata": {},
   "outputs": [],
   "source": [
    "if (a<100): print(\"a는 100미만입니다\") #a는 100이고 100미만이 아니므로 조건에 안맞다."
   ]
  },
  {
   "cell_type": "code",
   "execution_count": 22,
   "id": "9ba2afdc",
   "metadata": {},
   "outputs": [],
   "source": [
    "a=\"abc\" #\"abc\" 문자형을 변수 a에 저장한다."
   ]
  },
  {
   "cell_type": "code",
   "execution_count": 23,
   "id": "8aca788f",
   "metadata": {},
   "outputs": [
    {
     "name": "stdout",
     "output_type": "stream",
     "text": [
      "abc이다\n"
     ]
    }
   ],
   "source": [
    "if(a == \"abc\"): print(\"abc이다\") #a는 \"abc\" 이므로 실행문이 실행된다."
   ]
  },
  {
   "cell_type": "code",
   "execution_count": 24,
   "id": "19a5a191",
   "metadata": {},
   "outputs": [],
   "source": [
    "a=\"abc\" #\"abc\" 문자형을 변수 a에 저장한다."
   ]
  },
  {
   "cell_type": "code",
   "execution_count": 30,
   "id": "f154c53e",
   "metadata": {},
   "outputs": [],
   "source": [
    "if(a > \"abc\"): print(\"abc보다 큰문자이다\") #\"abc\" > \"abc\" 는 같다가 아닌이상 false이다."
   ]
  },
  {
   "cell_type": "code",
   "execution_count": 26,
   "id": "eee5b360",
   "metadata": {},
   "outputs": [],
   "source": [
    "a=\"abd\" #\"abd\" 문자형을 변수 a에 저장한다."
   ]
  },
  {
   "cell_type": "code",
   "execution_count": 27,
   "id": "1b6103db",
   "metadata": {},
   "outputs": [
    {
     "name": "stdout",
     "output_type": "stream",
     "text": [
      "abc보다 큰문자이다\n"
     ]
    }
   ],
   "source": [
    "if(a > \"abc\"): print(\"abc보다 큰문자이다\") #abd > abc. 파이썬에서 d는 c보다 크므로 true이다. "
   ]
  },
  {
   "cell_type": "code",
   "execution_count": 28,
   "id": "bd15e2f1",
   "metadata": {},
   "outputs": [],
   "source": [
    "a=\"abb\" #\"abb\" 문자형을 변수 a에 저장한다."
   ]
  },
  {
   "cell_type": "code",
   "execution_count": 29,
   "id": "d4a2d909",
   "metadata": {},
   "outputs": [],
   "source": [
    "if(a > \"abc\"): print(\"abc보다 큰문자이다\") #\"abb\" 문자형은 \"abc\"보다 작으므로 false이다."
   ]
  },
  {
   "cell_type": "code",
   "execution_count": 31,
   "id": "5696b601",
   "metadata": {},
   "outputs": [
    {
     "name": "stdout",
     "output_type": "stream",
     "text": [
      "점수를 입력하셔요?88\n",
      "학점은 B입니다.\n"
     ]
    }
   ],
   "source": [
    "x = int(input(\"점수를 입력하셔요?\")) #input값을 정수형으로 받아 변수 x에 저장한다.\n",
    "if 0 <= x and x < 60 : print(\"학점은 F입니다.\") #만약 x가 0이상 60미만이면 해당 프린트 실행.\n",
    "if 60 <= x and x < 70 : print(\"학점은 D입니다.\") #만약 x가 60이상 70미만이면 해당 프린트 실행.\n",
    "if 70 <= x and x < 80 : print(\"학점은 C입니다.\") #만약 x가 70이상 80미만이면 해당 프린트 실행.\n",
    "if 80 <= x and x < 90 : print(\"학점은 B입니다.\") #만약 x가 80이상 90미만이면 해당 프린트 실행.\n",
    "if 90 <= x and x <= 100 : print(\"학점은 A입니다.\") #만약 x가 90이상 100미만이면 해당 프린트 실행."
   ]
  },
  {
   "cell_type": "code",
   "execution_count": 32,
   "id": "b41086ec",
   "metadata": {},
   "outputs": [
    {
     "name": "stdout",
     "output_type": "stream",
     "text": [
      "점수를 입력하셔요?100\n",
      "학점은 A입니다.\n"
     ]
    }
   ],
   "source": [
    "x = int(input(\"점수를 입력하셔요?\"))\n",
    "if 0 <= x and x < 60 : print(\"학점은 F입니다.\")\n",
    "if 60 <= x and x < 70 : print(\"학점은 D입니다.\")\n",
    "if 70 <= x and x < 80 : print(\"학점은 C입니다.\")\n",
    "if 80 <= x and x < 90 : print(\"학점은 B입니다.\")\n",
    "if 90 <= x and x <= 100 : print(\"학점은 A입니다.\")"
   ]
  },
  {
   "cell_type": "code",
   "execution_count": 33,
   "id": "dce6cca2",
   "metadata": {},
   "outputs": [
    {
     "name": "stdout",
     "output_type": "stream",
     "text": [
      "점수를 입력하셔요?44\n",
      "학점은 F입니다.\n"
     ]
    }
   ],
   "source": [
    "x = int(input(\"점수를 입력하셔요?\"))\n",
    "if 0 <= x and x < 60 : print(\"학점은 F입니다.\")\n",
    "if 60 <= x and x < 70 : print(\"학점은 D입니다.\")\n",
    "if 70 <= x and x < 80 : print(\"학점은 C입니다.\")\n",
    "if 80 <= x and x < 90 : print(\"학점은 B입니다.\")\n",
    "if 90 <= x and x <= 100 : print(\"학점은 A입니다.\")"
   ]
  },
  {
   "cell_type": "code",
   "execution_count": 34,
   "id": "1f3bc69a",
   "metadata": {},
   "outputs": [
    {
     "name": "stdout",
     "output_type": "stream",
     "text": [
      "영문 알파벳 한글자를 입력하셔요?a\n",
      "소문자 입니다.\n"
     ]
    }
   ],
   "source": [
    "x = input(\"영문 알파벳 한글자를 입력하셔요?\") #input값을 정수형으로 받아 변수 x에 저장한다.\n",
    "if \"a\" <= x and x <= \"z\" : print(\"소문자 입니다.\") #부등호에 \"a\"를 넣으면 b,c,d..차례로 문자가 들어간다.\n",
    "if \"A\" <= x and x <= \"Z\" : print(\"대문자 입니다.\") #대문자도 똑같이 가능"
   ]
  },
  {
   "cell_type": "code",
   "execution_count": 35,
   "id": "0e14f8b7",
   "metadata": {},
   "outputs": [
    {
     "name": "stdout",
     "output_type": "stream",
     "text": [
      "영문 알파벳 한글자를 입력하셔요?A\n",
      "대문자 입니다.\n"
     ]
    }
   ],
   "source": [
    "x = input(\"영문 알파벳 한글자를 입력하셔요?\")\n",
    "if \"a\" <= x and x <= \"z\" : print(\"소문자 입니다.\")\n",
    "if \"A\" <= x and x <= \"Z\" : print(\"대문자 입니다.\")"
   ]
  },
  {
   "cell_type": "code",
   "execution_count": 36,
   "id": "30623885",
   "metadata": {},
   "outputs": [
    {
     "name": "stdout",
     "output_type": "stream",
     "text": [
      "영문 알파벳 한글자를 입력하셔요?S\n",
      "대문자 입니다.\n"
     ]
    }
   ],
   "source": [
    "x = input(\"영문 알파벳 한글자를 입력하셔요?\")\n",
    "if \"a\" <= x and x <= \"z\" : print(\"소문자 입니다.\")\n",
    "if \"A\" <= x and x <= \"Z\" : print(\"대문자 입니다.\")"
   ]
  },
  {
   "cell_type": "code",
   "execution_count": 37,
   "id": "f4847375",
   "metadata": {},
   "outputs": [],
   "source": [
    "a=100 #a에 정수형100을 담아주었다."
   ]
  },
  {
   "cell_type": "code",
   "execution_count": 39,
   "id": "f495e3dc",
   "metadata": {},
   "outputs": [
    {
     "ename": "IndentationError",
     "evalue": "unexpected indent (722847035.py, line 3)",
     "output_type": "error",
     "traceback": [
      "\u001b[1;36m  Input \u001b[1;32mIn [39]\u001b[1;36m\u001b[0m\n\u001b[1;33m    a = a - 50\u001b[0m\n\u001b[1;37m    ^\u001b[0m\n\u001b[1;31mIndentationError\u001b[0m\u001b[1;31m:\u001b[0m unexpected indent\n"
     ]
    }
   ],
   "source": [
    "if a>50:   #100은 50보다 커서 실행문을 실행한다.\n",
    "    print (\"50보다 큰수는 50을 빼겠습니다.\") \n",
    "        a = a - 50  #여기서 에러 발생. 블록이 한칸 밀려있으므로 다른 구조에 된다는 것."
   ]
  },
  {
   "cell_type": "code",
   "execution_count": 40,
   "id": "00e39028",
   "metadata": {},
   "outputs": [
    {
     "name": "stdout",
     "output_type": "stream",
     "text": [
      "50보다 큰수는 50을 빼겠습니다.\n"
     ]
    }
   ],
   "source": [
    "if a>50:\n",
    "    print (\"50보다 큰수는 50을 빼겠습니다.\")\n",
    "    a = a - 50  #블록이 같은 구조로 있으니 실행이 된다. a에서 50을 뺀 값을 저장한다."
   ]
  },
  {
   "cell_type": "code",
   "execution_count": 41,
   "id": "4c60044e",
   "metadata": {},
   "outputs": [
    {
     "name": "stdout",
     "output_type": "stream",
     "text": [
      "50\n"
     ]
    }
   ],
   "source": [
    "print(a)"
   ]
  },
  {
   "cell_type": "code",
   "execution_count": null,
   "id": "3e7ddd26",
   "metadata": {},
   "outputs": [],
   "source": []
  }
 ],
 "metadata": {
  "kernelspec": {
   "display_name": "Python 3 (ipykernel)",
   "language": "python",
   "name": "python3"
  },
  "language_info": {
   "codemirror_mode": {
    "name": "ipython",
    "version": 3
   },
   "file_extension": ".py",
   "mimetype": "text/x-python",
   "name": "python",
   "nbconvert_exporter": "python",
   "pygments_lexer": "ipython3",
   "version": "3.8.8rc1"
  }
 },
 "nbformat": 4,
 "nbformat_minor": 5
}
