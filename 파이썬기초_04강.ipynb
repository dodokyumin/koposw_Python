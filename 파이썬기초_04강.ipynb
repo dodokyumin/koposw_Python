{
 "cells": [
  {
   "cell_type": "code",
   "execution_count": 1,
   "id": "a6cef685",
   "metadata": {},
   "outputs": [
    {
     "data": {
      "text/plain": [
       "2.5"
      ]
     },
     "execution_count": 1,
     "metadata": {},
     "output_type": "execute_result"
    }
   ],
   "source": [
    "1+2*3/4 #일반 산술 연산자는 사칙연산 순으로 계산을 한다. 2*3, /4, +1 순으로,"
   ]
  },
  {
   "cell_type": "code",
   "execution_count": 2,
   "id": "32aa2b47",
   "metadata": {},
   "outputs": [
    {
     "data": {
      "text/plain": [
       "8"
      ]
     },
     "execution_count": 2,
     "metadata": {},
     "output_type": "execute_result"
    }
   ],
   "source": [
    "2**3 #거듭제곱은 **으로 표현한다. 2의3제곱은 8이다."
   ]
  },
  {
   "cell_type": "code",
   "execution_count": 3,
   "id": "28e020a9",
   "metadata": {},
   "outputs": [
    {
     "data": {
      "text/plain": [
       "3.3333333333333335"
      ]
     },
     "execution_count": 3,
     "metadata": {},
     "output_type": "execute_result"
    }
   ],
   "source": [
    "10/3 #3.3333...무한소수에서 표현할 수 있는 자리수 까지만 출력이 됐다."
   ]
  },
  {
   "cell_type": "code",
   "execution_count": 5,
   "id": "a5572462",
   "metadata": {},
   "outputs": [
    {
     "data": {
      "text/plain": [
       "1.23456789012e+23"
      ]
     },
     "execution_count": 5,
     "metadata": {},
     "output_type": "execute_result"
    }
   ],
   "source": [
    " 1e12*123456789012 #16진수 * 정수의 계산"
   ]
  },
  {
   "cell_type": "code",
   "execution_count": 6,
   "id": "3b07584c",
   "metadata": {},
   "outputs": [],
   "source": [
    "a=1+2j #1+2j라는 허수를 변수 a에 대입하여 주었다."
   ]
  },
  {
   "cell_type": "code",
   "execution_count": 7,
   "id": "77611236",
   "metadata": {},
   "outputs": [
    {
     "data": {
      "text/plain": [
       "(124+14j)"
      ]
     },
     "execution_count": 7,
     "metadata": {},
     "output_type": "execute_result"
    }
   ],
   "source": [
    "a+(123+12j) #허수 + 허수의 계산을 하였다."
   ]
  },
  {
   "cell_type": "code",
   "execution_count": 8,
   "id": "93c5aef9",
   "metadata": {},
   "outputs": [
    {
     "data": {
      "text/plain": [
       "2.5"
      ]
     },
     "execution_count": 8,
     "metadata": {},
     "output_type": "execute_result"
    }
   ],
   "source": [
    "5/2 #5를 2로 나눈 몫. 실수형 계산이 디폴트."
   ]
  },
  {
   "cell_type": "code",
   "execution_count": 9,
   "id": "3c1b9ea9",
   "metadata": {},
   "outputs": [
    {
     "data": {
      "text/plain": [
       "2"
      ]
     },
     "execution_count": 9,
     "metadata": {},
     "output_type": "execute_result"
    }
   ],
   "source": [
    "5//2 #하지만 정수형 연산자 //를 사용하면 정수형 아웃풋이 나옴."
   ]
  },
  {
   "cell_type": "code",
   "execution_count": 10,
   "id": "9320a5ec",
   "metadata": {},
   "outputs": [
    {
     "data": {
      "text/plain": [
       "1"
      ]
     },
     "execution_count": 10,
     "metadata": {},
     "output_type": "execute_result"
    }
   ],
   "source": [
    "5%2 #5를 2로 나눈 나머지 1"
   ]
  },
  {
   "cell_type": "code",
   "execution_count": 11,
   "id": "6ecf3604",
   "metadata": {},
   "outputs": [
    {
     "name": "stdout",
     "output_type": "stream",
     "text": [
      "2\n"
     ]
    }
   ],
   "source": [
    "a=1;a=a+1;print(a) #a에 1을 대입. 그 a에 1을 더한 즉 누적한, 총 2를 가진 a가 되고, a를 출력."
   ]
  },
  {
   "cell_type": "code",
   "execution_count": 12,
   "id": "e031bf12",
   "metadata": {},
   "outputs": [
    {
     "name": "stdout",
     "output_type": "stream",
     "text": [
      "2\n"
     ]
    }
   ],
   "source": [
    " a=1;a+=1;print(a) #다시 a를 1로 초기화, a에 1을 더한 값이 a라는 표현. a를 출력."
   ]
  },
  {
   "cell_type": "code",
   "execution_count": 13,
   "id": "c8996383",
   "metadata": {},
   "outputs": [
    {
     "data": {
      "text/plain": [
       "4"
      ]
     },
     "execution_count": 13,
     "metadata": {},
     "output_type": "execute_result"
    }
   ],
   "source": [
    "a*=2;a #기존 a. 2에 2를 곱한 값을 a에 대입. 즉 현재 a는 4이다. a를 출력."
   ]
  },
  {
   "cell_type": "code",
   "execution_count": 14,
   "id": "de49c0b2",
   "metadata": {},
   "outputs": [
    {
     "data": {
      "text/plain": [
       "8"
      ]
     },
     "execution_count": 14,
     "metadata": {},
     "output_type": "execute_result"
    }
   ],
   "source": [
    "a*=2;a #위 13라인의 식을 한번 더 입력하여 누적한다. 4*2는 8. 8이 출력된다."
   ]
  },
  {
   "cell_type": "code",
   "execution_count": 15,
   "id": "a265c0b9",
   "metadata": {},
   "outputs": [
    {
     "data": {
      "text/plain": [
       "0"
      ]
     },
     "execution_count": 15,
     "metadata": {},
     "output_type": "execute_result"
    }
   ],
   "source": [
    "a=1;a-=1;a #1에 a를 넣고, 다시 -1하여 a는 결국 0이 됨"
   ]
  },
  {
   "cell_type": "code",
   "execution_count": 16,
   "id": "f126f48c",
   "metadata": {},
   "outputs": [
    {
     "data": {
      "text/plain": [
       "-1"
      ]
     },
     "execution_count": 16,
     "metadata": {},
     "output_type": "execute_result"
    }
   ],
   "source": [
    "a-=1;a #기존 a에 -1한 값을 a로 저장한다는 뜻. 즉 -1이 된다."
   ]
  },
  {
   "cell_type": "code",
   "execution_count": 17,
   "id": "973bcd31",
   "metadata": {},
   "outputs": [],
   "source": [
    "a=1 #a에 1을 대입"
   ]
  },
  {
   "cell_type": "code",
   "execution_count": 18,
   "id": "e07b3987",
   "metadata": {},
   "outputs": [
    {
     "ename": "SyntaxError",
     "evalue": "invalid syntax (1277751513.py, line 1)",
     "output_type": "error",
     "traceback": [
      "\u001b[1;36m  Input \u001b[1;32mIn [18]\u001b[1;36m\u001b[0m\n\u001b[1;33m    a++\u001b[0m\n\u001b[1;37m       ^\u001b[0m\n\u001b[1;31mSyntaxError\u001b[0m\u001b[1;31m:\u001b[0m invalid syntax\n"
     ]
    }
   ],
   "source": [
    "a++ # ++ -- 이 표현식은 c나 java에만 있고 파이썬에는 해당되지 않는다. += 1 이나 -= 1 으로 입력해야함."
   ]
  },
  {
   "cell_type": "code",
   "execution_count": 19,
   "id": "133cee10",
   "metadata": {},
   "outputs": [
    {
     "ename": "SyntaxError",
     "evalue": "invalid syntax (1562500846.py, line 1)",
     "output_type": "error",
     "traceback": [
      "\u001b[1;36m  Input \u001b[1;32mIn [19]\u001b[1;36m\u001b[0m\n\u001b[1;33m    a--\u001b[0m\n\u001b[1;37m       ^\u001b[0m\n\u001b[1;31mSyntaxError\u001b[0m\u001b[1;31m:\u001b[0m invalid syntax\n"
     ]
    }
   ],
   "source": [
    "a--  # ++ -- 이 표현식은 c나 java에만 있고 파이썬에는 해당되지 않는다. += 1 이나 -= 1 으로 입력해야함."
   ]
  },
  {
   "cell_type": "code",
   "execution_count": 30,
   "id": "345f88df",
   "metadata": {},
   "outputs": [
    {
     "data": {
      "text/plain": [
       "1"
      ]
     },
     "execution_count": 30,
     "metadata": {},
     "output_type": "execute_result"
    }
   ],
   "source": [
    "a=+ 1; a # =+는 우항의 값을 양수로 변수에 저장한다는 뜻이다."
   ]
  },
  {
   "cell_type": "code",
   "execution_count": 29,
   "id": "7951f78d",
   "metadata": {},
   "outputs": [
    {
     "data": {
      "text/plain": [
       "-1"
      ]
     },
     "execution_count": 29,
     "metadata": {},
     "output_type": "execute_result"
    }
   ],
   "source": [
    "a=- 1 ;a # =-는 우항의 값을 음수로 변수에 저장한다는 뜻이다."
   ]
  },
  {
   "cell_type": "code",
   "execution_count": 31,
   "id": "7ccfdba2",
   "metadata": {},
   "outputs": [],
   "source": [
    "a=\"멍멍이\" #변수 a에 문자형 데이터 \"멍멍이\"를 대입하여 주었다"
   ]
  },
  {
   "cell_type": "code",
   "execution_count": 33,
   "id": "a2ad26b7",
   "metadata": {},
   "outputs": [],
   "source": [
    "b=\"고양이\" #변수 b에 문자형 데이터 \"고양이\"를 대입하여 주었다"
   ]
  },
  {
   "cell_type": "code",
   "execution_count": 34,
   "id": "05b34a28",
   "metadata": {},
   "outputs": [
    {
     "data": {
      "text/plain": [
       "'멍멍이고양이'"
      ]
     },
     "execution_count": 34,
     "metadata": {},
     "output_type": "execute_result"
    }
   ],
   "source": [
    "a+b #문자형 변수의 덧셈은 문자열을 이어붙이는 것으로 처리된다."
   ]
  },
  {
   "cell_type": "code",
   "execution_count": 35,
   "id": "64957d19",
   "metadata": {},
   "outputs": [
    {
     "data": {
      "text/plain": [
       "'멍멍이멍멍이멍멍이고양이고양이'"
      ]
     },
     "execution_count": 35,
     "metadata": {},
     "output_type": "execute_result"
    }
   ],
   "source": [
    "a*3+b*2 #문자형 변수의 곱셈또한 문자열을 이어붙이는 것으로 처리된다."
   ]
  },
  {
   "cell_type": "code",
   "execution_count": 36,
   "id": "d4d7bc04",
   "metadata": {},
   "outputs": [
    {
     "data": {
      "text/plain": [
       "'--------------------'"
      ]
     },
     "execution_count": 36,
     "metadata": {},
     "output_type": "execute_result"
    }
   ],
   "source": [
    "\"-\"*20 #문자형 변수의 곱셈또한 문자열을 이어붙이는 것으로 처리되므로 \"-\"가 20번 출력된다."
   ]
  },
  {
   "cell_type": "code",
   "execution_count": 37,
   "id": "45596b05",
   "metadata": {},
   "outputs": [],
   "source": [
    "a=1 #몇마리인지 표현할 정수를 a에 담아주는데 이때 변수 a도 자료형이 정수형으로 됨,"
   ]
  },
  {
   "cell_type": "code",
   "execution_count": 38,
   "id": "77489ef6",
   "metadata": {},
   "outputs": [
    {
     "ename": "TypeError",
     "evalue": "can only concatenate str (not \"int\") to str",
     "output_type": "error",
     "traceback": [
      "\u001b[1;31m---------------------------------------------------------------------------\u001b[0m",
      "\u001b[1;31mTypeError\u001b[0m                                 Traceback (most recent call last)",
      "Input \u001b[1;32mIn [38]\u001b[0m, in \u001b[0;36m<cell line: 1>\u001b[1;34m()\u001b[0m\n\u001b[1;32m----> 1\u001b[0m b\u001b[38;5;241m=\u001b[39m\u001b[38;5;124;43m\"\u001b[39;49m\u001b[38;5;124;43m강아지\u001b[39;49m\u001b[38;5;124;43m\"\u001b[39;49m\u001b[38;5;241;43m+\u001b[39;49m\u001b[43ma\u001b[49m\u001b[38;5;241m+\u001b[39m\u001b[38;5;124m\"\u001b[39m\u001b[38;5;124m마리\u001b[39m\u001b[38;5;124m\"\u001b[39m\n",
      "\u001b[1;31mTypeError\u001b[0m: can only concatenate str (not \"int\") to str"
     ]
    }
   ],
   "source": [
    "b=\"강아지\"+a+\"마리\" #\"강아지\"와 \"마리\"는 문자형인데 문자형과 정수형a는 서로 더할 수 없으므로 에러가 뜬다."
   ]
  },
  {
   "cell_type": "code",
   "execution_count": 39,
   "id": "da8074d5",
   "metadata": {},
   "outputs": [],
   "source": [
    "b=\"강아지\"+str(a)+\"마리\" #그리하여 str() 타입캐스팅 메소드 안에 a를 파라미터로 넣어주어 정수형을 문자형으로 변환하여 더해줌."
   ]
  },
  {
   "cell_type": "code",
   "execution_count": 40,
   "id": "43995773",
   "metadata": {},
   "outputs": [
    {
     "data": {
      "text/plain": [
       "'강아지1마리'"
      ]
     },
     "execution_count": 40,
     "metadata": {},
     "output_type": "execute_result"
    }
   ],
   "source": [
    "b #문자형 + 문자형 + 문자형 이므로 수식이 에러없이 실행이 된다."
   ]
  },
  {
   "cell_type": "code",
   "execution_count": 41,
   "id": "a05a5fa7",
   "metadata": {},
   "outputs": [
    {
     "data": {
      "text/plain": [
       "44032"
      ]
     },
     "execution_count": 41,
     "metadata": {},
     "output_type": "execute_result"
    }
   ],
   "source": [
    "ord(\"가\") #문자형을 다루는 ord()함수는 문자의 내부코드 값을 반환하는 함수이다. 가 의 내부코드는 44032"
   ]
  },
  {
   "cell_type": "code",
   "execution_count": 42,
   "id": "e58837cd",
   "metadata": {},
   "outputs": [
    {
     "data": {
      "text/plain": [
       "'0x61'"
      ]
     },
     "execution_count": 42,
     "metadata": {},
     "output_type": "execute_result"
    }
   ],
   "source": [
    "hex(ord(\"a\")) #ord함수 위에 hex()함수를 덮어 16진수로 변형을 해주어 출력을 한다."
   ]
  },
  {
   "cell_type": "code",
   "execution_count": 43,
   "id": "f74e1efa",
   "metadata": {
    "scrolled": true
   },
   "outputs": [
    {
     "name": "stdout",
     "output_type": "stream",
     "text": [
      "0x61 = a , 0x62 = b , 0x63 = c , 0x64 = d , 0x65 = e , 0x66 = f , 0x67 = g , 0x68 = h , 0x69 = i , 0x6a = j , 0x6b = k , 0x6c = l , 0x6d = m , 0x6e = n , 0x6f = o , 0x70 = p , 0x71 = q , 0x72 = r , 0x73 = s , 0x74 = t , 0x75 = u , 0x76 = v , 0x77 = w , 0x78 = x , 0x79 = y , 0x7a = z , "
     ]
    }
   ],
   "source": [
    "for c in range (ord('a'), ord('z')+1): #파이썬의 for문에서 range()는 어떤 정수를 인자로 주면 그 범위안의 정수들을 만들어\n",
    "    #준다는 뜻이다.즉 'a'와 'z'가 정수형이 되었고 a부터 z까지(+1없으면 y) 범위를 설정해준 것이다.\n",
    "    #해당 범위의 수 만큼 변수 c에 적용을 하여 반복을 돌린다.\n",
    "        print(hex(c),\"=\",chr(c),\", \",end=\"\") #c를 받아 hex()를 씌워 16진수로 표현, chr()을 씌워 캐릭터를 출력."
   ]
  },
  {
   "cell_type": "code",
   "execution_count": 44,
   "id": "85a5b895",
   "metadata": {},
   "outputs": [
    {
     "ename": "TypeError",
     "evalue": "can only concatenate str (not \"int\") to str",
     "output_type": "error",
     "traceback": [
      "\u001b[1;31m---------------------------------------------------------------------------\u001b[0m",
      "\u001b[1;31mTypeError\u001b[0m                                 Traceback (most recent call last)",
      "Input \u001b[1;32mIn [44]\u001b[0m, in \u001b[0;36m<cell line: 1>\u001b[1;34m()\u001b[0m\n\u001b[1;32m----> 1\u001b[0m a\u001b[38;5;241m=\u001b[39m\u001b[38;5;124m\"\u001b[39m\u001b[38;5;124m123\u001b[39m\u001b[38;5;124m\"\u001b[39m; \u001b[43ma\u001b[49m\u001b[38;5;241;43m+\u001b[39;49m\u001b[38;5;241;43m1\u001b[39;49m\n",
      "\u001b[1;31mTypeError\u001b[0m: can only concatenate str (not \"int\") to str"
     ]
    }
   ],
   "source": [
    "a=\"123\"; a+1 #a는 \"\"로 싸여있어 문자형인데 여기에 정수형 1을 더하면 서로 자료형이 맞지 않아서 당연 오류발생"
   ]
  },
  {
   "cell_type": "code",
   "execution_count": 45,
   "id": "894a2c33",
   "metadata": {},
   "outputs": [
    {
     "data": {
      "text/plain": [
       "124"
      ]
     },
     "execution_count": 45,
     "metadata": {},
     "output_type": "execute_result"
    }
   ],
   "source": [
    "a=\"123\"; int(a)+1 #이때 문자형을 int()로 묶어 정수형으로 타입캐스팅해주어 123을 만들고 1을 더하여 124를 만들었다."
   ]
  },
  {
   "cell_type": "code",
   "execution_count": 46,
   "id": "29f6686e",
   "metadata": {},
   "outputs": [
    {
     "data": {
      "text/plain": [
       "12"
      ]
     },
     "execution_count": 46,
     "metadata": {},
     "output_type": "execute_result"
    }
   ],
   "source": [
    " a=12.3; int(a) #실수형에 int()로 정수형을 씌우면 java에서와 같이 소수점은 버림처리되어 정수형만 출력이 된다."
   ]
  },
  {
   "cell_type": "code",
   "execution_count": 47,
   "id": "51ce4da7",
   "metadata": {},
   "outputs": [
    {
     "ename": "ValueError",
     "evalue": "invalid literal for int() with base 10: '12.3'",
     "output_type": "error",
     "traceback": [
      "\u001b[1;31m---------------------------------------------------------------------------\u001b[0m",
      "\u001b[1;31mValueError\u001b[0m                                Traceback (most recent call last)",
      "Input \u001b[1;32mIn [47]\u001b[0m, in \u001b[0;36m<cell line: 1>\u001b[1;34m()\u001b[0m\n\u001b[1;32m----> 1\u001b[0m a\u001b[38;5;241m=\u001b[39m\u001b[38;5;124m\"\u001b[39m\u001b[38;5;124m12.3\u001b[39m\u001b[38;5;124m\"\u001b[39m;\u001b[38;5;28;43mint\u001b[39;49m\u001b[43m(\u001b[49m\u001b[43ma\u001b[49m\u001b[43m)\u001b[49m\n",
      "\u001b[1;31mValueError\u001b[0m: invalid literal for int() with base 10: '12.3'"
     ]
    }
   ],
   "source": [
    "a=\"12.3\";int(a) #a에 \"12.3\"이라는 문자형을 넣어줬고, int()로 형 변환을 했지만 기존 12.3은 실수이기 때문에 에러 발생."
   ]
  },
  {
   "cell_type": "code",
   "execution_count": 48,
   "id": "eb454079",
   "metadata": {},
   "outputs": [
    {
     "data": {
      "text/plain": [
       "12.3"
      ]
     },
     "execution_count": 48,
     "metadata": {},
     "output_type": "execute_result"
    }
   ],
   "source": [
    "float(a) #a 12.3 를 실수형 타입캐스팅 float()을 씌워주었기 때문에 실수형으로 문제없이 변환 됨"
   ]
  },
  {
   "cell_type": "code",
   "execution_count": 49,
   "id": "af658a80",
   "metadata": {},
   "outputs": [
    {
     "data": {
      "text/plain": [
       "14.1"
      ]
     },
     "execution_count": 49,
     "metadata": {},
     "output_type": "execute_result"
    }
   ],
   "source": [
    "a=1.1;1+a+12 # a는 실수형이고, 여기에 정수형 연산을 더해봤자 실수형으로 계산이 됨"
   ]
  },
  {
   "cell_type": "code",
   "execution_count": 51,
   "id": "a3f6403a",
   "metadata": {},
   "outputs": [
    {
     "data": {
      "text/plain": [
       "14"
      ]
     },
     "execution_count": 51,
     "metadata": {},
     "output_type": "execute_result"
    }
   ],
   "source": [
    "1+int(a)+12 #실수형a를 정수형으로 바꾸면 소수점은 버리게 되고 정수형+정수형+정수형 이므로 14가 출력이 됨."
   ]
  },
  {
   "cell_type": "code",
   "execution_count": 52,
   "id": "75e3dbec",
   "metadata": {},
   "outputs": [
    {
     "data": {
      "text/plain": [
       "3"
      ]
     },
     "execution_count": 52,
     "metadata": {},
     "output_type": "execute_result"
    }
   ],
   "source": [
    "int(3.14) #소수형을 정수형으로 바꾸면 소수점 밑 자리들은 버림처리"
   ]
  },
  {
   "cell_type": "code",
   "execution_count": 56,
   "id": "934d2f30",
   "metadata": {},
   "outputs": [
    {
     "data": {
      "text/plain": [
       "3"
      ]
     },
     "execution_count": 56,
     "metadata": {},
     "output_type": "execute_result"
    }
   ],
   "source": [
    "round(3.14) #소수형을 round()메소드로 반올림하면 .14는 버림이 된다. 그래서 출력값은 3"
   ]
  },
  {
   "cell_type": "code",
   "execution_count": 57,
   "id": "c52283f7",
   "metadata": {},
   "outputs": [
    {
     "data": {
      "text/plain": [
       "3.1"
      ]
     },
     "execution_count": 57,
     "metadata": {},
     "output_type": "execute_result"
    }
   ],
   "source": [
    "round(3.14,1) #round()메소드로 두번째 인자의 자릿수까지 반올림 한다. 그래서 .04는 버림이 되어 3.1이됨"
   ]
  },
  {
   "cell_type": "code",
   "execution_count": 58,
   "id": "ea18bcb7",
   "metadata": {},
   "outputs": [
    {
     "data": {
      "text/plain": [
       "120000"
      ]
     },
     "execution_count": 58,
     "metadata": {},
     "output_type": "execute_result"
    }
   ],
   "source": [
    "round(123456,-4) #그래서 -4는 해당 자리이상에서 반올림 하므로 만의자리.120000이 된다."
   ]
  },
  {
   "cell_type": "code",
   "execution_count": 59,
   "id": "2ad44797",
   "metadata": {},
   "outputs": [],
   "source": [
    "a=1234567"
   ]
  },
  {
   "cell_type": "code",
   "execution_count": 61,
   "id": "e330fa7f",
   "metadata": {},
   "outputs": [],
   "source": [
    "if(a%1000 != 0 ) : #1000으로 나누어 나머지가 있다면\n",
    "    a=int(a/1000)*1000+1000 #버린값에다 한자리를 올려 줌\n",
    "else:\n",
    "    a=int(a/1000)*1000"
   ]
  },
  {
   "cell_type": "code",
   "execution_count": 62,
   "id": "098aa51d",
   "metadata": {},
   "outputs": [
    {
     "data": {
      "text/plain": [
       "1235000"
      ]
     },
     "execution_count": 62,
     "metadata": {},
     "output_type": "execute_result"
    }
   ],
   "source": [
    "a #a는 1234567이고, 1000으로 나눴을 때 나머지가 있으므로 버린 값에다 한자리를 올려주어 1235000이 되었다."
   ]
  },
  {
   "cell_type": "code",
   "execution_count": null,
   "id": "a526fb4b",
   "metadata": {},
   "outputs": [],
   "source": []
  }
 ],
 "metadata": {
  "kernelspec": {
   "display_name": "Python 3 (ipykernel)",
   "language": "python",
   "name": "python3"
  },
  "language_info": {
   "codemirror_mode": {
    "name": "ipython",
    "version": 3
   },
   "file_extension": ".py",
   "mimetype": "text/x-python",
   "name": "python",
   "nbconvert_exporter": "python",
   "pygments_lexer": "ipython3",
   "version": "3.8.8rc1"
  }
 },
 "nbformat": 4,
 "nbformat_minor": 5
}
