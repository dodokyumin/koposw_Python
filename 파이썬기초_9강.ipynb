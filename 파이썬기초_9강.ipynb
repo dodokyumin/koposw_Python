{
 "cells": [
  {
   "cell_type": "code",
   "execution_count": 1,
   "id": "0e46b3e8",
   "metadata": {},
   "outputs": [],
   "source": [
    "a={\"이름\":\"홍길동\", \"국어\":100, \"영어\":88, \"수학\": 95} #파이썬에서 중괄호로 묶여있으면 세트이다!"
   ]
  },
  {
   "cell_type": "code",
   "execution_count": 2,
   "id": "94d4d994",
   "metadata": {},
   "outputs": [
    {
     "data": {
      "text/plain": [
       "95"
      ]
     },
     "execution_count": 2,
     "metadata": {},
     "output_type": "execute_result"
    }
   ],
   "source": [
    "a[\"수학\"] #키워드 수학으로 묷인 값을 가져온다."
   ]
  },
  {
   "cell_type": "code",
   "execution_count": 3,
   "id": "8e42aaed",
   "metadata": {},
   "outputs": [
    {
     "data": {
      "text/plain": [
       "'홍길동'"
      ]
     },
     "execution_count": 3,
     "metadata": {},
     "output_type": "execute_result"
    }
   ],
   "source": [
    "a[\"이름\"] #키워드 이름으로 묷인 값을 가져온다."
   ]
  },
  {
   "cell_type": "code",
   "execution_count": 4,
   "id": "ed468b20",
   "metadata": {},
   "outputs": [
    {
     "data": {
      "text/plain": [
       "dict_keys(['이름', '국어', '영어', '수학'])"
      ]
     },
     "execution_count": 4,
     "metadata": {},
     "output_type": "execute_result"
    }
   ],
   "source": [
    "a.keys() #keys()메소드를 통해 키워드의 이름들을 가져올 수 있다"
   ]
  },
  {
   "cell_type": "code",
   "execution_count": 5,
   "id": "b2893429",
   "metadata": {},
   "outputs": [
    {
     "data": {
      "text/plain": [
       "dict_values(['홍길동', 100, 88, 95])"
      ]
     },
     "execution_count": 5,
     "metadata": {},
     "output_type": "execute_result"
    }
   ],
   "source": [
    "a.values() #values()메소드를 통해 키워드의 값들을 가져올 수 있다"
   ]
  },
  {
   "cell_type": "code",
   "execution_count": 6,
   "id": "5b680305",
   "metadata": {},
   "outputs": [
    {
     "data": {
      "text/plain": [
       "dict_items([('이름', '홍길동'), ('국어', 100), ('영어', 88), ('수학', 95)])"
      ]
     },
     "execution_count": 6,
     "metadata": {},
     "output_type": "execute_result"
    }
   ],
   "source": [
    "a.items() #items()메소드를 통해 키워드의 아이템들을 가져올 수 있다"
   ]
  },
  {
   "cell_type": "code",
   "execution_count": 8,
   "id": "7b3f866a",
   "metadata": {},
   "outputs": [
    {
     "name": "stdout",
     "output_type": "stream",
     "text": [
      "('이름', '홍길동'),('국어', 100),('영어', 88),('수학', 95),"
     ]
    }
   ],
   "source": [
    "for i in a.items(): #아이템을 가져오는 메소드를 통해 각각의 메소드를 반복문으로 프린트할 수 있다.\n",
    "    print (i,end=\",\")"
   ]
  },
  {
   "cell_type": "code",
   "execution_count": 10,
   "id": "24d898e2",
   "metadata": {},
   "outputs": [
    {
     "name": "stdout",
     "output_type": "stream",
     "text": [
      "이름,국어,영어,수학,"
     ]
    }
   ],
   "source": [
    "for i in a.keys(): #키를 가져오는 메소드를 통해 각각의 메소드를 반복문으로 프린트할 수 있다.\n",
    "    print (i,end=\",\")"
   ]
  },
  {
   "cell_type": "code",
   "execution_count": 11,
   "id": "4643028e",
   "metadata": {},
   "outputs": [
    {
     "name": "stdout",
     "output_type": "stream",
     "text": [
      "홍길동,100,88,95,"
     ]
    }
   ],
   "source": [
    "for i in a.values(): #값들을 가져오는 메소드를 통해 각각의 메소드를 반복문으로 프린트할 수 있다.\n",
    "    print (i,end=\",\")"
   ]
  },
  {
   "cell_type": "code",
   "execution_count": 12,
   "id": "9c94d876",
   "metadata": {},
   "outputs": [
    {
     "name": "stdout",
     "output_type": "stream",
     "text": [
      "None\n"
     ]
    }
   ],
   "source": [
    "print(a.get(\"과학\"))"
   ]
  },
  {
   "cell_type": "code",
   "execution_count": 13,
   "id": "d8761a18",
   "metadata": {},
   "outputs": [
    {
     "name": "stdout",
     "output_type": "stream",
     "text": [
      "없는과목입니다\n"
     ]
    }
   ],
   "source": [
    "print(a.get(\"과학\",\"없는과목입니다\"))"
   ]
  },
  {
   "cell_type": "code",
   "execution_count": 14,
   "id": "20b2b83c",
   "metadata": {},
   "outputs": [
    {
     "name": "stdout",
     "output_type": "stream",
     "text": [
      "95\n"
     ]
    }
   ],
   "source": [
    "print(a.get(\"수학\",\"없는과목입니다\"))"
   ]
  },
  {
   "cell_type": "code",
   "execution_count": 15,
   "id": "1bf39d01",
   "metadata": {
    "scrolled": false
   },
   "outputs": [
    {
     "name": "stdout",
     "output_type": "stream",
     "text": [
      "{'안': 1, '녕': 1, '하': 1, '셔': 1, '요': 3, '.': 2, ' ': 11, '오': 1, '늘': 1, '은': 2, '날': 1, '씨': 1, '가': 2, '매': 2, '우': 2, '화': 1, '창': 1, '합': 1, '니': 1, '다': 1, '\\n': 2, '그': 1, '래': 1, '서': 1, '기': 2, '분': 2, '이': 2, '좋': 2, '네': 1, '너': 1, '도': 1, '랄': 3, '라': 7, 'a': 1, 'b': 1, 'c': 1, '임': 1, '마': 1}\n"
     ]
    }
   ],
   "source": [
    "text=\"\"\"안녕하셔요. 오늘은 날씨가 매우 화창합니다.\n",
    "그래서 기분이 매우 좋네요\n",
    "너도 기분이 좋은가요 랄라랄랄라라라라라라 abc임마\"\"\"\n",
    "\n",
    "a=dict() #딕셔너리 자료형을 정의할 때에는 dicr()\n",
    "for c in text: #위 텍스트를 한개한개씩 추출하여 변수 c에 담고 아래 코드에 적용\n",
    "    if c not in a: # 변수 c에 담긴 값이 a딕셔너리 안에 없으면(not in)\n",
    "        a[c]=1 #최초 1값으로 설정\n",
    "    else: #이 경우는 해당 추출글자의 딕셔너리가 있다는 경우\n",
    "        a[c] +=1 #중복 횟수만큼 더하기\n",
    "print(a)"
   ]
  },
  {
   "cell_type": "code",
   "execution_count": 17,
   "id": "a2b04642",
   "metadata": {},
   "outputs": [
    {
     "name": "stdout",
     "output_type": "stream",
     "text": [
      "{'\\n': 2, ' ': 11, '.': 2, 'a': 1, 'b': 1, 'c': 1, '가': 2, '그': 1, '기': 2, '날': 1, '너': 1, '네': 1, '녕': 1, '늘': 1, '니': 1, '다': 1, '도': 1, '라': 7, '랄': 3, '래': 1, '마': 1, '매': 2, '분': 2, '서': 1, '셔': 1, '씨': 1, '안': 1, '오': 1, '요': 3, '우': 2, '은': 2, '이': 2, '임': 1, '좋': 2, '창': 1, '하': 1, '합': 1, '화': 1}\n"
     ]
    }
   ],
   "source": [
    "b=dict() #딕셔너리 자료형을 정의할 때에는 dicr()\n",
    "l=list(a.keys()) #앞에 딕셔너리의 키를 뽑아와서 그 키들로 리스트를 만든다.\n",
    "l.sort() #방금 만든 리스트를 소트한다.\n",
    "for c in l: #리스트의 각 요소에 변수로 대입하여 \n",
    "    b[c]=a[c] # 새로운 딕셔너리는 키값 순서대로 (소트 되어 있으니) 다시 만듦\n",
    "print(b)"
   ]
  },
  {
   "cell_type": "code",
   "execution_count": 18,
   "id": "7be92ff8",
   "metadata": {},
   "outputs": [],
   "source": [
    "a={1,2,2,2,2,3,3,3,4,5} #집합은 중괄호로 요소들이 묶여있는 데이터이다."
   ]
  },
  {
   "cell_type": "code",
   "execution_count": 19,
   "id": "021b8631",
   "metadata": {},
   "outputs": [
    {
     "data": {
      "text/plain": [
       "{1, 2, 3, 4, 5}"
      ]
     },
     "execution_count": 19,
     "metadata": {},
     "output_type": "execute_result"
    }
   ],
   "source": [
    "a #집합은 hashset처럼 중복을 받지 않는다! 그리고 오름차순으로 정리해준다!! "
   ]
  },
  {
   "cell_type": "code",
   "execution_count": 20,
   "id": "dce73a5e",
   "metadata": {},
   "outputs": [
    {
     "data": {
      "text/plain": [
       "{1, 2, 'a'}"
      ]
     },
     "execution_count": 20,
     "metadata": {},
     "output_type": "execute_result"
    }
   ],
   "source": [
    "set((\"a\",1,2)) #세트 함수로 집합(세트)를 만들 수도 있다. 인자들을 받은걸로."
   ]
  },
  {
   "cell_type": "code",
   "execution_count": 21,
   "id": "b69e3654",
   "metadata": {},
   "outputs": [
    {
     "data": {
      "text/plain": [
       "{'a'}"
      ]
     },
     "execution_count": 21,
     "metadata": {},
     "output_type": "execute_result"
    }
   ],
   "source": [
    "set(\"a\") #한개만 해도 생김"
   ]
  },
  {
   "cell_type": "code",
   "execution_count": 23,
   "id": "1072528b",
   "metadata": {},
   "outputs": [
    {
     "data": {
      "text/plain": [
       "{'국어', '수학', '영어', '이름'}"
      ]
     },
     "execution_count": 23,
     "metadata": {},
     "output_type": "execute_result"
    }
   ],
   "source": [
    " set({\"이름\":\"홍길동\", \"국어\":100, \n",
    "\"영어\":88, \"수학\": 95}) #딕셔너리 타입은 키만 집합으로 변환된다. "
   ]
  },
  {
   "cell_type": "code",
   "execution_count": 24,
   "id": "ba075374",
   "metadata": {},
   "outputs": [],
   "source": [
    "a={1,2,3,4,5} #집합은 중괄호로 요소들이 묶여있는 데이터이다."
   ]
  },
  {
   "cell_type": "code",
   "execution_count": 25,
   "id": "01b9f441",
   "metadata": {},
   "outputs": [
    {
     "data": {
      "text/plain": [
       "{1, 2, 3, 4, 5}"
      ]
     },
     "execution_count": 25,
     "metadata": {},
     "output_type": "execute_result"
    }
   ],
   "source": [
    "a"
   ]
  },
  {
   "cell_type": "code",
   "execution_count": 26,
   "id": "fe884972",
   "metadata": {},
   "outputs": [],
   "source": [
    "a.add(0) #집합에 add를 넣어주어 값을 추가. 하지만 소트 되므로 순서는 알아서 정해짐"
   ]
  },
  {
   "cell_type": "code",
   "execution_count": 27,
   "id": "d9d94797",
   "metadata": {},
   "outputs": [
    {
     "data": {
      "text/plain": [
       "{0, 1, 2, 3, 4, 5}"
      ]
     },
     "execution_count": 27,
     "metadata": {},
     "output_type": "execute_result"
    }
   ],
   "source": [
    "a"
   ]
  },
  {
   "cell_type": "code",
   "execution_count": 28,
   "id": "8536183f",
   "metadata": {},
   "outputs": [],
   "source": [
    "a.add(2.4) #2.4를 추가해봄"
   ]
  },
  {
   "cell_type": "code",
   "execution_count": 29,
   "id": "4a64f40d",
   "metadata": {},
   "outputs": [
    {
     "data": {
      "text/plain": [
       "{0, 1, 2, 2.4, 3, 4, 5}"
      ]
     },
     "execution_count": 29,
     "metadata": {},
     "output_type": "execute_result"
    }
   ],
   "source": [
    "a"
   ]
  },
  {
   "cell_type": "code",
   "execution_count": 30,
   "id": "1370ecd0",
   "metadata": {},
   "outputs": [],
   "source": [
    "a.remove(3) #3을 지워봄"
   ]
  },
  {
   "cell_type": "code",
   "execution_count": 31,
   "id": "ff51490a",
   "metadata": {},
   "outputs": [
    {
     "data": {
      "text/plain": [
       "{0, 1, 2, 2.4, 4, 5}"
      ]
     },
     "execution_count": 31,
     "metadata": {},
     "output_type": "execute_result"
    }
   ],
   "source": [
    "a"
   ]
  },
  {
   "cell_type": "code",
   "execution_count": 32,
   "id": "1d51a988",
   "metadata": {},
   "outputs": [],
   "source": [
    "A={1,2,3,4,5,6,7} #집합(세트) 정의를 해준다."
   ]
  },
  {
   "cell_type": "code",
   "execution_count": 41,
   "id": "fae27235",
   "metadata": {},
   "outputs": [],
   "source": [
    "B={7,8,9,10}"
   ]
  },
  {
   "cell_type": "code",
   "execution_count": 42,
   "id": "a8f84520",
   "metadata": {},
   "outputs": [
    {
     "data": {
      "text/plain": [
       "{1, 2, 3, 4, 5, 6, 7, 8, 9, 10}"
      ]
     },
     "execution_count": 42,
     "metadata": {},
     "output_type": "execute_result"
    }
   ],
   "source": [
    "A|B #집합 연산의 합집합 (중복은 받지 않는다 집합엔 중복이 없다@!)"
   ]
  },
  {
   "cell_type": "code",
   "execution_count": 43,
   "id": "8914e3e5",
   "metadata": {},
   "outputs": [
    {
     "data": {
      "text/plain": [
       "{7}"
      ]
     },
     "execution_count": 43,
     "metadata": {},
     "output_type": "execute_result"
    }
   ],
   "source": [
    "A&B #집합의 교집합"
   ]
  },
  {
   "cell_type": "code",
   "execution_count": 40,
   "id": "e0ff1dc4",
   "metadata": {},
   "outputs": [
    {
     "data": {
      "text/plain": [
       "{2, 3, 4, 5, 6}"
      ]
     },
     "execution_count": 40,
     "metadata": {},
     "output_type": "execute_result"
    }
   ],
   "source": [
    "A-B #차집합 구하기"
   ]
  },
  {
   "cell_type": "code",
   "execution_count": 50,
   "id": "565ad749",
   "metadata": {},
   "outputs": [
    {
     "data": {
      "text/plain": [
       "False"
      ]
     },
     "execution_count": 50,
     "metadata": {},
     "output_type": "execute_result"
    }
   ],
   "source": [
    "{1,2,3} < {1,2} #집합의 크기를 비교한다. 3<2는 false"
   ]
  },
  {
   "cell_type": "code",
   "execution_count": 45,
   "id": "14095a21",
   "metadata": {},
   "outputs": [
    {
     "data": {
      "text/plain": [
       "True"
      ]
     },
     "execution_count": 45,
     "metadata": {},
     "output_type": "execute_result"
    }
   ],
   "source": [
    "{1,2,3} > {1,2} #3>2는 true"
   ]
  },
  {
   "cell_type": "code",
   "execution_count": 46,
   "id": "d1401dc4",
   "metadata": {},
   "outputs": [
    {
     "data": {
      "text/plain": [
       "True"
      ]
     },
     "execution_count": 46,
     "metadata": {},
     "output_type": "execute_result"
    }
   ],
   "source": [
    "{1,2,3} >= {1,2} #3>=2 true"
   ]
  },
  {
   "cell_type": "code",
   "execution_count": 47,
   "id": "11c13f70",
   "metadata": {},
   "outputs": [
    {
     "data": {
      "text/plain": [
       "False"
      ]
     },
     "execution_count": 47,
     "metadata": {},
     "output_type": "execute_result"
    }
   ],
   "source": [
    "{1,2,3} == {1,2} #3 == 2 false"
   ]
  },
  {
   "cell_type": "code",
   "execution_count": 48,
   "id": "fa9cfd54",
   "metadata": {},
   "outputs": [
    {
     "data": {
      "text/plain": [
       "True"
      ]
     },
     "execution_count": 48,
     "metadata": {},
     "output_type": "execute_result"
    }
   ],
   "source": [
    "{1,2,3} >= {3,1,2} #3>=3 True"
   ]
  },
  {
   "cell_type": "code",
   "execution_count": 49,
   "id": "e5dabc7b",
   "metadata": {},
   "outputs": [
    {
     "data": {
      "text/plain": [
       "True"
      ]
     },
     "execution_count": 49,
     "metadata": {},
     "output_type": "execute_result"
    }
   ],
   "source": [
    "{1,2,3} == {3,1,2} #3==3 True"
   ]
  },
  {
   "cell_type": "code",
   "execution_count": 51,
   "id": "9b961dbf",
   "metadata": {},
   "outputs": [],
   "source": [
    "a=[\"a\",\"b\",\"c\",\"d\",\"e\"] #대괄호로 묶여있으면 리스트"
   ]
  },
  {
   "cell_type": "code",
   "execution_count": 52,
   "id": "066c3ad6",
   "metadata": {},
   "outputs": [],
   "source": [
    "b={} #중괄호로 묶여있으면 집합(세트)"
   ]
  },
  {
   "cell_type": "code",
   "execution_count": 53,
   "id": "76795bfb",
   "metadata": {},
   "outputs": [],
   "source": [
    "for i in range (len(a)): #리스트의 인덱스에 하나씩 접근하여 b집합에 담는다. 이때 대괄호에 담으면\n",
    "    #딕셔너리로 키워드는 0부터 자동으로 매겨져 저장된다.\n",
    "    b[i]=a[i] "
   ]
  },
  {
   "cell_type": "code",
   "execution_count": 54,
   "id": "0c644f56",
   "metadata": {},
   "outputs": [
    {
     "data": {
      "text/plain": [
       "{0: 'a', 1: 'b', 2: 'c', 3: 'd', 4: 'e'}"
      ]
     },
     "execution_count": 54,
     "metadata": {},
     "output_type": "execute_result"
    }
   ],
   "source": [
    "b"
   ]
  },
  {
   "cell_type": "code",
   "execution_count": 55,
   "id": "9f23e03f",
   "metadata": {},
   "outputs": [],
   "source": [
    "a=[\"a\",\"b\",\"c\",\"d\",\"e\"] #a리스트에 각 요소들을 담는다."
   ]
  },
  {
   "cell_type": "code",
   "execution_count": 56,
   "id": "bfbbf8b3",
   "metadata": {},
   "outputs": [],
   "source": [
    "b=enumerate(a) #enumerate()는 인덱스0 부터 차례로 대입해준다."
   ]
  },
  {
   "cell_type": "code",
   "execution_count": 57,
   "id": "2d5b0469",
   "metadata": {},
   "outputs": [
    {
     "data": {
      "text/plain": [
       "<enumerate at 0x20dd6b4fe80>"
      ]
     },
     "execution_count": 57,
     "metadata": {},
     "output_type": "execute_result"
    }
   ],
   "source": [
    "b #아직은 형변환이 되지 않았기 때문에 이러한 데이터가 나온다."
   ]
  },
  {
   "cell_type": "code",
   "execution_count": 58,
   "id": "ef9930b6",
   "metadata": {},
   "outputs": [],
   "source": [
    "b=dict(enumerate(a)); c=list(enumerate(a)) #딕셔너리와 리스트에 담아서 형변환을 해준다."
   ]
  },
  {
   "cell_type": "code",
   "execution_count": 59,
   "id": "f218fb67",
   "metadata": {},
   "outputs": [
    {
     "data": {
      "text/plain": [
       "{0: 'a', 1: 'b', 2: 'c', 3: 'd', 4: 'e'}"
      ]
     },
     "execution_count": 59,
     "metadata": {},
     "output_type": "execute_result"
    }
   ],
   "source": [
    "b #딕셔너리에 담았음"
   ]
  },
  {
   "cell_type": "code",
   "execution_count": 60,
   "id": "77d08d52",
   "metadata": {},
   "outputs": [
    {
     "data": {
      "text/plain": [
       "[(0, 'a'), (1, 'b'), (2, 'c'), (3, 'd'), (4, 'e')]"
      ]
     },
     "execution_count": 60,
     "metadata": {},
     "output_type": "execute_result"
    }
   ],
   "source": [
    "c #리스트에 담았음"
   ]
  },
  {
   "cell_type": "code",
   "execution_count": 61,
   "id": "49b1003f",
   "metadata": {},
   "outputs": [],
   "source": [
    "a={1,2,3,4,5,6,7,8} #집합a에 해당 요소들을 담는다."
   ]
  },
  {
   "cell_type": "code",
   "execution_count": 62,
   "id": "7ccd164d",
   "metadata": {},
   "outputs": [],
   "source": [
    "b={\"a\",\"b\",\"c\",\"d\",\"e\"} #집합b에 해당 요소들을 담는다."
   ]
  },
  {
   "cell_type": "code",
   "execution_count": 63,
   "id": "1b4fb0ac",
   "metadata": {},
   "outputs": [
    {
     "data": {
      "text/plain": [
       "<zip at 0x20dd6b48ec0>"
      ]
     },
     "execution_count": 63,
     "metadata": {},
     "output_type": "execute_result"
    }
   ],
   "source": [
    "zip(a,b) #zip만으로는 단순히 object임 이것도 현재 형변환을 안해준 날 데이터다"
   ]
  },
  {
   "cell_type": "code",
   "execution_count": 64,
   "id": "a4f4eec4",
   "metadata": {},
   "outputs": [],
   "source": [
    "c=dict(zip(a,b));d=list(zip(a,b)) #zip은 두 (리스트 튜플 집합 중)인자를 받아 요소를 매칭시켜준다."
   ]
  },
  {
   "cell_type": "code",
   "execution_count": 65,
   "id": "d4817a1a",
   "metadata": {},
   "outputs": [
    {
     "data": {
      "text/plain": [
       "{1: 'c', 2: 'a', 3: 'd', 4: 'e', 5: 'b'}"
      ]
     },
     "execution_count": 65,
     "metadata": {},
     "output_type": "execute_result"
    }
   ],
   "source": [
    " c #a와 b는 크기가 다르기 때문에 b값은 순서대로가 아니였다.!"
   ]
  },
  {
   "cell_type": "code",
   "execution_count": 66,
   "id": "8d442195",
   "metadata": {},
   "outputs": [
    {
     "data": {
      "text/plain": [
       "[(1, 'c'), (2, 'a'), (3, 'd'), (4, 'e'), (5, 'b')]"
      ]
     },
     "execution_count": 66,
     "metadata": {},
     "output_type": "execute_result"
    }
   ],
   "source": [
    "d"
   ]
  },
  {
   "cell_type": "code",
   "execution_count": 67,
   "id": "50391cc9",
   "metadata": {},
   "outputs": [],
   "source": [
    "a=(1,2,3,4,5,6,7,8) #괄호로 묶이면 튜플"
   ]
  },
  {
   "cell_type": "code",
   "execution_count": 68,
   "id": "43d07bfe",
   "metadata": {},
   "outputs": [],
   "source": [
    "b=[\"a\",\"b\",\"c\",\"d\",\"e\"] #대괄호로 묶였으니 리스트이다"
   ]
  },
  {
   "cell_type": "code",
   "execution_count": 72,
   "id": "892c8be7",
   "metadata": {},
   "outputs": [],
   "source": [
    "c=dict(zip(a,b));d=list(zip(a,b)) #튜플과 리스트를 묶어 인자 하나씩 zip하여 인자를 짝지어 변수에"
   ]
  },
  {
   "cell_type": "code",
   "execution_count": 70,
   "id": "82508f7f",
   "metadata": {},
   "outputs": [
    {
     "data": {
      "text/plain": [
       "{1: 'a', 2: 'b', 3: 'c', 4: 'd', 5: 'e'}"
      ]
     },
     "execution_count": 70,
     "metadata": {},
     "output_type": "execute_result"
    }
   ],
   "source": [
    "c#zip으로 짝지어진 오브젝트(키와 키워드조합)의 집합(새트) 를 확인"
   ]
  },
  {
   "cell_type": "code",
   "execution_count": 71,
   "id": "8294c049",
   "metadata": {},
   "outputs": [
    {
     "data": {
      "text/plain": [
       "[(1, 'a'), (2, 'b'), (3, 'c'), (4, 'd'), (5, 'e')]"
      ]
     },
     "execution_count": 71,
     "metadata": {},
     "output_type": "execute_result"
    }
   ],
   "source": [
    "d#zip으로 짝지어진 오브젝트(키와 키워드조합)의 집합(새트) 를 확인"
   ]
  },
  {
   "cell_type": "code",
   "execution_count": 73,
   "id": "8bc44fe4",
   "metadata": {},
   "outputs": [
    {
     "name": "stdout",
     "output_type": "stream",
     "text": [
      "8\n",
      "10\n",
      "12\n",
      "14\n",
      "16\n",
      "18\n"
     ]
    }
   ],
   "source": [
    "def func(x,y): #인자 두개xy를 받는 함수를 설정한다.\n",
    "    return x+y #이 함수는 해당 두 인자를 더하는 값을 리턴한다.\n",
    "\n",
    "x=(1,2,3,4,5,6) #괄호는 컬렉션\n",
    "y=(7,8,9,10,11,12)\n",
    "#for i in filter(func,x,y): #filter는 인자가 하나인 경우만 가능!\n",
    "for i in map(func,x,y): #인자 여러개를 전달할 경우 map함수 사용!\n",
    "    print(i)"
   ]
  },
  {
   "cell_type": "code",
   "execution_count": 75,
   "id": "b9602a6a",
   "metadata": {},
   "outputs": [
    {
     "name": "stdout",
     "output_type": "stream",
     "text": [
      "8\n",
      "10\n",
      "12\n",
      "14\n",
      "16\n",
      "18\n"
     ]
    }
   ],
   "source": [
    "x=(1,2,3,4,5,6) #튜플 선언\n",
    "y=(7,8,9,10,11,12) #튜플 선언\n",
    "for i in map(lambda x,y:x+y, x,y): # x,y를 인자로 받고 x+y값을 리턴하는 함수를 lamda형식으로 선언\n",
    "    print(i)"
   ]
  },
  {
   "cell_type": "code",
   "execution_count": 76,
   "id": "5068b623",
   "metadata": {},
   "outputs": [
    {
     "data": {
      "text/plain": [
       "[1, 2, 5]"
      ]
     },
     "execution_count": 76,
     "metadata": {},
     "output_type": "execute_result"
    }
   ],
   "source": [
    "a=[1,2,3] #리스트 선언\n",
    "b=a #b에 a copy (서로 영향을 준다.)\n",
    "b[2]=5 #2번째 값을 5로 변경, a b 모두 바뀐다\n",
    "a #a 출력"
   ]
  },
  {
   "cell_type": "code",
   "execution_count": 77,
   "id": "9d27a96c",
   "metadata": {},
   "outputs": [
    {
     "data": {
      "text/plain": [
       "[1, 2, 5]"
      ]
     },
     "execution_count": 77,
     "metadata": {},
     "output_type": "execute_result"
    }
   ],
   "source": [
    "b"
   ]
  },
  {
   "cell_type": "code",
   "execution_count": 78,
   "id": "5ca488d3",
   "metadata": {},
   "outputs": [],
   "source": [
    "b[1]=3"
   ]
  },
  {
   "cell_type": "code",
   "execution_count": 79,
   "id": "5407259f",
   "metadata": {},
   "outputs": [
    {
     "data": {
      "text/plain": [
       "[1, 3, 5]"
      ]
     },
     "execution_count": 79,
     "metadata": {},
     "output_type": "execute_result"
    }
   ],
   "source": [
    "a"
   ]
  },
  {
   "cell_type": "code",
   "execution_count": 80,
   "id": "e1d99750",
   "metadata": {},
   "outputs": [],
   "source": [
    "a=[1,2,3] #컬렉션 a생성"
   ]
  },
  {
   "cell_type": "code",
   "execution_count": 81,
   "id": "f05b326a",
   "metadata": {},
   "outputs": [],
   "source": [
    "b=a[:] #b에a의 모든 요소들을 옅은복사한다"
   ]
  },
  {
   "cell_type": "code",
   "execution_count": 82,
   "id": "5b9d34b3",
   "metadata": {},
   "outputs": [],
   "source": [
    "b[2]=5 #b의 요소를 바꿔주면 옅은복사라 b만 바뀐다"
   ]
  },
  {
   "cell_type": "code",
   "execution_count": 84,
   "id": "c1945f61",
   "metadata": {},
   "outputs": [
    {
     "name": "stdout",
     "output_type": "stream",
     "text": [
      "[1, 2, 3] [1, 2, 5]\n"
     ]
    }
   ],
   "source": [
    "print(a,b)"
   ]
  },
  {
   "cell_type": "code",
   "execution_count": 85,
   "id": "e163a6ba",
   "metadata": {},
   "outputs": [
    {
     "name": "stdout",
     "output_type": "stream",
     "text": [
      "[1, 2, 3] [1, 2, 5]\n"
     ]
    }
   ],
   "source": [
    "a=[1,2,3] #a라는 컬렉션\n",
    "b=a.copy() #b에a의 모든 요소들을 옅은복사한다\n",
    "b[2]=5#b의 요소를 바꿔주면 옅은복사라 b만 바뀐다\n",
    "print(a,b)"
   ]
  },
  {
   "cell_type": "code",
   "execution_count": 86,
   "id": "5c6fb85c",
   "metadata": {},
   "outputs": [
    {
     "data": {
      "text/plain": [
       "[[1, 2], 3, 4]"
      ]
     },
     "execution_count": 86,
     "metadata": {},
     "output_type": "execute_result"
    }
   ],
   "source": [
    "a=[[1,2],3,4] #리스트 선언\n",
    "b=a.copy() #b에 a 옅은 복사\n",
    "b #b출력"
   ]
  },
  {
   "cell_type": "code",
   "execution_count": 87,
   "id": "74319adf",
   "metadata": {},
   "outputs": [
    {
     "data": {
      "text/plain": [
       "[[1, 3], 3, 4]"
      ]
     },
     "execution_count": 87,
     "metadata": {},
     "output_type": "execute_result"
    }
   ],
   "source": [
    "b[0][1] = 3 #0번째 배열의 1번째 요소 3으로 변경\n",
    "b #출력"
   ]
  },
  {
   "cell_type": "code",
   "execution_count": 88,
   "id": "52467821",
   "metadata": {},
   "outputs": [
    {
     "data": {
      "text/plain": [
       "[[1, 3], 3, 4]"
      ]
     },
     "execution_count": 88,
     "metadata": {},
     "output_type": "execute_result"
    }
   ],
   "source": [
    "a #원래는 a의 값이 바뀌면 안된다. 하지만 리스트 안의 리스트는 완전히 복제하지 못해서 같이 변경된다."
   ]
  },
  {
   "cell_type": "code",
   "execution_count": 89,
   "id": "85dd7286",
   "metadata": {},
   "outputs": [
    {
     "data": {
      "text/plain": [
       "[[1, 2], 3, 4]"
      ]
     },
     "execution_count": 89,
     "metadata": {},
     "output_type": "execute_result"
    }
   ],
   "source": [
    "a=[[1,2],3,4] #리스트 선언\n",
    "b = a[:] #옅은 복사\n",
    "b #출력"
   ]
  },
  {
   "cell_type": "code",
   "execution_count": 91,
   "id": "ee7551da",
   "metadata": {},
   "outputs": [
    {
     "data": {
      "text/plain": [
       "[[1, 3], 3, 4]"
      ]
     },
     "execution_count": 91,
     "metadata": {},
     "output_type": "execute_result"
    }
   ],
   "source": [
    "b[0][1] =3 #b의 값을 변경, 옅은 복사\n",
    "a #a 출력, 원래는 a의 값이 바뀌면 안된다. 하지만 리스트 안의 리스트는 완전히 \n",
    "#복제하지 못해서 같이 변경된다."
   ]
  },
  {
   "cell_type": "code",
   "execution_count": 92,
   "id": "4077f1b5",
   "metadata": {},
   "outputs": [
    {
     "name": "stdout",
     "output_type": "stream",
     "text": [
      "[[1, 2], 3, 4] [[1, 3], 3, 4]\n"
     ]
    }
   ],
   "source": [
    "import copy as c #deepcopy를 사용하기 위해 라이브러리를 import했다\n",
    "\n",
    "a=[[1,2],3,4] #리스트 선언하여 변수 a에 저장\n",
    "b=c.deepcopy(a) # b를 깊은 복사\n",
    "b[0][1]=3 #b의 0번째 값의 1번째 값을 3으로 변경, a와 b는 독립적인 리스트이다\n",
    "print(a,b) #a b 출력"
   ]
  }
 ],
 "metadata": {
  "kernelspec": {
   "display_name": "Python 3 (ipykernel)",
   "language": "python",
   "name": "python3"
  },
  "language_info": {
   "codemirror_mode": {
    "name": "ipython",
    "version": 3
   },
   "file_extension": ".py",
   "mimetype": "text/x-python",
   "name": "python",
   "nbconvert_exporter": "python",
   "pygments_lexer": "ipython3",
   "version": "3.8.8rc1"
  }
 },
 "nbformat": 4,
 "nbformat_minor": 5
}
