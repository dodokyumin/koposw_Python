{
 "cells": [
  {
   "cell_type": "code",
   "execution_count": 1,
   "id": "7d2ca2eb",
   "metadata": {},
   "outputs": [
    {
     "data": {
      "text/plain": [
       "('a', 'b', 'c', 'd', 'e')"
      ]
     },
     "execution_count": 1,
     "metadata": {},
     "output_type": "execute_result"
    }
   ],
   "source": [
    "a=\"abcde\" # 문자열 지정\n",
    "a[0],a[1],a[2],a[3],a[4] #출력"
   ]
  },
  {
   "cell_type": "code",
   "execution_count": 2,
   "id": "dc17d3fd",
   "metadata": {},
   "outputs": [
    {
     "data": {
      "text/plain": [
       "('e', 'c', 'c', 'b', 'a')"
      ]
     },
     "execution_count": 2,
     "metadata": {},
     "output_type": "execute_result"
    }
   ],
   "source": [
    "a[-1],a[2],a[-3],a[-4],a[-5] #-로 반대로 위치 지정"
   ]
  },
  {
   "cell_type": "code",
   "execution_count": 3,
   "id": "678a6510",
   "metadata": {},
   "outputs": [
    {
     "data": {
      "text/plain": [
       "('가', '나', '다', '라', '마')"
      ]
     },
     "execution_count": 3,
     "metadata": {},
     "output_type": "execute_result"
    }
   ],
   "source": [
    "a=\"가나다라마\" # 문자열 지정\n",
    "a[0],a[1],a[2],a[3],a[4] #출력"
   ]
  },
  {
   "cell_type": "code",
   "execution_count": 4,
   "id": "786b81dd",
   "metadata": {},
   "outputs": [
    {
     "data": {
      "text/plain": [
       "'bcde'"
      ]
     },
     "execution_count": 4,
     "metadata": {},
     "output_type": "execute_result"
    }
   ],
   "source": [
    "a=\"abcde\" #a에 문자열 입력\n",
    "a[1:5] # 1부터 5까지 출력"
   ]
  },
  {
   "cell_type": "code",
   "execution_count": 5,
   "id": "6823a3ec",
   "metadata": {},
   "outputs": [
    {
     "data": {
      "text/plain": [
       "'b'"
      ]
     },
     "execution_count": 5,
     "metadata": {},
     "output_type": "execute_result"
    }
   ],
   "source": [
    "a[1:2] #1부터 1까지. b 출력"
   ]
  },
  {
   "cell_type": "code",
   "execution_count": 6,
   "id": "b41f314f",
   "metadata": {},
   "outputs": [
    {
     "data": {
      "text/plain": [
       "'abcde'"
      ]
     },
     "execution_count": 6,
     "metadata": {},
     "output_type": "execute_result"
    }
   ],
   "source": [
    "a[:6] #처음부터 5까지. substring처럼"
   ]
  },
  {
   "cell_type": "code",
   "execution_count": 7,
   "id": "8f706816",
   "metadata": {},
   "outputs": [
    {
     "data": {
      "text/plain": [
       "'de'"
      ]
     },
     "execution_count": 7,
     "metadata": {},
     "output_type": "execute_result"
    }
   ],
   "source": [
    "a[3:] # 3번째부터 마지막까지"
   ]
  },
  {
   "cell_type": "code",
   "execution_count": 8,
   "id": "fd9ef141",
   "metadata": {},
   "outputs": [
    {
     "data": {
      "text/plain": [
       "'c'"
      ]
     },
     "execution_count": 8,
     "metadata": {},
     "output_type": "execute_result"
    }
   ],
   "source": [
    "a[2:-2] #2부터 -2전까지. 음수 첨자는 문자열 뒤부터 -로 셈"
   ]
  },
  {
   "cell_type": "code",
   "execution_count": 9,
   "id": "42d1bd8a",
   "metadata": {},
   "outputs": [
    {
     "data": {
      "text/plain": [
       "''"
      ]
     },
     "execution_count": 9,
     "metadata": {},
     "output_type": "execute_result"
    }
   ],
   "source": [
    "a[2:-3] #2부터 -3(2)전까지 출력, 아무것도 없으므로 빈칸 반환"
   ]
  },
  {
   "cell_type": "code",
   "execution_count": 10,
   "id": "76392f6e",
   "metadata": {},
   "outputs": [
    {
     "data": {
      "text/plain": [
       "'bcd'"
      ]
     },
     "execution_count": 10,
     "metadata": {},
     "output_type": "execute_result"
    }
   ],
   "source": [
    "a[1:-1] #1부터 4전까지 출력 bcd"
   ]
  },
  {
   "cell_type": "code",
   "execution_count": 11,
   "id": "79672859",
   "metadata": {},
   "outputs": [
    {
     "data": {
      "text/plain": [
       "5"
      ]
     },
     "execution_count": 11,
     "metadata": {},
     "output_type": "execute_result"
    }
   ],
   "source": [
    "a=\"abcdefghijklmabcdefgh\" #a에 문자열 넣어주기\n",
    "a.find(\"f\") #처음 찾은 값의 위치를 알려주는 메소드"
   ]
  },
  {
   "cell_type": "code",
   "execution_count": 12,
   "id": "9770633a",
   "metadata": {},
   "outputs": [
    {
     "data": {
      "text/plain": [
       "18"
      ]
     },
     "execution_count": 12,
     "metadata": {},
     "output_type": "execute_result"
    }
   ],
   "source": [
    "a.rfind(\"f\") #뒤에서부터 처음 찾은 값의 위치. reverse"
   ]
  },
  {
   "cell_type": "code",
   "execution_count": 13,
   "id": "ca6a8b0a",
   "metadata": {},
   "outputs": [
    {
     "data": {
      "text/plain": [
       "(8, 8)"
      ]
     },
     "execution_count": 13,
     "metadata": {},
     "output_type": "execute_result"
    }
   ],
   "source": [
    "a.find(\"i\"),a.rfind(\"i\") #앞, 뒤에서부터 검색, 한개뿐이면 값은 같다"
   ]
  },
  {
   "cell_type": "code",
   "execution_count": 14,
   "id": "f2e96fa7",
   "metadata": {},
   "outputs": [
    {
     "data": {
      "text/plain": [
       "(1, 14)"
      ]
     },
     "execution_count": 14,
     "metadata": {},
     "output_type": "execute_result"
    }
   ],
   "source": [
    "a.index(\"b\"),a.rindex(\"b\") #index 함수 마찬가지이다"
   ]
  },
  {
   "cell_type": "code",
   "execution_count": 15,
   "id": "9d8b7cd7",
   "metadata": {
    "scrolled": true
   },
   "outputs": [
    {
     "ename": "ValueError",
     "evalue": "substring not found",
     "output_type": "error",
     "traceback": [
      "\u001b[1;31m---------------------------------------------------------------------------\u001b[0m",
      "\u001b[1;31mValueError\u001b[0m                                Traceback (most recent call last)",
      "Input \u001b[1;32mIn [15]\u001b[0m, in \u001b[0;36m<cell line: 1>\u001b[1;34m()\u001b[0m\n\u001b[1;32m----> 1\u001b[0m \u001b[43ma\u001b[49m\u001b[38;5;241;43m.\u001b[39;49m\u001b[43mrindex\u001b[49m\u001b[43m(\u001b[49m\u001b[38;5;124;43m\"\u001b[39;49m\u001b[38;5;124;43mz\u001b[39;49m\u001b[38;5;124;43m\"\u001b[39;49m\u001b[43m)\u001b[49m\n",
      "\u001b[1;31mValueError\u001b[0m: substring not found"
     ]
    }
   ],
   "source": [
    "a.rindex(\"z\") # 문자열 내에 없으면 에러가 뜬다"
   ]
  },
  {
   "cell_type": "code",
   "execution_count": 16,
   "id": "1464707f",
   "metadata": {},
   "outputs": [
    {
     "data": {
      "text/plain": [
       "2"
      ]
     },
     "execution_count": 16,
     "metadata": {},
     "output_type": "execute_result"
    }
   ],
   "source": [
    "a.count(\"f\") #해당문자의 개수를 카운트하는 메소드"
   ]
  },
  {
   "cell_type": "code",
   "execution_count": 17,
   "id": "6a4a7669",
   "metadata": {},
   "outputs": [
    {
     "data": {
      "text/plain": [
       "13"
      ]
     },
     "execution_count": 17,
     "metadata": {},
     "output_type": "execute_result"
    }
   ],
   "source": [
    "a.rfind(\"abc\") #문자열을 넣을때에는 find()."
   ]
  },
  {
   "cell_type": "code",
   "execution_count": 18,
   "id": "9c88bbff",
   "metadata": {},
   "outputs": [
    {
     "name": "stdout",
     "output_type": "stream",
     "text": [
      "a가들어있음\n"
     ]
    }
   ],
   "source": [
    "a=\"abcdfegabcdfeg\" #문자열 a에 저장\n",
    "if a.find(\"f\") > 0: #a에 f가 있다면, 1이되고 1은 true.\n",
    "    print (\"a가들어있음\") #메세지 출력"
   ]
  },
  {
   "cell_type": "code",
   "execution_count": 19,
   "id": "54f41241",
   "metadata": {},
   "outputs": [
    {
     "name": "stdout",
     "output_type": "stream",
     "text": [
      "a가들어있음\n"
     ]
    }
   ],
   "source": [
    "if \"f\" in a : #f가 a 안에 있다면, 위와 같은 의미 이렇게 간략하게 표현도 가능하다..\n",
    "    print (\"a가들어있음\")"
   ]
  },
  {
   "cell_type": "code",
   "execution_count": 20,
   "id": "a9e4e8c8",
   "metadata": {},
   "outputs": [
    {
     "data": {
      "text/plain": [
       "'ABCDEFGH'"
      ]
     },
     "execution_count": 20,
     "metadata": {},
     "output_type": "execute_result"
    }
   ],
   "source": [
    "a=\"abcDefGh\" #문자열 선언\n",
    "a.upper() #a를 대문자로 변경."
   ]
  },
  {
   "cell_type": "code",
   "execution_count": 21,
   "id": "bec9f872",
   "metadata": {},
   "outputs": [
    {
     "data": {
      "text/plain": [
       "'abcdefgh'"
      ]
     },
     "execution_count": 21,
     "metadata": {},
     "output_type": "execute_result"
    }
   ],
   "source": [
    "a=\"abcDefGh\" #문자열 선언\n",
    "a.lower() #a룰 소문자로 변경"
   ]
  },
  {
   "cell_type": "code",
   "execution_count": 22,
   "id": "8a68b85d",
   "metadata": {},
   "outputs": [
    {
     "data": {
      "text/plain": [
       "'abc   def    hij     '"
      ]
     },
     "execution_count": 22,
     "metadata": {},
     "output_type": "execute_result"
    }
   ],
   "source": [
    "a=\"   abc   def    hij     \" #문자열 선언\n",
    "a.lstrip() #왼쪽의 여백 삭제 java에서 trim과 같은 기능. l r 방향설정가능"
   ]
  },
  {
   "cell_type": "code",
   "execution_count": 23,
   "id": "6fa1201b",
   "metadata": {},
   "outputs": [
    {
     "data": {
      "text/plain": [
       "'   abc   def    hij'"
      ]
     },
     "execution_count": 23,
     "metadata": {},
     "output_type": "execute_result"
    }
   ],
   "source": [
    "a=\"   abc   def    hij     \" #문자열 선언\n",
    "a.rstrip() #오른쪽의 여백 삭제"
   ]
  },
  {
   "cell_type": "code",
   "execution_count": 24,
   "id": "a2be04a2",
   "metadata": {},
   "outputs": [
    {
     "data": {
      "text/plain": [
       "'abc   def    hij'"
      ]
     },
     "execution_count": 24,
     "metadata": {},
     "output_type": "execute_result"
    }
   ],
   "source": [
    "a=\"   abc   def    hij     \" #문자열 선언\n",
    "a.strip() #양쪽의 여백 삭제"
   ]
  },
  {
   "cell_type": "code",
   "execution_count": 25,
   "id": "af145aba",
   "metadata": {},
   "outputs": [
    {
     "data": {
      "text/plain": [
       "'abcdefhij'"
      ]
     },
     "execution_count": 25,
     "metadata": {},
     "output_type": "execute_result"
    }
   ],
   "source": [
    "a=\"   abc   def    hij     \" #문자열 선언\n",
    "a.replace(\" \",\"\") #모든 \" \"을 \"\"로, 여백을 삭제하는 개념"
   ]
  },
  {
   "cell_type": "code",
   "execution_count": 26,
   "id": "335caa32",
   "metadata": {
    "scrolled": true
   },
   "outputs": [
    {
     "name": "stdout",
     "output_type": "stream",
     "text": [
      "==============\n",
      "이름:  홍길동\n",
      "국어:  100\n",
      "영어:  95\n",
      "수학:  88\n",
      "==============\n"
     ]
    }
   ],
   "source": [
    "rec=\"홍길동,100,95,88\" # 문자열 선언\n",
    "item=rec.split(\",\") #문자열을 콤마를 기준으로 나누고 item 리스트에 담았다.\n",
    "print(\"=\"*14) #줄긋기\n",
    "print(\"이름: \", item[0]) #0번째 값 출력\n",
    "print(\"국어: \", item[1]) #1번째 값 출력\n",
    "print(\"영어: \", item[2]) #2번째 값 출력\n",
    "print(\"수학: \", item[3]) #3번째 값 출력\n",
    "print(\"=\"*14) #줄긋기"
   ]
  },
  {
   "cell_type": "code",
   "execution_count": 27,
   "id": "2bc35c44",
   "metadata": {},
   "outputs": [
    {
     "name": "stdout",
     "output_type": "stream",
     "text": [
      "==============\n",
      "0 ==> 본\n",
      "1 ==> 예제는\n",
      "2 ==> 빈칸으로\n",
      "3 ==> 구분되어\n",
      "4 ==> 있는\n",
      "5 ==> 한\n",
      "6 ==> 줄의\n",
      "7 ==> 데이터를\n",
      "8 ==> 빈칸을\n",
      "9 ==> \n",
      "10 ==> \n",
      "11 ==> \n",
      "12 ==> \n",
      "13 ==> 구분하여\n",
      "14 ==> 나누어\n",
      "15 ==> 줌\n",
      "==============\n"
     ]
    }
   ],
   "source": [
    "rec=\"본 예제는 빈칸으로 구분되어 있는 한 줄의 데이터를 빈칸을     구분하여 나누어 줌\" \n",
    "#공백 5칸 껴있음\n",
    "item=rec.split(\" \") #공백을 기준으로 자른다.\n",
    "\n",
    "print(\"=\"*14) #구분선 출력\n",
    "i=0 #갯수를 카운트하기 위한 변수 i 선언하기\n",
    "for s in item: #공백을 기준으로 만든 리스트(item)를 for문으로 돌린다.\n",
    "    print(i,\"==>\", s) #리스트의 모든 값을 출력한다.\n",
    "    i+=1 #카운트 증가\n",
    "print(\"=\"*14) #줄 긋기"
   ]
  },
  {
   "cell_type": "code",
   "execution_count": 28,
   "id": "70de507c",
   "metadata": {},
   "outputs": [
    {
     "name": "stdout",
     "output_type": "stream",
     "text": [
      "[['나연', 100, 90, 100], ['정연', 90, 90, 100], ['모모', 80, 70, 90], ['사나', 90, 90, 80], ['지효', 100, 80, 80], ['미나', 50, 90, 90], ['다현', 80, 60, 100], ['채영', 70, 80, 90], ['쯔위', 100, 90, 90]]\n"
     ]
    }
   ],
   "source": [
    "dili_score=[\"나연,100,90,100\",\n",
    "        \"정연,90,90,100\",\n",
    "        \"모모,80,70,90\",\n",
    "        \"사나,90,90,80\",\n",
    "        \"지효,100,80,80\",\n",
    "        \"미나,50,90,90\",\n",
    "        \"다현,80,60,100\",\n",
    "        \"채영,70,80,90\",\n",
    "        \"쯔위,100,90,90\"]\n",
    "score=[]\n",
    "for one_rec in dili_score: #one_rec 변수에 dili_score 요소만큼 돌게끔\n",
    "    one_score=one_rec.split(\",\") #문자열 요소들을 콤마 기준으로 나누어 one_score에 저장\n",
    "    one_score[1]=int(one_score[1]) #국어점수를 숫자형 변환하여 저장\n",
    "    one_score[2]=int(one_score[2]) #영어점수를 숫자형 변환하여 저장\n",
    "    one_score[3]=int(one_score[3]) #수학점수를 숫자형 변환하여 저장\n",
    "    score.append(one_score.copy()) # copy에 주의할 것..값 복사하여 append로 새 컬렉션에 추가.\n",
    "print(score)"
   ]
  },
  {
   "cell_type": "code",
   "execution_count": 29,
   "id": "665b1ee7",
   "metadata": {},
   "outputs": [
    {
     "name": "stdout",
     "output_type": "stream",
     "text": [
      "case1\n",
      "품목: 오징어땅콩  단가: 1000 원 수량: 10 개 합계: 10000 원\n",
      "case2\n",
      "품목:오징어땅콩 단가:1000원 수량:10개 합계:10000원\n",
      "case3\n",
      "품목:오징어땅콩 단가:1000원 수량:10개 합계:10000원\n",
      "case4\n",
      "품목:오징어땅콩      단가:01000원 수량:0x0a개 합계: 10000.000원\n"
     ]
    }
   ],
   "source": [
    "item=\"오징어땅콩\" #품목\n",
    "unit=1000 #단가\n",
    "qty=10 #수량\n",
    "tot=unit*qty #합계\n",
    "\n",
    "print(\"case1\") #기존의 방식\n",
    "print(\"품목:\",item,\" 단가:\",unit,\"원 수량:\",qty,\"개 합계:\",tot,\"원\")\n",
    "\n",
    "print(\"case2\") #하나의 긴 문자열을 만들어 출력하면 공백없이 출력이 가능\n",
    "print(\"품목:\"+item+\" 단가:\"+str(unit)+\"원 수량:\"+str(qty)+\"개 합계:\"+str(tot)+\"원\")\n",
    "\n",
    "print(\"case3\") ##출력포멧문자를 지정하여 원하는 포멧으로 출력이 가능.\n",
    "print(\"품목:%s 단가:%d원 수량:%d개 합계:%d원\"%(item,unit,qty,tot))\n",
    "\n",
    "print(\"case4\") #포멧팅 예시\n",
    "print(\"품목:%-10s 단가:%05d원 수량:0x%02x개 합계:%10.3f원\"%(item,unit,qty,tot))"
   ]
  },
  {
   "cell_type": "code",
   "execution_count": 30,
   "id": "13ad640d",
   "metadata": {
    "scrolled": true
   },
   "outputs": [
    {
     "name": "stdout",
     "output_type": "stream",
     "text": [
      "[ 1000][1000 ][01000]\n",
      "[   땅콩][땅콩   ][   땅콩]\n",
      "[1000]=[3e8][0x3e8][1750]\n",
      "[ 1000%]\n",
      "[a][b][c]\n"
     ]
    }
   ],
   "source": [
    "item=\"땅콩\" #문자형 데이터를 변수에\n",
    "unit=1000 #숫자형 데이터를 변수에\n",
    "\n",
    "print(\"[%5d][%-5d][%05d]\"%(unit,unit,unit)) #5칸 오른쪽 정렬, 5칸 왼쪽 정렬.\n",
    "#5칸 오른쪽 정렬, 빈칸은 0으로 채우기.\n",
    "print(\"[%5s][%-5s][%05s]\"%(item,item,item)) #5칸 오른쪽 정렬, 5칸 왼쪽 정렬, 5칸 오른쪽 정렬\n",
    "print(\"[%d]=[%x][%#x][%o]\"%(unit,unit,unit,unit))#정수형 출력 16진수 출력 8진수 출력, \n",
    "print(\"[%5d%%]\"%unit) #5칸 왼쪽정렬 + %출력\n",
    "\n",
    "#한글은 1byte로 자르면 에러\n",
    "#print(\"[%c][%c][%c]\"%(unit[0],unit[1]))\n",
    "a=\"abcd\" #문자형 자료 str\n",
    "print(\"[%c][%c][%c]\"%(a[0],a[1],a[2])) #%c는 문자 자료형은 리스트형식이므로."
   ]
  },
  {
   "cell_type": "code",
   "execution_count": 31,
   "id": "f79cd30c",
   "metadata": {},
   "outputs": [
    {
     "name": "stdout",
     "output_type": "stream",
     "text": [
      "-1,234,567,890.123\n"
     ]
    }
   ],
   "source": [
    "import locale #locale라이브러리를 임포트 함, 설치는 필요없음\n",
    "locale.setlocale(locale.LC_ALL, \"\") # 시스템 기본 로케일 사용\n",
    "n = -1234567890.123 #숫자 입력\n",
    "s = locale.format_string(\"%.3f\", n, 1) #숫자에 대해 3번째 자리마다 콤마를 찍어주는 메소드.\n",
    "print(s)"
   ]
  },
  {
   "cell_type": "code",
   "execution_count": 32,
   "id": "d6a40296",
   "metadata": {
    "scrolled": true
   },
   "outputs": [
    {
     "name": "stdout",
     "output_type": "stream",
     "text": [
      "***************************************************\n",
      "총금액:    1,000,000원 \t달러환율: $1,010       \n",
      "지급달러: $988         \n",
      "거스름돈:      5원 \t은행수수료:  1,996원\n",
      "***************************************************\n"
     ]
    }
   ],
   "source": [
    "import locale #라이브러리 임포트\n",
    "locale.setlocale(locale.LC_ALL, \"\")  #시스템 기본 로케일 사용\n",
    "\n",
    "myWon=1000000  #숫자형 자료 지정, 100만원\n",
    "moneyEx=1010.12 #달러환율\n",
    "commission_rate=0.002  #은행 수수료\n",
    "a = moneyEx + moneyEx*commission_rate #1달러당 환율금액, 수수료의 합\n",
    "usd = int (myWon /a) #소수점으로 나오는 부분 버림\n",
    "\n",
    "remain = int(myWon - usd * a) #거스름 돈 계산\n",
    "   # 00만원 - 달러액*(환율+달러당 수수료)\n",
    "    \n",
    "commission = usd * moneyEx * commission_rate #환전 수수료총액 계산\n",
    "   \n",
    "if(commission != float(int(commission))) : #수수료가 소수점 이하가 있다면\n",
    "    commission = int(commission) +1 # 올림하기\n",
    "else:\n",
    "    commission = int(commission) #수수료가 소수점 이하가 없다면 정수형으로\n",
    "#총액 출력 구간, 포멧팅에 맞게 값을 출력한다.\n",
    "print(\"***************************************************\")\n",
    "print(\"총금액: %s원 \\t달러환율: $%s\"%( \\\n",
    "    locale.format_string(\"%12d\", myWon, 1), \\\n",
    "    locale.format_string(\"%-12d\", moneyEx, 1)) )\n",
    "#거스름돈 출력 구간, 포멧팅에 맞게 값을 출력한다.\n",
    "print(\"지급달러: $%s\"% locale.format_string(\"%-12d\", usd, 1))\n",
    "print(\"거스름돈: %s원 \\t은행수수료: %s원\"%( \\\n",
    "    locale.format_string(\"%6d\", remain, 1), \\\n",
    "    locale.format_string(\"%6d\", commission, 1)) )\n",
    "print(\"***************************************************\")"
   ]
  },
  {
   "cell_type": "code",
   "execution_count": null,
   "id": "716d056e",
   "metadata": {},
   "outputs": [],
   "source": []
  }
 ],
 "metadata": {
  "kernelspec": {
   "display_name": "Python 3 (ipykernel)",
   "language": "python",
   "name": "python3"
  },
  "language_info": {
   "codemirror_mode": {
    "name": "ipython",
    "version": 3
   },
   "file_extension": ".py",
   "mimetype": "text/x-python",
   "name": "python",
   "nbconvert_exporter": "python",
   "pygments_lexer": "ipython3",
   "version": "3.8.8rc1"
  }
 },
 "nbformat": 4,
 "nbformat_minor": 5
}
