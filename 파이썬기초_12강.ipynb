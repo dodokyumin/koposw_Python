{
 "cells": [
  {
   "cell_type": "code",
   "execution_count": 1,
   "id": "5e446695",
   "metadata": {},
   "outputs": [
    {
     "name": "stdout",
     "output_type": "stream",
     "text": [
      "파일없음\n",
      "프로그램 끝\n"
     ]
    }
   ],
   "source": [
    "f=0 #변수 선언\n",
    "try: #try - catch - finally 문 실행\n",
    "    f=open(\"LICENSE.txt\",\"rt\") #LICENSE.txt 명의 텍스트 파일 읽기모드로 열고, 인스턴스f에 담기.\n",
    "    while True: #무한 루프\n",
    "        r=f.readline() #readline은 라인을 읽는데 이 코드를 변수 r에 담아 구조화\n",
    "        if not r: #만약 읽을 라인이 없어지면\n",
    "            break #멈춤\n",
    "        print(r) \n",
    "except FileNotFoundError: #파일이 없는 에러를 예외처리로, 이떄 파일 없음을 프린트.\n",
    "    print(\"파일없음\")\n",
    "finally: #맨 마지막에 finally블록을 실행\n",
    "    if(f):\n",
    "        f.close() #오픈 했으니 닫아주기\n",
    "    print(\"프로그램 끝\")"
   ]
  },
  {
   "cell_type": "code",
   "execution_count": 25,
   "id": "e0ba91f1",
   "metadata": {},
   "outputs": [
    {
     "name": "stdout",
     "output_type": "stream",
     "text": [
      "홍길동0,47,62,32\n",
      "\n",
      "홍길동1,28,14,18\n",
      "\n",
      "홍길동2,5,28,79\n",
      "\n",
      "홍길동3,70,55,36\n",
      "\n",
      "홍길동4,67,40,50\n",
      "\n",
      "홍길동5,42,91,47\n",
      "\n",
      "홍길동6,45,75,6\n",
      "\n",
      "홍길동7,8,47,7\n",
      "\n",
      "홍길동8,27,76,60\n",
      "\n",
      "홍길동9,78,62,1\n",
      "\n",
      "홍길동10,44,53,1\n",
      "\n",
      "홍길동11,70,19,54\n",
      "\n",
      "홍길동12,14,52,44\n",
      "\n",
      "홍길동13,77,99,11\n",
      "\n",
      "홍길동14,71,25,57\n",
      "\n",
      "홍길동15,74,1,3\n",
      "\n",
      "홍길동16,20,56,36\n",
      "\n",
      "홍길동17,39,0,2\n",
      "\n",
      "홍길동18,92,51,1\n",
      "\n",
      "홍길동19,56,69,99\n",
      "\n",
      "홍길동20,57,18,89\n",
      "\n",
      "홍길동21,49,29,73\n",
      "\n",
      "홍길동22,21,23,8\n",
      "\n",
      "홍길동23,48,47,50\n",
      "\n",
      "홍길동24,29,21,76\n",
      "\n",
      "홍길동25,73,43,28\n",
      "\n",
      "홍길동26,13,71,82\n",
      "\n",
      "홍길동27,49,8,99\n",
      "\n",
      "홍길동28,10,8,79\n",
      "\n",
      "홍길동29,12,48,37\n",
      "\n",
      "홍길동30,44,39,53\n",
      "\n",
      "홍길동31,25,41,54\n",
      "\n",
      "홍길동32,79,22,43\n",
      "\n",
      "홍길동33,44,62,23\n",
      "\n",
      "홍길동34,84,94,14\n",
      "\n",
      "홍길동35,18,96,49\n",
      "\n",
      "홍길동36,24,41,0\n",
      "\n",
      "홍길동37,8,84,17\n",
      "\n",
      "홍길동38,39,43,82\n",
      "\n",
      "홍길동39,25,39,30\n",
      "\n",
      "홍길동40,66,63,45\n",
      "\n",
      "홍길동41,49,66,32\n",
      "\n",
      "홍길동42,98,75,81\n",
      "\n",
      "홍길동43,77,6,53\n",
      "\n",
      "홍길동44,37,26,44\n",
      "\n",
      "홍길동45,55,95,71\n",
      "\n",
      "홍길동46,78,66,64\n",
      "\n",
      "홍길동47,19,25,23\n",
      "\n",
      "홍길동48,70,32,43\n",
      "\n",
      "홍길동49,45,28,14\n",
      "\n",
      "홍길동50,61,23,53\n",
      "\n",
      "홍길동51,88,82,73\n",
      "\n",
      "홍길동52,60,27,66\n",
      "\n",
      "홍길동53,9,19,15\n",
      "\n",
      "홍길동54,97,57,56\n",
      "\n",
      "홍길동55,91,10,26\n",
      "\n",
      "홍길동56,66,49,13\n",
      "\n",
      "홍길동57,75,61,99\n",
      "\n",
      "홍길동58,19,91,67\n",
      "\n",
      "홍길동59,48,56,75\n",
      "\n",
      "홍길동60,9,56,60\n",
      "\n",
      "홍길동61,1,60,26\n",
      "\n",
      "홍길동62,76,44,76\n",
      "\n",
      "홍길동63,99,89,32\n",
      "\n",
      "홍길동64,25,9,41\n",
      "\n",
      "홍길동65,47,1,54\n",
      "\n",
      "홍길동66,28,13,46\n",
      "\n",
      "홍길동67,7,46,19\n",
      "\n",
      "홍길동68,2,26,55\n",
      "\n",
      "홍길동69,5,18,38\n",
      "\n",
      "홍길동70,10,43,35\n",
      "\n",
      "홍길동71,77,65,67\n",
      "\n",
      "홍길동72,17,33,17\n",
      "\n",
      "홍길동73,26,97,67\n",
      "\n",
      "홍길동74,51,25,47\n",
      "\n",
      "홍길동75,37,3,64\n",
      "\n",
      "홍길동76,6,22,56\n",
      "\n",
      "홍길동77,29,19,59\n",
      "\n",
      "홍길동78,7,47,98\n",
      "\n",
      "홍길동79,71,92,40\n",
      "\n",
      "홍길동80,5,9,98\n",
      "\n",
      "홍길동81,54,9,42\n",
      "\n",
      "홍길동82,38,68,63\n",
      "\n",
      "홍길동83,67,36,88\n",
      "\n",
      "홍길동84,45,79,80\n",
      "\n",
      "홍길동85,92,71,0\n",
      "\n",
      "홍길동86,10,15,65\n",
      "\n",
      "홍길동87,71,4,44\n",
      "\n",
      "홍길동88,82,45,83\n",
      "\n",
      "홍길동89,24,13,25\n",
      "\n",
      "홍길동90,23,36,80\n",
      "\n",
      "홍길동91,84,99,34\n",
      "\n",
      "홍길동92,17,56,15\n",
      "\n",
      "홍길동93,81,8,99\n",
      "\n",
      "홍길동94,81,44,7\n",
      "\n",
      "홍길동95,99,3,9\n",
      "\n",
      "홍길동96,64,43,0\n",
      "\n",
      "홍길동97,40,40,90\n",
      "\n",
      "홍길동98,29,51,90\n",
      "\n",
      "홍길동99,76,61,14\n",
      "\n"
     ]
    }
   ],
   "source": [
    "import random #난수 모듈 random을 import\n",
    "\n",
    "f=0 #빈 변수 선언\n",
    "f=open(\"score.txt\",\"wt\") #score.txt로 파일명 지정, write + textfile = wt\n",
    "for i in range(100): #0부터 99까지 i에 입력하는 for문 작성\n",
    "    \n",
    "    one_person=\"홍길동\"+str(i)+\",\"+str(random.randrange(0,100))+\",\"+str(random.randrange(0,100)) \n",
    "    +\",\"+str(random.randrange(0,100))+\"\\n\"\n",
    "    #홍길동+번호, 범위랜덤함수 randomrange로 성적을 랜덤하게 받고 변수one_person에 저장한다.\n",
    "    f.write(one_person) #위 값이 저장된 변수를 한줄씩 쓴다.\n",
    "    print(one_person) #값 출력\n",
    "f.close() #파일 작성 종료"
   ]
  },
  {
   "cell_type": "code",
   "execution_count": 26,
   "id": "e5f1ca13",
   "metadata": {},
   "outputs": [
    {
     "name": "stdout",
     "output_type": "stream",
     "text": [
      "===============\n",
      "이름:  홍길동0\n",
      "국어:  47\n",
      "영어:  62\n",
      "수학:  32\n",
      "===============\n",
      "===============\n",
      "이름:  홍길동1\n",
      "국어:  28\n",
      "영어:  14\n",
      "수학:  18\n",
      "===============\n",
      "===============\n",
      "이름:  홍길동2\n",
      "국어:  5\n",
      "영어:  28\n",
      "수학:  79\n",
      "===============\n",
      "===============\n",
      "이름:  홍길동3\n",
      "국어:  70\n",
      "영어:  55\n",
      "수학:  36\n",
      "===============\n",
      "===============\n",
      "이름:  홍길동4\n",
      "국어:  67\n",
      "영어:  40\n",
      "수학:  50\n",
      "===============\n",
      "===============\n",
      "이름:  홍길동5\n",
      "국어:  42\n",
      "영어:  91\n",
      "수학:  47\n",
      "===============\n",
      "===============\n",
      "이름:  홍길동6\n",
      "국어:  45\n",
      "영어:  75\n",
      "수학:  6\n",
      "===============\n",
      "===============\n",
      "이름:  홍길동7\n",
      "국어:  8\n",
      "영어:  47\n",
      "수학:  7\n",
      "===============\n",
      "===============\n",
      "이름:  홍길동8\n",
      "국어:  27\n",
      "영어:  76\n",
      "수학:  60\n",
      "===============\n",
      "===============\n",
      "이름:  홍길동9\n",
      "국어:  78\n",
      "영어:  62\n",
      "수학:  1\n",
      "===============\n",
      "===============\n",
      "이름:  홍길동10\n",
      "국어:  44\n",
      "영어:  53\n",
      "수학:  1\n",
      "===============\n",
      "===============\n",
      "이름:  홍길동11\n",
      "국어:  70\n",
      "영어:  19\n",
      "수학:  54\n",
      "===============\n",
      "===============\n",
      "이름:  홍길동12\n",
      "국어:  14\n",
      "영어:  52\n",
      "수학:  44\n",
      "===============\n",
      "===============\n",
      "이름:  홍길동13\n",
      "국어:  77\n",
      "영어:  99\n",
      "수학:  11\n",
      "===============\n",
      "===============\n",
      "이름:  홍길동14\n",
      "국어:  71\n",
      "영어:  25\n",
      "수학:  57\n",
      "===============\n",
      "===============\n",
      "이름:  홍길동15\n",
      "국어:  74\n",
      "영어:  1\n",
      "수학:  3\n",
      "===============\n",
      "===============\n",
      "이름:  홍길동16\n",
      "국어:  20\n",
      "영어:  56\n",
      "수학:  36\n",
      "===============\n",
      "===============\n",
      "이름:  홍길동17\n",
      "국어:  39\n",
      "영어:  0\n",
      "수학:  2\n",
      "===============\n",
      "===============\n",
      "이름:  홍길동18\n",
      "국어:  92\n",
      "영어:  51\n",
      "수학:  1\n",
      "===============\n",
      "===============\n",
      "이름:  홍길동19\n",
      "국어:  56\n",
      "영어:  69\n",
      "수학:  99\n",
      "===============\n",
      "===============\n",
      "이름:  홍길동20\n",
      "국어:  57\n",
      "영어:  18\n",
      "수학:  89\n",
      "===============\n",
      "===============\n",
      "이름:  홍길동21\n",
      "국어:  49\n",
      "영어:  29\n",
      "수학:  73\n",
      "===============\n",
      "===============\n",
      "이름:  홍길동22\n",
      "국어:  21\n",
      "영어:  23\n",
      "수학:  8\n",
      "===============\n",
      "===============\n",
      "이름:  홍길동23\n",
      "국어:  48\n",
      "영어:  47\n",
      "수학:  50\n",
      "===============\n",
      "===============\n",
      "이름:  홍길동24\n",
      "국어:  29\n",
      "영어:  21\n",
      "수학:  76\n",
      "===============\n",
      "===============\n",
      "이름:  홍길동25\n",
      "국어:  73\n",
      "영어:  43\n",
      "수학:  28\n",
      "===============\n",
      "===============\n",
      "이름:  홍길동26\n",
      "국어:  13\n",
      "영어:  71\n",
      "수학:  82\n",
      "===============\n",
      "===============\n",
      "이름:  홍길동27\n",
      "국어:  49\n",
      "영어:  8\n",
      "수학:  99\n",
      "===============\n",
      "===============\n",
      "이름:  홍길동28\n",
      "국어:  10\n",
      "영어:  8\n",
      "수학:  79\n",
      "===============\n",
      "===============\n",
      "이름:  홍길동29\n",
      "국어:  12\n",
      "영어:  48\n",
      "수학:  37\n",
      "===============\n",
      "===============\n",
      "이름:  홍길동30\n",
      "국어:  44\n",
      "영어:  39\n",
      "수학:  53\n",
      "===============\n",
      "===============\n",
      "이름:  홍길동31\n",
      "국어:  25\n",
      "영어:  41\n",
      "수학:  54\n",
      "===============\n",
      "===============\n",
      "이름:  홍길동32\n",
      "국어:  79\n",
      "영어:  22\n",
      "수학:  43\n",
      "===============\n",
      "===============\n",
      "이름:  홍길동33\n",
      "국어:  44\n",
      "영어:  62\n",
      "수학:  23\n",
      "===============\n",
      "===============\n",
      "이름:  홍길동34\n",
      "국어:  84\n",
      "영어:  94\n",
      "수학:  14\n",
      "===============\n",
      "===============\n",
      "이름:  홍길동35\n",
      "국어:  18\n",
      "영어:  96\n",
      "수학:  49\n",
      "===============\n",
      "===============\n",
      "이름:  홍길동36\n",
      "국어:  24\n",
      "영어:  41\n",
      "수학:  0\n",
      "===============\n",
      "===============\n",
      "이름:  홍길동37\n",
      "국어:  8\n",
      "영어:  84\n",
      "수학:  17\n",
      "===============\n",
      "===============\n",
      "이름:  홍길동38\n",
      "국어:  39\n",
      "영어:  43\n",
      "수학:  82\n",
      "===============\n",
      "===============\n",
      "이름:  홍길동39\n",
      "국어:  25\n",
      "영어:  39\n",
      "수학:  30\n",
      "===============\n",
      "===============\n",
      "이름:  홍길동40\n",
      "국어:  66\n",
      "영어:  63\n",
      "수학:  45\n",
      "===============\n",
      "===============\n",
      "이름:  홍길동41\n",
      "국어:  49\n",
      "영어:  66\n",
      "수학:  32\n",
      "===============\n",
      "===============\n",
      "이름:  홍길동42\n",
      "국어:  98\n",
      "영어:  75\n",
      "수학:  81\n",
      "===============\n",
      "===============\n",
      "이름:  홍길동43\n",
      "국어:  77\n",
      "영어:  6\n",
      "수학:  53\n",
      "===============\n",
      "===============\n",
      "이름:  홍길동44\n",
      "국어:  37\n",
      "영어:  26\n",
      "수학:  44\n",
      "===============\n",
      "===============\n",
      "이름:  홍길동45\n",
      "국어:  55\n",
      "영어:  95\n",
      "수학:  71\n",
      "===============\n",
      "===============\n",
      "이름:  홍길동46\n",
      "국어:  78\n",
      "영어:  66\n",
      "수학:  64\n",
      "===============\n",
      "===============\n",
      "이름:  홍길동47\n",
      "국어:  19\n",
      "영어:  25\n",
      "수학:  23\n",
      "===============\n",
      "===============\n",
      "이름:  홍길동48\n",
      "국어:  70\n",
      "영어:  32\n",
      "수학:  43\n",
      "===============\n",
      "===============\n",
      "이름:  홍길동49\n",
      "국어:  45\n",
      "영어:  28\n",
      "수학:  14\n",
      "===============\n",
      "===============\n",
      "이름:  홍길동50\n",
      "국어:  61\n",
      "영어:  23\n",
      "수학:  53\n",
      "===============\n",
      "===============\n",
      "이름:  홍길동51\n",
      "국어:  88\n",
      "영어:  82\n",
      "수학:  73\n",
      "===============\n",
      "===============\n",
      "이름:  홍길동52\n",
      "국어:  60\n",
      "영어:  27\n",
      "수학:  66\n",
      "===============\n",
      "===============\n",
      "이름:  홍길동53\n",
      "국어:  9\n",
      "영어:  19\n",
      "수학:  15\n",
      "===============\n",
      "===============\n",
      "이름:  홍길동54\n",
      "국어:  97\n",
      "영어:  57\n",
      "수학:  56\n",
      "===============\n",
      "===============\n",
      "이름:  홍길동55\n",
      "국어:  91\n",
      "영어:  10\n",
      "수학:  26\n",
      "===============\n",
      "===============\n",
      "이름:  홍길동56\n",
      "국어:  66\n",
      "영어:  49\n",
      "수학:  13\n",
      "===============\n",
      "===============\n",
      "이름:  홍길동57\n",
      "국어:  75\n",
      "영어:  61\n",
      "수학:  99\n",
      "===============\n",
      "===============\n",
      "이름:  홍길동58\n",
      "국어:  19\n",
      "영어:  91\n",
      "수학:  67\n",
      "===============\n",
      "===============\n",
      "이름:  홍길동59\n",
      "국어:  48\n",
      "영어:  56\n",
      "수학:  75\n",
      "===============\n",
      "===============\n",
      "이름:  홍길동60\n",
      "국어:  9\n",
      "영어:  56\n",
      "수학:  60\n",
      "===============\n",
      "===============\n",
      "이름:  홍길동61\n",
      "국어:  1\n",
      "영어:  60\n",
      "수학:  26\n",
      "===============\n",
      "===============\n",
      "이름:  홍길동62\n",
      "국어:  76\n",
      "영어:  44\n",
      "수학:  76\n",
      "===============\n",
      "===============\n",
      "이름:  홍길동63\n",
      "국어:  99\n",
      "영어:  89\n",
      "수학:  32\n",
      "===============\n",
      "===============\n",
      "이름:  홍길동64\n",
      "국어:  25\n",
      "영어:  9\n",
      "수학:  41\n",
      "===============\n",
      "===============\n",
      "이름:  홍길동65\n",
      "국어:  47\n",
      "영어:  1\n",
      "수학:  54\n",
      "===============\n",
      "===============\n",
      "이름:  홍길동66\n",
      "국어:  28\n",
      "영어:  13\n",
      "수학:  46\n",
      "===============\n",
      "===============\n",
      "이름:  홍길동67\n",
      "국어:  7\n",
      "영어:  46\n",
      "수학:  19\n",
      "===============\n",
      "===============\n",
      "이름:  홍길동68\n",
      "국어:  2\n",
      "영어:  26\n",
      "수학:  55\n",
      "===============\n",
      "===============\n",
      "이름:  홍길동69\n",
      "국어:  5\n",
      "영어:  18\n",
      "수학:  38\n",
      "===============\n",
      "===============\n",
      "이름:  홍길동70\n",
      "국어:  10\n",
      "영어:  43\n",
      "수학:  35\n",
      "===============\n",
      "===============\n",
      "이름:  홍길동71\n",
      "국어:  77\n",
      "영어:  65\n",
      "수학:  67\n",
      "===============\n",
      "===============\n",
      "이름:  홍길동72\n",
      "국어:  17\n",
      "영어:  33\n",
      "수학:  17\n",
      "===============\n",
      "===============\n",
      "이름:  홍길동73\n",
      "국어:  26\n",
      "영어:  97\n",
      "수학:  67\n",
      "===============\n",
      "===============\n",
      "이름:  홍길동74\n",
      "국어:  51\n",
      "영어:  25\n",
      "수학:  47\n",
      "===============\n",
      "===============\n",
      "이름:  홍길동75\n",
      "국어:  37\n",
      "영어:  3\n",
      "수학:  64\n",
      "===============\n",
      "===============\n",
      "이름:  홍길동76\n",
      "국어:  6\n",
      "영어:  22\n",
      "수학:  56\n",
      "===============\n",
      "===============\n",
      "이름:  홍길동77\n",
      "국어:  29\n",
      "영어:  19\n",
      "수학:  59\n",
      "===============\n",
      "===============\n",
      "이름:  홍길동78\n",
      "국어:  7\n",
      "영어:  47\n",
      "수학:  98\n",
      "===============\n",
      "===============\n",
      "이름:  홍길동79\n",
      "국어:  71\n",
      "영어:  92\n",
      "수학:  40\n",
      "===============\n",
      "===============\n",
      "이름:  홍길동80\n",
      "국어:  5\n",
      "영어:  9\n",
      "수학:  98\n",
      "===============\n",
      "===============\n",
      "이름:  홍길동81\n",
      "국어:  54\n",
      "영어:  9\n",
      "수학:  42\n",
      "===============\n",
      "===============\n",
      "이름:  홍길동82\n",
      "국어:  38\n",
      "영어:  68\n",
      "수학:  63\n",
      "===============\n",
      "===============\n",
      "이름:  홍길동83\n",
      "국어:  67\n",
      "영어:  36\n",
      "수학:  88\n",
      "===============\n",
      "===============\n",
      "이름:  홍길동84\n",
      "국어:  45\n",
      "영어:  79\n",
      "수학:  80\n",
      "===============\n",
      "===============\n",
      "이름:  홍길동85\n",
      "국어:  92\n",
      "영어:  71\n",
      "수학:  0\n",
      "===============\n",
      "===============\n",
      "이름:  홍길동86\n",
      "국어:  10\n",
      "영어:  15\n",
      "수학:  65\n",
      "===============\n",
      "===============\n",
      "이름:  홍길동87\n",
      "국어:  71\n",
      "영어:  4\n",
      "수학:  44\n",
      "===============\n",
      "===============\n",
      "이름:  홍길동88\n",
      "국어:  82\n",
      "영어:  45\n",
      "수학:  83\n",
      "===============\n",
      "===============\n",
      "이름:  홍길동89\n",
      "국어:  24\n",
      "영어:  13\n",
      "수학:  25\n",
      "===============\n",
      "===============\n",
      "이름:  홍길동90\n",
      "국어:  23\n",
      "영어:  36\n",
      "수학:  80\n",
      "===============\n",
      "===============\n",
      "이름:  홍길동91\n",
      "국어:  84\n",
      "영어:  99\n",
      "수학:  34\n",
      "===============\n",
      "===============\n",
      "이름:  홍길동92\n",
      "국어:  17\n",
      "영어:  56\n",
      "수학:  15\n",
      "===============\n",
      "===============\n",
      "이름:  홍길동93\n",
      "국어:  81\n",
      "영어:  8\n",
      "수학:  99\n",
      "===============\n",
      "===============\n",
      "이름:  홍길동94\n",
      "국어:  81\n",
      "영어:  44\n",
      "수학:  7\n",
      "===============\n",
      "===============\n",
      "이름:  홍길동95\n",
      "국어:  99\n",
      "영어:  3\n",
      "수학:  9\n",
      "===============\n",
      "===============\n",
      "이름:  홍길동96\n",
      "국어:  64\n",
      "영어:  43\n",
      "수학:  0\n",
      "===============\n",
      "===============\n",
      "이름:  홍길동97\n",
      "국어:  40\n",
      "영어:  40\n",
      "수학:  90\n",
      "===============\n",
      "===============\n",
      "이름:  홍길동98\n",
      "국어:  29\n",
      "영어:  51\n",
      "수학:  90\n",
      "===============\n",
      "===============\n",
      "이름:  홍길동99\n",
      "국어:  76\n",
      "영어:  61\n",
      "수학:  14\n",
      "===============\n"
     ]
    }
   ],
   "source": [
    "f=0 # 빈 변수 선언\n",
    "f=open(\"score.txt\",\"rt\") #위에서 생성한 파일 읽어오기, read + textfile = rt\n",
    "while True: #무한루프 만들기\n",
    "    one_person=f.readline() #한 줄씩 읽어온 데이터를 변수에 담아 구조화\n",
    "    if not one_person:  #읽을 내용이 없으면 \n",
    "        break #제어문 브레이크로 루프를 나온다.\n",
    "    one_person=one_person.replace(\"\\n\",\"\") #줄 바꿈 이스케이프 시퀀스를 replace로 없애기\n",
    "    item=one_person.split(\",\") #콤마를 기준으로 split메소드 적용하여 자르기.\n",
    "    print(\"=\"*15) #구분선 출력\n",
    "    print(\"이름: \", item[0]) #읽어온 파일에서 이름 출력\n",
    "    print(\"국어: \", item[1]) #국어 출력\n",
    "    print(\"영어: \", item[2]) #영어 출력\n",
    "    print(\"수학: \", item[3]) #학 출력\n",
    "    print(\"=\"*15) #줄긋기\n",
    "f.close() #파일 읽기 종료"
   ]
  },
  {
   "cell_type": "code",
   "execution_count": 39,
   "id": "1c217d78",
   "metadata": {},
   "outputs": [],
   "source": [
    "import sqlite3 #db를 다루기 위해 sqlite3를 import하기."
   ]
  },
  {
   "cell_type": "code",
   "execution_count": 45,
   "id": "48f7167f",
   "metadata": {},
   "outputs": [],
   "source": [
    "conn = sqlite3.connect(\"exam.db\", isolation_level=None) #DB생성, 오토커밋 설정해주기"
   ]
  },
  {
   "cell_type": "code",
   "execution_count": 46,
   "id": "2e63db0c",
   "metadata": {},
   "outputs": [],
   "source": [
    "c = conn.cursor() #커서 획득\n",
    "#파이썬에서 파일을 읽고 쓰려면 커서를 가져와야 한다."
   ]
  },
  {
   "cell_type": "code",
   "execution_count": 57,
   "id": "1aa56fe6",
   "metadata": {},
   "outputs": [
    {
     "data": {
      "text/plain": [
       "<sqlite3.Cursor at 0x19da4e451f0>"
      ]
     },
     "execution_count": 57,
     "metadata": {},
     "output_type": "execute_result"
    }
   ],
   "source": [
    "c.execute(\"CREATE TABLE IF NOT EXISTS examtable \\\n",
    "    (name text, id integer PRIMARY KEY, kor integer, eng integer, mat integer)\")\n",
    "# \"테이블 이름이라는 테이블이 없으면 테이블을 생성해라”라는 의미"
   ]
  },
  {
   "cell_type": "code",
   "execution_count": 59,
   "id": "155fa546",
   "metadata": {},
   "outputs": [
    {
     "data": {
      "text/plain": [
       "<sqlite3.Cursor at 0x19da4e451f0>"
      ]
     },
     "execution_count": 59,
     "metadata": {},
     "output_type": "execute_result"
    }
   ],
   "source": [
    "c.execute(\"drop table examtable\") #execute실행문 쿼리에 테이블 삭제 명령 내리기."
   ]
  },
  {
   "cell_type": "code",
   "execution_count": 61,
   "id": "2e2f5263",
   "metadata": {
    "scrolled": true
   },
   "outputs": [
    {
     "data": {
      "text/plain": [
       "<sqlite3.Cursor at 0x19da4e451f0>"
      ]
     },
     "execution_count": 61,
     "metadata": {},
     "output_type": "execute_result"
    }
   ],
   "source": [
    "c.execute(\"CREATE TABLE IF NOT EXISTS examtable \\\n",
    "    (name text, id integer NOT NULL PRIMARY KEY, kor integer, eng integer, mat integer)\")\n",
    "# \"테이블 이름이라는 테이블이 없으면 테이블을 생성해라”라는 의미"
   ]
  },
  {
   "cell_type": "code",
   "execution_count": 76,
   "id": "4fcf9839",
   "metadata": {},
   "outputs": [
    {
     "data": {
      "text/plain": [
       "<sqlite3.Cursor at 0x19da4e451f0>"
      ]
     },
     "execution_count": 76,
     "metadata": {},
     "output_type": "execute_result"
    }
   ],
   "source": [
    "c.execute(\"DELETE FROM table1 WHERE id=?\", (20990001,))"
   ]
  },
  {
   "cell_type": "code",
   "execution_count": 77,
   "id": "e62b4dc4",
   "metadata": {},
   "outputs": [],
   "source": [
    "for row in c.execute('SELECT * FROM table1'):\n",
    "    print(row) #db내용 확인"
   ]
  },
  {
   "cell_type": "code",
   "execution_count": 82,
   "id": "5e6a451c",
   "metadata": {},
   "outputs": [
    {
     "data": {
      "text/plain": [
       "<sqlite3.Cursor at 0x19da4e451f0>"
      ]
     },
     "execution_count": 82,
     "metadata": {},
     "output_type": "execute_result"
    }
   ],
   "source": [
    "c.execute(\"INSERT INTO examtable \\\n",
    "    VALUES('나연',2099001, 95, 100 ,95)\");\n",
    "c.execute(\"SELECT * FROM examtable\")  #execute통해서 examtable에 해당 values를 insert한다.\n",
    "#examtable에 있는 모든 데이터를 셀렉트 한다.(셀렉트 하기만 할 뿐)"
   ]
  },
  {
   "cell_type": "code",
   "execution_count": 83,
   "id": "207bf209",
   "metadata": {},
   "outputs": [
    {
     "data": {
      "text/plain": [
       "<sqlite3.Cursor at 0x19da4e451f0>"
      ]
     },
     "execution_count": 83,
     "metadata": {},
     "output_type": "execute_result"
    }
   ],
   "source": [
    "c.execute(\"INSERT INTO examtable \\\n",
    "    VALUES('정연',2099002, 95, 95, 95)\");\n",
    "c.execute(\"SELECT * FROM examtable\")"
   ]
  },
  {
   "cell_type": "code",
   "execution_count": 84,
   "id": "e3a41a0e",
   "metadata": {},
   "outputs": [
    {
     "data": {
      "text/plain": [
       "<sqlite3.Cursor at 0x19da4e451f0>"
      ]
     },
     "execution_count": 84,
     "metadata": {},
     "output_type": "execute_result"
    }
   ],
   "source": [
    "c.execute(\"INSERT INTO examtable \\\n",
    "    VALUES('모모',2099003, 100, 100, 100)\");\n",
    "c.execute(\"SELECT * FROM examtable\")"
   ]
  },
  {
   "cell_type": "code",
   "execution_count": 85,
   "id": "89192203",
   "metadata": {},
   "outputs": [
    {
     "data": {
      "text/plain": [
       "<sqlite3.Cursor at 0x19da4e451f0>"
      ]
     },
     "execution_count": 85,
     "metadata": {},
     "output_type": "execute_result"
    }
   ],
   "source": [
    "c.execute(\"INSERT INTO examtable \\\n",
    "    VALUES('사나',2099004, 100, 95, 90)\");\n",
    "c.execute(\"SELECT * FROM examtable\")"
   ]
  },
  {
   "cell_type": "code",
   "execution_count": 86,
   "id": "50684972",
   "metadata": {},
   "outputs": [
    {
     "data": {
      "text/plain": [
       "<sqlite3.Cursor at 0x19da4e451f0>"
      ]
     },
     "execution_count": 86,
     "metadata": {},
     "output_type": "execute_result"
    }
   ],
   "source": [
    "c.execute(\"INSERT INTO examtable \\\n",
    "    VALUES('지효',2099005, 80, 100, 70)\");\n",
    "c.execute(\"SELECT * FROM examtable\")"
   ]
  },
  {
   "cell_type": "code",
   "execution_count": 87,
   "id": "cd047dd7",
   "metadata": {},
   "outputs": [
    {
     "data": {
      "text/plain": [
       "<sqlite3.Cursor at 0x19da4e451f0>"
      ]
     },
     "execution_count": 87,
     "metadata": {},
     "output_type": "execute_result"
    }
   ],
   "source": [
    "c.execute(\"INSERT INTO examtable \\\n",
    "    VALUES('미나',2099006, 100, 100, 70)\");\n",
    "c.execute(\"SELECT * FROM examtable\")"
   ]
  },
  {
   "cell_type": "code",
   "execution_count": 88,
   "id": "eda917ae",
   "metadata": {},
   "outputs": [
    {
     "data": {
      "text/plain": [
       "<sqlite3.Cursor at 0x19da4e451f0>"
      ]
     },
     "execution_count": 88,
     "metadata": {},
     "output_type": "execute_result"
    }
   ],
   "source": [
    "c.execute(\"INSERT INTO examtable \\\n",
    "    VALUES('다현',2099007, 70, 70, 70)\");\n",
    "c.execute(\"SELECT * FROM examtable\")"
   ]
  },
  {
   "cell_type": "code",
   "execution_count": 89,
   "id": "323ae0cb",
   "metadata": {},
   "outputs": [
    {
     "data": {
      "text/plain": [
       "<sqlite3.Cursor at 0x19da4e451f0>"
      ]
     },
     "execution_count": 89,
     "metadata": {},
     "output_type": "execute_result"
    }
   ],
   "source": [
    "c.execute(\"INSERT INTO examtable \\\n",
    "    VALUES('채영',2099008, 80, 90, 80)\");\n",
    "c.execute(\"SELECT * FROM examtable\")"
   ]
  },
  {
   "cell_type": "code",
   "execution_count": 90,
   "id": "b9770b93",
   "metadata": {},
   "outputs": [
    {
     "data": {
      "text/plain": [
       "<sqlite3.Cursor at 0x19da4e451f0>"
      ]
     },
     "execution_count": 90,
     "metadata": {},
     "output_type": "execute_result"
    }
   ],
   "source": [
    "c.execute(\"INSERT INTO examtable \\\n",
    "    VALUES('쯔위',2099009, 60, 100, 80)\");\n",
    "c.execute(\"SELECT * FROM examtable\")"
   ]
  },
  {
   "cell_type": "code",
   "execution_count": 91,
   "id": "a9059f3b",
   "metadata": {},
   "outputs": [
    {
     "name": "stdout",
     "output_type": "stream",
     "text": [
      "[('나연', 1, 95, 100, 95), ('나연', 2099001, 95, 100, 95), ('정연', 2099002, 95, 95, 95), ('모모', 2099003, 100, 100, 100), ('사나', 2099004, 100, 95, 90), ('지효', 2099005, 80, 100, 70), ('미나', 2099006, 100, 100, 70), ('다현', 2099007, 70, 70, 70), ('채영', 2099008, 80, 90, 80), ('쯔위', 2099009, 60, 100, 80), ('나연', 20990001, 95, 100, 95)]\n"
     ]
    }
   ],
   "source": [
    "c.execute(\"SELECT * FROM examtable\") #전체를 셀렉트하고\n",
    "print(c.fetchall()) #fetch 가져오다."
   ]
  },
  {
   "cell_type": "code",
   "execution_count": 100,
   "id": "b8314d4e",
   "metadata": {},
   "outputs": [
    {
     "name": "stdout",
     "output_type": "stream",
     "text": [
      "('다현', 2099007, 70, 70, 70)\n"
     ]
    }
   ],
   "source": [
    "c.execute(\"SELECT * FROM examtable WHERE name='다현'\"); #name값이 다현인 데이터를 가져와 프린트하기\n",
    "print(c.fetchone())"
   ]
  },
  {
   "cell_type": "code",
   "execution_count": 102,
   "id": "04fd79f3",
   "metadata": {},
   "outputs": [
    {
     "name": "stdout",
     "output_type": "stream",
     "text": [
      "[('나연', 2099001, 95, 100, 95), ('정연', 2099002, 95, 95, 95), ('모모', 2099003, 100, 100, 100), ('사나', 2099004, 100, 95, 90), ('지효', 2099005, 80, 100, 70), ('미나', 2099006, 100, 100, 70), ('다현', 2099007, 70, 70, 70), ('채영', 2099008, 80, 90, 80), ('쯔위', 2099009, 60, 100, 80), ('나연', 20990001, 95, 100, 95)]\n"
     ]
    }
   ],
   "source": [
    "c.execute(\"SELECT * FROM examtable WHERE id>209902\"); #id값이 209902보다 큰 데이터 프린트하기\n",
    "print(c.fetchall())"
   ]
  },
  {
   "cell_type": "code",
   "execution_count": 103,
   "id": "a5ac0fbf",
   "metadata": {},
   "outputs": [
    {
     "name": "stdout",
     "output_type": "stream",
     "text": [
      "[('사나', 2099004, 100, 95, 90), ('지효', 2099005, 80, 100, 70), ('미나', 2099006, 100, 100, 70), ('다현', 2099007, 70, 70, 70), ('채영', 2099008, 80, 90, 80), ('쯔위', 2099009, 60, 100, 80)]\n"
     ]
    }
   ],
   "source": [
    "c.execute(\"SELECT * FROM examtable WHERE mat<95\"); #mat값이 95보다 작은 데이터 선택 및 프린트\n",
    "print(c.fetchall())"
   ]
  },
  {
   "cell_type": "code",
   "execution_count": 104,
   "id": "6b864c75",
   "metadata": {},
   "outputs": [
    {
     "name": "stdout",
     "output_type": "stream",
     "text": [
      "[('모모', 2099003, 100, 100, 100)]\n"
     ]
    }
   ],
   "source": [
    "c.execute(\"SELECT * FROM examtable WHERE mat>95 and eng>95\"); \n",
    "print(c.fetchall())\n",
    "#mat값이 95보다 '크면서' eng값이 95보다 큰 데이터들 선택 및 프린트"
   ]
  },
  {
   "cell_type": "code",
   "execution_count": 105,
   "id": "92a124a0",
   "metadata": {},
   "outputs": [
    {
     "name": "stdout",
     "output_type": "stream",
     "text": [
      "[('나연', 1, 95, 100, 95), ('나연', 2099001, 95, 100, 95), ('모모', 2099003, 100, 100, 100), ('지효', 2099005, 80, 100, 70), ('미나', 2099006, 100, 100, 70), ('쯔위', 2099009, 60, 100, 80), ('나연', 20990001, 95, 100, 95)]\n"
     ]
    }
   ],
   "source": [
    "c.execute(\"SELECT * FROM examtable WHERE mat>95 or eng>95\"); \n",
    "print(c.fetchall())\n",
    "#mat값이 95보다 '크거나' eng값이 95보다 큰 데이터들 선택 및 프린트"
   ]
  },
  {
   "cell_type": "code",
   "execution_count": 111,
   "id": "1cd45092",
   "metadata": {},
   "outputs": [
    {
     "name": "stdout",
     "output_type": "stream",
     "text": [
      "[('다현', 2099007, 70, 95, 91)]\n"
     ]
    }
   ],
   "source": [
    "c.execute(\"UPDATE examtable SET eng=95, mat=91 WHERE name='다현'\")\n",
    "c.execute(\"SELECT * FROM examtable WHERE name='다현'\")\n",
    "print(c.fetchall())\n",
    "#name이 다현인 데이터의 eng과 mat값을 수정함. 다시 셀렉트하고 출력하여 변경 값 확인."
   ]
  },
  {
   "cell_type": "code",
   "execution_count": 113,
   "id": "0fe1604e",
   "metadata": {
    "scrolled": true
   },
   "outputs": [
    {
     "name": "stdout",
     "output_type": "stream",
     "text": [
      "[('나연', 1, 95, 95, 91), ('나연', 2099001, 95, 95, 91), ('정연', 2099002, 95, 95, 91), ('모모', 2099003, 100, 95, 91), ('사나', 2099004, 100, 95, 91), ('지효', 2099005, 80, 95, 91), ('미나', 2099006, 100, 95, 91), ('다현', 2099007, 70, 95, 91), ('채영', 2099008, 80, 95, 91), ('쯔위', 2099009, 60, 95, 91), ('나연', 20990001, 95, 95, 91)]\n"
     ]
    }
   ],
   "source": [
    "c.execute(\"UPDATE examtable SET eng=95, mat=91\")\n",
    "c.execute(\"SELECT * FROM examtable\")\n",
    "print(c.fetchall())\n",
    "#모든 데이터의 eng과 mat값을 95, 91로 업데이트하고 모두 재출력하여 변경 확인."
   ]
  },
  {
   "cell_type": "code",
   "execution_count": 114,
   "id": "cd3ef27a",
   "metadata": {
    "scrolled": false
   },
   "outputs": [
    {
     "name": "stdout",
     "output_type": "stream",
     "text": [
      "[('나연', 1, 95, 95, 91), ('나연', 2099001, 95, 95, 91), ('정연', 2099002, 95, 95, 91), ('모모', 2099003, 100, 95, 91), ('사나', 2099004, 100, 95, 91), ('지효', 2099005, 80, 95, 91), ('미나', 2099006, 100, 95, 91), ('채영', 2099008, 80, 95, 91), ('쯔위', 2099009, 60, 95, 91), ('나연', 20990001, 95, 95, 91)]\n"
     ]
    }
   ],
   "source": [
    "c.execute(\"DELETE FROM examtable WHERE name='다현'\")\n",
    "c.execute(\"SELECT * FROM examtable\")\n",
    "print(c.fetchall())\n",
    "#name값이 다현인 데이터를 삭제하고 모두 재출력하여 다현이가 삭제된 것을 확인한다."
   ]
  },
  {
   "cell_type": "code",
   "execution_count": 115,
   "id": "2a8dc3cb",
   "metadata": {},
   "outputs": [
    {
     "ename": "SyntaxError",
     "evalue": "invalid character in identifier (1287268781.py, line 1)",
     "output_type": "error",
     "traceback": [
      "\u001b[1;36m  Input \u001b[1;32mIn [115]\u001b[1;36m\u001b[0m\n\u001b[1;33m    con = sqlite3.connect(“db파일명”) #DB연결, 패스까지 써줌 기본은 현 소스파일의 디렉토리\u001b[0m\n\u001b[1;37m                                ^\u001b[0m\n\u001b[1;31mSyntaxError\u001b[0m\u001b[1;31m:\u001b[0m invalid character in identifier\n"
     ]
    }
   ],
   "source": [
    "con = sqlite3.connect(“db파일명”) #DB연결, 패스까지 써줌 기본은 현 소스파일의 디렉토리\n",
    "cursor = con.cursor() #데이터베이스사용공간 만듦. 커서를 생성하고 커서를 통해서 명령을 내려야 \n",
    "#db를 컨트롤 할 수 있게됨\n",
    "\n",
    "#cursor.execute(“sql문”)~~이부분에 sql쿼리 작성\n",
    "cursor.close()  #커서를 열었으면 닫아주어 메모리 절약\n",
    "con.close() #커넥션을 열었으면 닫아주어 메모리 절약"
   ]
  },
  {
   "cell_type": "code",
   "execution_count": 121,
   "id": "6886d635",
   "metadata": {
    "scrolled": true
   },
   "outputs": [],
   "source": [
    "import sqlite3 as s #sqlite3를 s로 선언\n",
    "con=s.connect(\"my01.db\") #DB연결, 현 소스파일의 디렉토리\n",
    "cursor = con.cursor() #데이터베이스 사용공간을 만든다."
   ]
  },
  {
   "cell_type": "code",
   "execution_count": 130,
   "id": "e9e45c8a",
   "metadata": {},
   "outputs": [
    {
     "ename": "OperationalError",
     "evalue": "no such table: examtable",
     "output_type": "error",
     "traceback": [
      "\u001b[1;31m---------------------------------------------------------------------------\u001b[0m",
      "\u001b[1;31mOperationalError\u001b[0m                          Traceback (most recent call last)",
      "Input \u001b[1;32mIn [130]\u001b[0m, in \u001b[0;36m<cell line: 2>\u001b[1;34m()\u001b[0m\n\u001b[0;32m      1\u001b[0m \u001b[38;5;66;03m#table 삭제\u001b[39;00m\n\u001b[1;32m----> 2\u001b[0m \u001b[43mcursor\u001b[49m\u001b[38;5;241;43m.\u001b[39;49m\u001b[43mexecute\u001b[49m\u001b[43m(\u001b[49m\u001b[38;5;124;43m\"\u001b[39;49m\u001b[38;5;124;43mDROP TABLE examtable\u001b[39;49m\u001b[38;5;124;43m\"\u001b[39;49m\u001b[43m)\u001b[49m\n\u001b[0;32m      3\u001b[0m con\u001b[38;5;241m.\u001b[39mcommit()\n",
      "\u001b[1;31mOperationalError\u001b[0m: no such table: examtable"
     ]
    }
   ],
   "source": [
    "#table 삭제\n",
    "cursor.execute(\"DROP TABLE examtable\")\n",
    "con.commit()"
   ]
  },
  {
   "cell_type": "code",
   "execution_count": 134,
   "id": "576ac008",
   "metadata": {},
   "outputs": [],
   "source": [
    "#table 생성\n",
    "cursor.execute(\"CREATE TABLE examtable( \\\n",
    "    name varchar(20),\\\n",
    "    studentid int not null primary key,\\\n",
    "    kor int,\\\n",
    "    eng int,\\\n",
    "    mat int) \\\n",
    "    \")\n",
    "\n",
    "con.commit() #버퍼에 처리된 내용을 기록 commit\n",
    "cursor.close()#커서를 열었으면 닫아주어 메모리 절약\n",
    "con.close()#커넥션을 열었으면 닫아주어 메모리 절약"
   ]
  },
  {
   "cell_type": "code",
   "execution_count": 135,
   "id": "8990ce0d",
   "metadata": {},
   "outputs": [],
   "source": [
    "import sqlite3 as s #sqlite3를 s로 선언\n",
    "con=s.connect(\"my01.db\") #my01.db 와 연결\n",
    "cursor = con.cursor() #con의 cursor함수를 cursor에 저장하여 다루기 편하게 만듦\n",
    "\n",
    "#테이블내에 각 키 값에 맞는 데이터들을 넣어준다.\n",
    "cursor.execute(\"insert into examtable (name, studentid, kor, eng, mat) values (\\\"나연\\\", 20990001, 95, 100, 95);\") \n",
    "cursor.execute(\"insert into examtable (name, studentid, kor, eng, mat) values (\\\"정연\\\", 20990002, 90, 90, 85);\")\n",
    "cursor.execute(\"insert into examtable (name, studentid, kor, eng, mat) values (\\\"모모\\\", 20990003, 95, 95, 75);\")\n",
    "cursor.execute(\"insert into examtable (name, studentid, kor, eng, mat) values (\\\"사나\\\", 20990004, 85, 90, 90);\")\n",
    "cursor.execute(\"insert into examtable (name, studentid, kor, eng, mat) values (\\\"지효\\\", 20990005, 100, 90, 85);\")\n",
    "cursor.execute(\"insert into examtable (name, studentid, kor, eng, mat) values (\\\"미나\\\", 20990006, 90, 80, 90);\")\n",
    "cursor.execute(\"insert into examtable (name, studentid, kor, eng, mat) values (\\\"다현\\\", 20990007, 75, 90, 100);\")\n",
    "cursor.execute(\"insert into examtable (name, studentid, kor, eng, mat) values (\\\"채영\\\", 20990008, 95, 70, 90);\")\n",
    "cursor.execute(\"insert into examtable (name, studentid, kor, eng, mat) values (\\\"쯔위\\\", 20990009, 85, 90, 90);\")\n",
    "\n",
    "con.commit() #버퍼에 처리된 내용을 기록 commit\n",
    "cursor.close() #커서를 열었으면 닫아주어 메모리 절약\n",
    "con.close()#커넥션을 열었으면 닫아주어 메모리 절약"
   ]
  },
  {
   "cell_type": "code",
   "execution_count": 136,
   "id": "377786a1",
   "metadata": {
    "scrolled": true
   },
   "outputs": [
    {
     "name": "stdout",
     "output_type": "stream",
     "text": [
      "이름:나연 학번:20990001 국어: 95 영어:100 수학: 95 총점:290 평균: 96\n",
      "이름:정연 학번:20990002 국어: 90 영어: 90 수학: 85 총점:265 평균: 88\n",
      "이름:모모 학번:20990003 국어: 95 영어: 95 수학: 75 총점:265 평균: 88\n",
      "이름:사나 학번:20990004 국어: 85 영어: 90 수학: 90 총점:265 평균: 88\n",
      "이름:지효 학번:20990005 국어:100 영어: 90 수학: 85 총점:275 평균: 91\n",
      "이름:미나 학번:20990006 국어: 90 영어: 80 수학: 90 총점:260 평균: 86\n",
      "이름:다현 학번:20990007 국어: 75 영어: 90 수학:100 총점:265 평균: 88\n",
      "이름:채영 학번:20990008 국어: 95 영어: 70 수학: 90 총점:255 평균: 85\n",
      "이름:쯔위 학번:20990009 국어: 85 영어: 90 수학: 90 총점:265 평균: 88\n"
     ]
    }
   ],
   "source": [
    "import sqlite3 as s #sqlite3를 s로 선언\n",
    "con=s.connect(\"my01.db\") #my01.db 와 연결\n",
    "cursor = con.cursor() #con의 cursor함수를 cursor에 저장하여 다루기 편하게 만듦\n",
    "# 테이블의 모든 내용 출력하는 명령 실행\n",
    "cursor.execute(\"select * from examtable\")\n",
    "\n",
    "one_rec=cursor.fetchall() #해당 데이터를 전부 가져옴 fetch : 가져오다.\n",
    "\n",
    "for field in one_rec: #해당 데이터를 반복문을 통해 하나씩 처리\n",
    "    kor=field[2]\n",
    "    eng=field[3]\n",
    "    mat=field[4]\n",
    "    print(\"이름:%s 학번:%s 국어:%3d 영어:%3d 수학:%3d 총점:%3d 평균:%3d\"%(field[0],field[1],kor,eng,mat,kor+eng+mat,int((kor+eng+mat)/3)))\n",
    "\n",
    "cursor.close() #커서를 열었으면 닫아주어 메모리 절약\n",
    "con.close()#커넥션을 열었으면 닫아주어 메모리 절약"
   ]
  },
  {
   "cell_type": "code",
   "execution_count": null,
   "id": "7630bdb9",
   "metadata": {},
   "outputs": [],
   "source": []
  }
 ],
 "metadata": {
  "kernelspec": {
   "display_name": "Python 3 (ipykernel)",
   "language": "python",
   "name": "python3"
  },
  "language_info": {
   "codemirror_mode": {
    "name": "ipython",
    "version": 3
   },
   "file_extension": ".py",
   "mimetype": "text/x-python",
   "name": "python",
   "nbconvert_exporter": "python",
   "pygments_lexer": "ipython3",
   "version": "3.8.8rc1"
  }
 },
 "nbformat": 4,
 "nbformat_minor": 5
}
