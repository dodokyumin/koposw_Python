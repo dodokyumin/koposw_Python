{
 "cells": [
  {
   "cell_type": "code",
   "execution_count": 12,
   "id": "8804cefa",
   "metadata": {},
   "outputs": [
    {
     "name": "stdout",
     "output_type": "stream",
     "text": [
      "2층입니다\n",
      "3층입니다\n",
      "4층입니다\n",
      "5층입니다\n",
      "6층입니다\n",
      "7층입니다\n",
      "8층입니다\n",
      "9층입니다\n",
      "10층입니다\n",
      "11층입니다\n",
      "12층입니다\n",
      "13층입니다\n",
      "14층입니다\n",
      "15층입니다\n",
      "최상층 입니다\n",
      "최상층 입니다\n",
      "최상층 입니다\n",
      "최상층 입니다\n",
      "최상층 입니다\n",
      "최상층 입니다\n",
      "14층입니다\n",
      "13층입니다\n",
      "12층입니다\n",
      "11층입니다\n",
      "10층입니다\n",
      "9층입니다\n",
      "8층입니다\n",
      "7층입니다\n",
      "6층입니다\n",
      "5층입니다\n",
      "4층입니다\n",
      "3층입니다\n",
      "2층입니다\n",
      "1층입니다\n",
      "0층입니다\n",
      "최하층 입니다\n",
      "최하층 입니다\n",
      "최하층 입니다\n",
      "최하층 입니다\n",
      "최하층 입니다\n"
     ]
    }
   ],
   "source": [
    "myclass = elevator(1,15,0,\"\") #(현재1층, 최저0층, 최고15층, 메시지)\n",
    "#값으로 클래스생성\n",
    "for i in range(20): #20번 up()를 실행\n",
    "    myclass.up()\n",
    "for i in range(20): #20번 down()을 실행\n",
    "    myclass.down()"
   ]
  },
  {
   "cell_type": "code",
   "execution_count": 11,
   "id": "528193c0",
   "metadata": {},
   "outputs": [],
   "source": [
    "class elevator: #클래스 선언(생성)하기\n",
    "    def __init__(self,floor,limit_up_floor,limit_down_floor,msg): #4개의 파라미터를 받는 함수 생성\n",
    "        self.floor=floor #현재 층을 담는 변수\n",
    "        self.limit_up_floor=limit_up_floor # 최고 층을 받는 변수\n",
    "        self.limit_down_floor=limit_down_floor # 최저 층을 받는 변수\n",
    "        self.msg=msg  #메세지를 받는 변수\n",
    "\n",
    "    def up(self): #up 함수 (생성)하기\n",
    "        if self.floor == self.limit_up_floor: #현재층이 최고층과 같아지면\n",
    "            self.msg=\"최상층 입니다\" #해당 메세지 출력\n",
    "        else: #현재층이 최고층과 같지 않으면\n",
    "            self.floor+=1  #현재층+1 \n",
    "            self.msg=str(self.floor)+\"층입니다\" #해당 메세지 출력\n",
    "        print(self.msg) #현재 층 안내\n",
    "\n",
    "    def down(self): #down 함수 (생성)하기\n",
    "        if self.floor == self.limit_down_floor: #현재층이 최하층과 같아지면\n",
    "            self.msg=\"최하층 입니다\" #해당 메세지 출력\n",
    "        else: #현재층이 최하층과 같지 않으면\n",
    "            self.floor-=1 #1현재층-1\n",
    "            self.msg=str(self.floor)+\"층입니다\" #해당 메세지 출력\n",
    "        print(self.msg)"
   ]
  },
  {
   "cell_type": "code",
   "execution_count": 13,
   "id": "0a0d7604",
   "metadata": {},
   "outputs": [
    {
     "name": "stdout",
     "output_type": "stream",
     "text": [
      "myclass->2층입니다\n",
      "yourclass->6층입니다\n",
      "myclass->3층입니다\n",
      "yourclass->7층입니다\n",
      "myclass->4층입니다\n",
      "yourclass->8층입니다\n",
      "myclass->5층입니다\n",
      "yourclass->9층입니다\n",
      "myclass->6층입니다\n",
      "yourclass->10층입니다\n",
      "myclass->7층입니다\n",
      "yourclass->최상층 입니다\n",
      "myclass->8층입니다\n",
      "yourclass->최상층 입니다\n",
      "myclass->9층입니다\n",
      "yourclass->최상층 입니다\n",
      "myclass->10층입니다\n",
      "yourclass->최상층 입니다\n",
      "myclass->11층입니다\n",
      "yourclass->최상층 입니다\n",
      "myclass->12층입니다\n",
      "yourclass->최상층 입니다\n",
      "myclass->13층입니다\n",
      "yourclass->최상층 입니다\n",
      "myclass->14층입니다\n",
      "yourclass->최상층 입니다\n",
      "myclass->15층입니다\n",
      "yourclass->최상층 입니다\n",
      "myclass->최상층 입니다\n",
      "yourclass->최상층 입니다\n",
      "myclass->최상층 입니다\n",
      "yourclass->최상층 입니다\n",
      "myclass->최상층 입니다\n",
      "yourclass->최상층 입니다\n",
      "myclass->최상층 입니다\n",
      "yourclass->최상층 입니다\n",
      "myclass->최상층 입니다\n",
      "yourclass->최상층 입니다\n",
      "myclass->최상층 입니다\n",
      "yourclass->최상층 입니다\n",
      "myclass->14층입니다\n",
      "yourclass->9층입니다\n",
      "myclass->13층입니다\n",
      "yourclass->8층입니다\n",
      "myclass->12층입니다\n",
      "yourclass->7층입니다\n",
      "myclass->11층입니다\n",
      "yourclass->6층입니다\n",
      "myclass->10층입니다\n",
      "yourclass->5층입니다\n",
      "myclass->9층입니다\n",
      "yourclass->4층입니다\n",
      "myclass->8층입니다\n",
      "yourclass->3층입니다\n",
      "myclass->7층입니다\n",
      "yourclass->2층입니다\n",
      "myclass->6층입니다\n",
      "yourclass->1층입니다\n",
      "myclass->5층입니다\n",
      "yourclass->0층입니다\n",
      "myclass->4층입니다\n",
      "yourclass->-1층입니다\n",
      "myclass->3층입니다\n",
      "yourclass->최하층 입니다\n",
      "myclass->2층입니다\n",
      "yourclass->최하층 입니다\n",
      "myclass->1층입니다\n",
      "yourclass->최하층 입니다\n",
      "myclass->0층입니다\n",
      "yourclass->최하층 입니다\n",
      "myclass->최하층 입니다\n",
      "yourclass->최하층 입니다\n",
      "myclass->최하층 입니다\n",
      "yourclass->최하층 입니다\n",
      "myclass->최하층 입니다\n",
      "yourclass->최하층 입니다\n",
      "myclass->최하층 입니다\n",
      "yourclass->최하층 입니다\n",
      "myclass->최하층 입니다\n",
      "yourclass->최하층 입니다\n"
     ]
    }
   ],
   "source": [
    "myclass = elevator(1,15,0,\"\") # 인자세개 1층, 최고층(15), 최저층(0)을 받는 myclass인스턴스\n",
    "yourclass = elevator(5,10,-1,\"\") # 인자세개 5층, 최고층(10), 최저층(-1)을 받는 yourclass인스턴스\n",
    "\n",
    "for i in range(20): #20번 up()를 실행\n",
    "    print(\"myclass->\",end=\"\") #\n",
    "    myclass.up()\n",
    "    print(\"yourclass->\",end=\"\")\n",
    "    yourclass.up()\n",
    "\n",
    "for i in range(20): #20번 down()을 실행\n",
    "    print(\"myclass->\",end=\"\")\n",
    "    myclass.down()\n",
    "    print(\"yourclass->\",end=\"\")\n",
    "    yourclass.down()"
   ]
  },
  {
   "cell_type": "code",
   "execution_count": 18,
   "id": "0bfb1492",
   "metadata": {},
   "outputs": [],
   "source": [
    "class elevator: #클래스 선언(생성)하기\n",
    "    def __init__(self,floor,limit_up_floor,limit_down_floor,msg): #4개의 파라미터를 받는 함수 생성\n",
    "        self.floor=floor #현재 층을 담는 변수\n",
    "        self.limit_up_floor=limit_up_floor # 최고 층을 받는 변수\n",
    "        self.limit_down_floor=limit_down_floor # 최저 층을 받는 변수\n",
    "        self.msg=msg  #메세지를 받는 변수\n",
    "\n",
    "    def up(self): #up 함수 (생성)하기\n",
    "        if self.floor == self.limit_up_floor: #현재층이 최고층과 같아지면\n",
    "            self.msg=\"최상층 입니다\" #해당 메세지 출력\n",
    "        else: #현재층이 최고층과 같지 않으면\n",
    "            self.floor+=1  #현재층+1 \n",
    "            self.msg=str(self.floor)+\"층입니다\" #해당 메세지 출력\n",
    "        print(self.msg) #현재 층 안내\n",
    "\n",
    "    def down(self): #down 함수 (생성)하기\n",
    "        if self.floor == self.limit_down_floor: #현재층이 최하층과 같아지면\n",
    "            self.msg=\"최하층 입니다\" #해당 메세지 출력\n",
    "        else: #현재층이 최하층과 같지 않으면\n",
    "            self.floor-=1 #1현재층-1\n",
    "            self.msg=str(self.floor)+\"층입니다\" #해당 메세지 출력\n",
    "        print(self.msg)"
   ]
  },
  {
   "cell_type": "code",
   "execution_count": 22,
   "id": "37774384",
   "metadata": {},
   "outputs": [],
   "source": [
    "#1층, 최저0층, 최고15층, 메시지 빈 값으로 클래스생성\n",
    "myclass = elevator(1,15,0,\"\")\n",
    "\n",
    "#1층, 최저0층, 최고15층, 메시지 빈 값으로 클래스생성\n",
    "yourclass = elevator(5,10,-1,\"\")"
   ]
  },
  {
   "cell_type": "code",
   "execution_count": 20,
   "id": "fc7c7eb5",
   "metadata": {},
   "outputs": [],
   "source": [
    "class s_elevator(elevator): #기존 elavater클래스를 받는 s_elevater. 그냥 괄호안에 부모클래스 입력!\n",
    "    def __init__(self): #(self)를 통해 상속을 받은 상속자\n",
    "        super().__init__(1,15,0,\"\") #세 인자 (1층 최고 15, 최저 0, 메세지\"\")를 super에 저장\n",
    "    def up(self): #up 함수\n",
    "        super().up() #부모 elevator의 up메소드를 2번 실행\n",
    "        super().up()\n",
    "    def down(self): #부모 elevator의 down메소드를 2번 실행\n",
    "        super().down()\n",
    "        super().down()"
   ]
  },
  {
   "cell_type": "code",
   "execution_count": 21,
   "id": "e905fd06",
   "metadata": {},
   "outputs": [
    {
     "name": "stdout",
     "output_type": "stream",
     "text": [
      "2층입니다\n",
      "3층입니다\n",
      "2층입니다\n",
      "1층입니다\n",
      "2층입니다\n",
      "3층입니다\n",
      "2층입니다\n",
      "1층입니다\n",
      "2층입니다\n",
      "3층입니다\n",
      "2층입니다\n",
      "1층입니다\n",
      "2층입니다\n",
      "3층입니다\n",
      "2층입니다\n",
      "1층입니다\n",
      "2층입니다\n",
      "3층입니다\n",
      "2층입니다\n",
      "1층입니다\n",
      "2층입니다\n",
      "3층입니다\n",
      "2층입니다\n",
      "1층입니다\n",
      "2층입니다\n",
      "3층입니다\n",
      "2층입니다\n",
      "1층입니다\n",
      "2층입니다\n",
      "3층입니다\n",
      "2층입니다\n",
      "1층입니다\n",
      "2층입니다\n",
      "3층입니다\n",
      "2층입니다\n",
      "1층입니다\n",
      "2층입니다\n",
      "3층입니다\n",
      "2층입니다\n",
      "1층입니다\n",
      "2층입니다\n",
      "3층입니다\n",
      "2층입니다\n",
      "1층입니다\n",
      "2층입니다\n",
      "3층입니다\n",
      "2층입니다\n",
      "1층입니다\n",
      "2층입니다\n",
      "3층입니다\n",
      "2층입니다\n",
      "1층입니다\n",
      "2층입니다\n",
      "3층입니다\n",
      "2층입니다\n",
      "1층입니다\n",
      "2층입니다\n",
      "3층입니다\n",
      "2층입니다\n",
      "1층입니다\n",
      "2층입니다\n",
      "3층입니다\n",
      "2층입니다\n",
      "1층입니다\n",
      "2층입니다\n",
      "3층입니다\n",
      "2층입니다\n",
      "1층입니다\n",
      "2층입니다\n",
      "3층입니다\n",
      "2층입니다\n",
      "1층입니다\n",
      "2층입니다\n",
      "3층입니다\n",
      "2층입니다\n",
      "1층입니다\n",
      "2층입니다\n",
      "3층입니다\n",
      "2층입니다\n",
      "1층입니다\n"
     ]
    }
   ],
   "source": [
    "#myclass = elevator(1,15,0,\"\") s_elevator의 기본 설정\n",
    "myclass = s_elevator() #myclass에 s_elevator 선언\n",
    "for i in range(20): #20번 up()를 실행\n",
    "    myclass.up()\n",
    "    myclass.down()"
   ]
  },
  {
   "cell_type": "code",
   "execution_count": 24,
   "id": "c0e72dde",
   "metadata": {},
   "outputs": [
    {
     "name": "stdout",
     "output_type": "stream",
     "text": [
      "3125\n"
     ]
    }
   ],
   "source": [
    "class multibox: #클래스 선언, 생성\n",
    "    def __init__(self,multi): #생성자를 선언. 인자 (multi)를 받아 \n",
    "        self.multi=multi #받은 인자를 자기 지역변수 self.multi에 저장\n",
    "    def getnumber(self): #getnumber 제곱 계산메소드의 값 리턴\n",
    "        return self.num**self.multi\n",
    "    def setnumber(self,num): #getnumber에서 받는 인자num은 지수 밑의 수\n",
    "        self.num=num\n",
    "\n",
    "m=multibox(5) #몇제곱 설정\n",
    "m.setnumber(5) #지수 밑자리 수 설정\n",
    "print(m.getnumber()) #5의 5제곱 출력"
   ]
  },
  {
   "cell_type": "code",
   "execution_count": 25,
   "id": "752483d8",
   "metadata": {},
   "outputs": [
    {
     "name": "stdout",
     "output_type": "stream",
     "text": [
      "3125\n"
     ]
    }
   ],
   "source": [
    "class multibox: #클래스 선언, 생성\n",
    "    def __init__(self,multi): #생성자를 선언. 인자 (multi)를 받아 \n",
    "        self.multi=multi #받은 인자를 자기 지역변수 self.multi에 저장\n",
    "    def getnumber(self): #getnumber 제곱 계산메소드의 값 리턴\n",
    "        return self.num**self.multi\n",
    "    def setnumber(self,num): #getnumber에서 받는 인자num은 지수 밑의 수\n",
    "        self.num=num #받은 인자를 자기 지역변수 self.num에 저장\n",
    "    number=property(getnumber,setnumber) #get, set 한 값을 number에 계산\n",
    "\n",
    "m=multibox(5) #5제곱 설정\n",
    "m.number=5 #대상 자연수는 5\n",
    "print(m.number) #결과 출력"
   ]
  },
  {
   "cell_type": "code",
   "execution_count": 26,
   "id": "ec963c81",
   "metadata": {},
   "outputs": [
    {
     "name": "stdout",
     "output_type": "stream",
     "text": [
      "클래스 참조횟수는 2 회 입니다\n"
     ]
    }
   ],
   "source": [
    "class myclass: #클래스 생성\n",
    "    cnt=0 #이 클래스 안에서 적용되는 static변수\n",
    "    def __init__(self): #생성자 선언  \n",
    "        myclass.cnt+=1 #myclass의 static변수에 값을 누적\n",
    "    @classmethod #클래스 메서드 선언\n",
    "    def refcount(cls): #self가 아니라 cls로 정의 . cls는 전체 클래스\n",
    "        print(\"클래스 참조횟수는\",cls.cnt,\"회 입니다\")\n",
    "\n",
    "a=myclass() #myclass() 메소드로 실행\n",
    "b=myclass() #myclass() 메소드로 실행\n",
    "myclass.refcount() #2회 실행 한 메세지 출력"
   ]
  },
  {
   "cell_type": "code",
   "execution_count": 27,
   "id": "e36e5cbc",
   "metadata": {},
   "outputs": [
    {
     "name": "stdout",
     "output_type": "stream",
     "text": [
      "이 클래스는 아무런 일도 하지 않는다\n",
      "이 클래스는 아무런 일도 하지 않는다\n"
     ]
    }
   ],
   "source": [
    "class myclass: #클래스 생성\n",
    "    cnt=0 #이 클래스 안에서 적용되는 static변수\n",
    "    def __init__(self): #생성자 선언 \n",
    "        myclass.cnt+=1  #myclass의 static변수에 값을 누적\n",
    "    @staticmethod #정적 메서드 선언\n",
    "    def helf(): #아래 메세지 출력하는 메소드 생성\n",
    "        print(\"이 클래스는 아무런 일도 하지 않는다\")\n",
    "\n",
    "myclass.helf() #helf 메세지 출력\n",
    "a=myclass() #myclass 메소드 실행\n",
    "myclass.helf() #helf 메세지 출력"
   ]
  },
  {
   "cell_type": "code",
   "execution_count": 28,
   "id": "4c590951",
   "metadata": {},
   "outputs": [
    {
     "name": "stdout",
     "output_type": "stream",
     "text": [
      "defabc\n"
     ]
    }
   ],
   "source": [
    "class mystr: #클래스 생성\n",
    "    def __init__(self,s): #생성자 선언, s를 인자로 받아 \n",
    "        self.s=s #인자로 받은 s를 자기 변수 s에 담아 저장한다.\n",
    "    def __add__(self, other): # self와 other사이에 +연산자를 정의\n",
    "        return other.s + self.s #문자열의 배치를 다르게 받아 반환\n",
    "\n",
    "a = mystr(\"abc\") #abc를 생성자에서 받아 a에 저장한다.\n",
    "b = mystr(\"def\") #def를 생성자에서 받아 b에 저장한다..\n",
    "print(a+b) #.두 변수를 합친 문자열 보내고 __add__로 인해 순서바뀐 문자열을 출력"
   ]
  },
  {
   "cell_type": "code",
   "execution_count": 29,
   "id": "e1b4faf9",
   "metadata": {},
   "outputs": [
    {
     "name": "stdout",
     "output_type": "stream",
     "text": [
      "9.99999999999998\n"
     ]
    }
   ],
   "source": [
    "sum=0\n",
    "for i in range(100):\n",
    "    sum+=0.1 #0.1을 100번 더하면 10이 나와야한다.\n",
    "print(sum) #하지만 출력값은.999..98이다. 전산적 오류 발생"
   ]
  },
  {
   "cell_type": "code",
   "execution_count": 30,
   "id": "a96fe523",
   "metadata": {},
   "outputs": [
    {
     "name": "stdout",
     "output_type": "stream",
     "text": [
      "0.1 => 9.99999999999998\n",
      "0.1000000000000000055511151231257827021181583404541015625 => 10.00000000000000055511151230\n",
      "0.1 => 10.0\n"
     ]
    }
   ],
   "source": [
    "from decimal import Decimal #deciaml 클래스를 import한다.\n",
    "\n",
    "a_sum=0; b_sum=0; c_sum=0 #변수 3개를 생성하고 각 값을 0으로 세팅\n",
    "\n",
    "a=0.1 #a는 일반 방금과 같은 0.1\n",
    "b=Decimal(a)  #decimal 함수로 정수형 타입 캐스팅\n",
    "c=Decimal(\"0.1\") #문자형 0.1도 정수형으로 타입 캐스팅\n",
    "\n",
    "for i in range(100): # 100번 더하는 for문\n",
    "    a_sum+=a #a를 100번 누적\n",
    "    b_sum+=b #b를 100번 누적\n",
    "    c_sum+=c #c를 100번 누적\n",
    "\n",
    "print(a,\"=>\",a_sum) #각 값에 따른 결과 확인\n",
    "print(b,\"=>\",b_sum)\n",
    "print(c,\"=>\",c_sum)"
   ]
  },
  {
   "cell_type": "code",
   "execution_count": 31,
   "id": "f52e77af",
   "metadata": {},
   "outputs": [
    {
     "name": "stdout",
     "output_type": "stream",
     "text": [
      "2/3 + 1/2 = 7/6\n",
      "2/3 * 1/2 = 1/3\n",
      "2/3 * 1.5 = 2.1666666666666665\n"
     ]
    }
   ],
   "source": [
    "from fractions import * #fractions 클래스를 import한다.\n",
    "\n",
    "a=Fraction(2,3) #3분의 2\n",
    "b=Fraction(5,10) #10분의 5\n",
    "\n",
    "print(a,\"+\",b,\"=\",a+b) #a와 b 두 분수 합을 출력.\n",
    "print(a,\"*\",b,\"=\",a*b) #a와 b 두 분수 합을 출력.\n",
    "print(a,\"*\",1.5,\"=\",a+1.5) #정수 및 실수와 같이 연산하면 실수형으로 바뀐다"
   ]
  },
  {
   "cell_type": "code",
   "execution_count": null,
   "id": "aa149cff",
   "metadata": {},
   "outputs": [],
   "source": []
  }
 ],
 "metadata": {
  "kernelspec": {
   "display_name": "Python 3 (ipykernel)",
   "language": "python",
   "name": "python3"
  },
  "language_info": {
   "codemirror_mode": {
    "name": "ipython",
    "version": 3
   },
   "file_extension": ".py",
   "mimetype": "text/x-python",
   "name": "python",
   "nbconvert_exporter": "python",
   "pygments_lexer": "ipython3",
   "version": "3.8.8rc1"
  }
 },
 "nbformat": 4,
 "nbformat_minor": 5
}
