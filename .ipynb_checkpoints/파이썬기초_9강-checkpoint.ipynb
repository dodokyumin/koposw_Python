{
 "cells": [
  {
   "cell_type": "code",
   "execution_count": 1,
   "id": "6b33cf78",
   "metadata": {},
   "outputs": [],
   "source": [
    "a={\"이름\":\"홍길동\", \"국어\":100, \"영어\":88, \"수학\": 95} #파이썬에서 중괄호로 묶여있으면 세트이다!"
   ]
  },
  {
   "cell_type": "code",
   "execution_count": 2,
   "id": "61a86e61",
   "metadata": {},
   "outputs": [
    {
     "data": {
      "text/plain": [
       "95"
      ]
     },
     "execution_count": 2,
     "metadata": {},
     "output_type": "execute_result"
    }
   ],
   "source": [
    "a[\"수학\"] #키워드 수학으로 묷인 값을 가져온다."
   ]
  },
  {
   "cell_type": "code",
   "execution_count": 3,
   "id": "5631c3e2",
   "metadata": {},
   "outputs": [
    {
     "data": {
      "text/plain": [
       "'홍길동'"
      ]
     },
     "execution_count": 3,
     "metadata": {},
     "output_type": "execute_result"
    }
   ],
   "source": [
    "a[\"이름\"] #키워드 이름으로 묷인 값을 가져온다."
   ]
  },
  {
   "cell_type": "code",
   "execution_count": 4,
   "id": "5fc8f6d9",
   "metadata": {},
   "outputs": [
    {
     "data": {
      "text/plain": [
       "dict_keys(['이름', '국어', '영어', '수학'])"
      ]
     },
     "execution_count": 4,
     "metadata": {},
     "output_type": "execute_result"
    }
   ],
   "source": [
    "a.keys() #keys()메소드를 통해 키워드의 이름들을 가져올 수 있다"
   ]
  },
  {
   "cell_type": "code",
   "execution_count": 5,
   "id": "59be1b61",
   "metadata": {},
   "outputs": [
    {
     "data": {
      "text/plain": [
       "dict_values(['홍길동', 100, 88, 95])"
      ]
     },
     "execution_count": 5,
     "metadata": {},
     "output_type": "execute_result"
    }
   ],
   "source": [
    "a.values() #values()메소드를 통해 키워드의 값들을 가져올 수 있다"
   ]
  },
  {
   "cell_type": "code",
   "execution_count": 6,
   "id": "ebf2eb43",
   "metadata": {},
   "outputs": [
    {
     "data": {
      "text/plain": [
       "dict_items([('이름', '홍길동'), ('국어', 100), ('영어', 88), ('수학', 95)])"
      ]
     },
     "execution_count": 6,
     "metadata": {},
     "output_type": "execute_result"
    }
   ],
   "source": [
    "a.items() #items()메소드를 통해 키워드의 아이템들을 가져올 수 있다"
   ]
  },
  {
   "cell_type": "code",
   "execution_count": 8,
   "id": "6f23ce17",
   "metadata": {},
   "outputs": [
    {
     "name": "stdout",
     "output_type": "stream",
     "text": [
      "('이름', '홍길동'),('국어', 100),('영어', 88),('수학', 95),"
     ]
    }
   ],
   "source": [
    "for i in a.items(): #아이템을 가져오는 메소드를 통해 각각의 메소드를 반복문으로 프린트할 수 있다.\n",
    "    print (i,end=\",\")"
   ]
  },
  {
   "cell_type": "code",
   "execution_count": 10,
   "id": "189ec4fc",
   "metadata": {},
   "outputs": [
    {
     "name": "stdout",
     "output_type": "stream",
     "text": [
      "이름,국어,영어,수학,"
     ]
    }
   ],
   "source": [
    "for i in a.keys(): #키를 가져오는 메소드를 통해 각각의 메소드를 반복문으로 프린트할 수 있다.\n",
    "    print (i,end=\",\")"
   ]
  },
  {
   "cell_type": "code",
   "execution_count": 11,
   "id": "8b9ab903",
   "metadata": {},
   "outputs": [
    {
     "name": "stdout",
     "output_type": "stream",
     "text": [
      "홍길동,100,88,95,"
     ]
    }
   ],
   "source": [
    "for i in a.values(): #값들을 가져오는 메소드를 통해 각각의 메소드를 반복문으로 프린트할 수 있다.\n",
    "    print (i,end=\",\")"
   ]
  },
  {
   "cell_type": "code",
   "execution_count": 12,
   "id": "d218f44f",
   "metadata": {},
   "outputs": [
    {
     "name": "stdout",
     "output_type": "stream",
     "text": [
      "None\n"
     ]
    }
   ],
   "source": [
    "print(a.get(\"과학\"))"
   ]
  },
  {
   "cell_type": "code",
   "execution_count": 13,
   "id": "bb94d367",
   "metadata": {},
   "outputs": [
    {
     "name": "stdout",
     "output_type": "stream",
     "text": [
      "없는과목입니다\n"
     ]
    }
   ],
   "source": [
    "print(a.get(\"과학\",\"없는과목입니다\"))"
   ]
  },
  {
   "cell_type": "code",
   "execution_count": 14,
   "id": "4a4a9720",
   "metadata": {},
   "outputs": [
    {
     "name": "stdout",
     "output_type": "stream",
     "text": [
      "95\n"
     ]
    }
   ],
   "source": [
    "print(a.get(\"수학\",\"없는과목입니다\"))"
   ]
  },
  {
   "cell_type": "code",
   "execution_count": 15,
   "id": "ba081ced",
   "metadata": {
    "scrolled": false
   },
   "outputs": [
    {
     "name": "stdout",
     "output_type": "stream",
     "text": [
      "{'안': 1, '녕': 1, '하': 1, '셔': 1, '요': 3, '.': 2, ' ': 11, '오': 1, '늘': 1, '은': 2, '날': 1, '씨': 1, '가': 2, '매': 2, '우': 2, '화': 1, '창': 1, '합': 1, '니': 1, '다': 1, '\\n': 2, '그': 1, '래': 1, '서': 1, '기': 2, '분': 2, '이': 2, '좋': 2, '네': 1, '너': 1, '도': 1, '랄': 3, '라': 7, 'a': 1, 'b': 1, 'c': 1, '임': 1, '마': 1}\n"
     ]
    }
   ],
   "source": [
    "text=\"\"\"안녕하셔요. 오늘은 날씨가 매우 화창합니다.\n",
    "그래서 기분이 매우 좋네요\n",
    "너도 기분이 좋은가요 랄라랄랄라라라라라라 abc임마\"\"\"\n",
    "\n",
    "a=dict() #딕셔너리 자료형을 정의할 때에는 dicr()\n",
    "for c in text: #위 텍스트를 한개한개씩 추출하여 변수 c에 담고 아래 코드에 적용\n",
    "    if c not in a: # 변수 c에 담긴 값이 a딕셔너리 안에 없으면(not in)\n",
    "        a[c]=1 #최초 1값으로 설정\n",
    "    else: #이 경우는 해당 추출글자의 딕셔너리가 있다는 경우\n",
    "        a[c] +=1 #중복 횟수만큼 더하기\n",
    "print(a)"
   ]
  },
  {
   "cell_type": "code",
   "execution_count": 17,
   "id": "ce7cbb41",
   "metadata": {},
   "outputs": [
    {
     "name": "stdout",
     "output_type": "stream",
     "text": [
      "{'\\n': 2, ' ': 11, '.': 2, 'a': 1, 'b': 1, 'c': 1, '가': 2, '그': 1, '기': 2, '날': 1, '너': 1, '네': 1, '녕': 1, '늘': 1, '니': 1, '다': 1, '도': 1, '라': 7, '랄': 3, '래': 1, '마': 1, '매': 2, '분': 2, '서': 1, '셔': 1, '씨': 1, '안': 1, '오': 1, '요': 3, '우': 2, '은': 2, '이': 2, '임': 1, '좋': 2, '창': 1, '하': 1, '합': 1, '화': 1}\n"
     ]
    }
   ],
   "source": [
    "b=dict() #딕셔너리 자료형을 정의할 때에는 dicr()\n",
    "l=list(a.keys()) #앞에 딕셔너리의 키를 뽑아와서 그 키들로 리스트를 만든다.\n",
    "l.sort() #방금 만든 리스트를 소트한다.\n",
    "for c in l: #리스트의 각 요소에 변수로 대입하여 \n",
    "    b[c]=a[c] # 새로운 딕셔너리는 키값 순서대로 (소트 되어 있으니) 다시 만듦\n",
    "print(b)"
   ]
  },
  {
   "cell_type": "code",
   "execution_count": 18,
   "id": "25121db4",
   "metadata": {},
   "outputs": [],
   "source": [
    "a={1,2,2,2,2,3,3,3,4,5} #집합은 중괄호로 요소들이 묶여있는 데이터이다."
   ]
  },
  {
   "cell_type": "code",
   "execution_count": 19,
   "id": "3fac0c0e",
   "metadata": {},
   "outputs": [
    {
     "data": {
      "text/plain": [
       "{1, 2, 3, 4, 5}"
      ]
     },
     "execution_count": 19,
     "metadata": {},
     "output_type": "execute_result"
    }
   ],
   "source": [
    "a #집합은 hashset처럼 중복을 받지 않는다! 그리고 오름차순으로 정리해준다!! "
   ]
  },
  {
   "cell_type": "code",
   "execution_count": 20,
   "id": "3940c04f",
   "metadata": {},
   "outputs": [
    {
     "data": {
      "text/plain": [
       "{1, 2, 'a'}"
      ]
     },
     "execution_count": 20,
     "metadata": {},
     "output_type": "execute_result"
    }
   ],
   "source": [
    "set((\"a\",1,2)) #세트 함수로 집합(세트)를 만들 수도 있다. 인자들을 받은걸로."
   ]
  },
  {
   "cell_type": "code",
   "execution_count": 21,
   "id": "577b56c8",
   "metadata": {},
   "outputs": [
    {
     "data": {
      "text/plain": [
       "{'a'}"
      ]
     },
     "execution_count": 21,
     "metadata": {},
     "output_type": "execute_result"
    }
   ],
   "source": [
    "set(\"a\") #한개만 해도 생김"
   ]
  },
  {
   "cell_type": "code",
   "execution_count": 23,
   "id": "ab8d9a24",
   "metadata": {},
   "outputs": [
    {
     "data": {
      "text/plain": [
       "{'국어', '수학', '영어', '이름'}"
      ]
     },
     "execution_count": 23,
     "metadata": {},
     "output_type": "execute_result"
    }
   ],
   "source": [
    " set({\"이름\":\"홍길동\", \"국어\":100, \n",
    "\"영어\":88, \"수학\": 95}) #딕셔너리 타입은 키만 집합으로 변환된다. "
   ]
  },
  {
   "cell_type": "code",
   "execution_count": 24,
   "id": "38877964",
   "metadata": {},
   "outputs": [],
   "source": [
    "a={1,2,3,4,5} #집합은 중괄호로 요소들이 묶여있는 데이터이다."
   ]
  },
  {
   "cell_type": "code",
   "execution_count": 25,
   "id": "cbde5fa4",
   "metadata": {},
   "outputs": [
    {
     "data": {
      "text/plain": [
       "{1, 2, 3, 4, 5}"
      ]
     },
     "execution_count": 25,
     "metadata": {},
     "output_type": "execute_result"
    }
   ],
   "source": [
    "a"
   ]
  },
  {
   "cell_type": "code",
   "execution_count": 26,
   "id": "42d1e906",
   "metadata": {},
   "outputs": [],
   "source": [
    "a.add(0) #집합에 add를 넣어주어 값을 추가. 하지만 소트 되므로 순서는 알아서 정해짐"
   ]
  },
  {
   "cell_type": "code",
   "execution_count": 27,
   "id": "5c8ab79a",
   "metadata": {},
   "outputs": [
    {
     "data": {
      "text/plain": [
       "{0, 1, 2, 3, 4, 5}"
      ]
     },
     "execution_count": 27,
     "metadata": {},
     "output_type": "execute_result"
    }
   ],
   "source": [
    "a"
   ]
  },
  {
   "cell_type": "code",
   "execution_count": 28,
   "id": "fc818542",
   "metadata": {},
   "outputs": [],
   "source": [
    "a.add(2.4) #2.4를 추가해봄"
   ]
  },
  {
   "cell_type": "code",
   "execution_count": 29,
   "id": "f693a5b2",
   "metadata": {},
   "outputs": [
    {
     "data": {
      "text/plain": [
       "{0, 1, 2, 2.4, 3, 4, 5}"
      ]
     },
     "execution_count": 29,
     "metadata": {},
     "output_type": "execute_result"
    }
   ],
   "source": [
    "a"
   ]
  },
  {
   "cell_type": "code",
   "execution_count": 30,
   "id": "bb0c880d",
   "metadata": {},
   "outputs": [],
   "source": [
    "a.remove(3) #3을 지워봄"
   ]
  },
  {
   "cell_type": "code",
   "execution_count": 31,
   "id": "22ddae26",
   "metadata": {},
   "outputs": [
    {
     "data": {
      "text/plain": [
       "{0, 1, 2, 2.4, 4, 5}"
      ]
     },
     "execution_count": 31,
     "metadata": {},
     "output_type": "execute_result"
    }
   ],
   "source": [
    "a"
   ]
  },
  {
   "cell_type": "code",
   "execution_count": 32,
   "id": "e1e067d3",
   "metadata": {},
   "outputs": [],
   "source": [
    "A={1,2,3,4,5,6,7} #집합(세트) 정의를 해준다."
   ]
  },
  {
   "cell_type": "code",
   "execution_count": 41,
   "id": "f5e49c73",
   "metadata": {},
   "outputs": [],
   "source": [
    "B={7,8,9,10}"
   ]
  },
  {
   "cell_type": "code",
   "execution_count": 42,
   "id": "226c7aba",
   "metadata": {},
   "outputs": [
    {
     "data": {
      "text/plain": [
       "{1, 2, 3, 4, 5, 6, 7, 8, 9, 10}"
      ]
     },
     "execution_count": 42,
     "metadata": {},
     "output_type": "execute_result"
    }
   ],
   "source": [
    "A|B #집합 연산의 합집합 (중복은 받지 않는다 집합엔 중복이 없다@!)"
   ]
  },
  {
   "cell_type": "code",
   "execution_count": 43,
   "id": "30f4f6c6",
   "metadata": {},
   "outputs": [
    {
     "data": {
      "text/plain": [
       "{7}"
      ]
     },
     "execution_count": 43,
     "metadata": {},
     "output_type": "execute_result"
    }
   ],
   "source": [
    "A&B #집합의 교집합"
   ]
  },
  {
   "cell_type": "code",
   "execution_count": 40,
   "id": "8305c048",
   "metadata": {},
   "outputs": [
    {
     "data": {
      "text/plain": [
       "{2, 3, 4, 5, 6}"
      ]
     },
     "execution_count": 40,
     "metadata": {},
     "output_type": "execute_result"
    }
   ],
   "source": [
    "A-B #차집합 구하기"
   ]
  },
  {
   "cell_type": "code",
   "execution_count": 50,
   "id": "e5a0805e",
   "metadata": {},
   "outputs": [
    {
     "data": {
      "text/plain": [
       "False"
      ]
     },
     "execution_count": 50,
     "metadata": {},
     "output_type": "execute_result"
    }
   ],
   "source": [
    "{1,2,3} < {1,2} #집합의 크기를 비교한다. 3<2는 false"
   ]
  },
  {
   "cell_type": "code",
   "execution_count": 45,
   "id": "21a77e5f",
   "metadata": {},
   "outputs": [
    {
     "data": {
      "text/plain": [
       "True"
      ]
     },
     "execution_count": 45,
     "metadata": {},
     "output_type": "execute_result"
    }
   ],
   "source": [
    "{1,2,3} > {1,2} #3>2는 true"
   ]
  },
  {
   "cell_type": "code",
   "execution_count": 46,
   "id": "4f6ad7ab",
   "metadata": {},
   "outputs": [
    {
     "data": {
      "text/plain": [
       "True"
      ]
     },
     "execution_count": 46,
     "metadata": {},
     "output_type": "execute_result"
    }
   ],
   "source": [
    "{1,2,3} >= {1,2} #3>=2 true"
   ]
  },
  {
   "cell_type": "code",
   "execution_count": 47,
   "id": "83f915a5",
   "metadata": {},
   "outputs": [
    {
     "data": {
      "text/plain": [
       "False"
      ]
     },
     "execution_count": 47,
     "metadata": {},
     "output_type": "execute_result"
    }
   ],
   "source": [
    "{1,2,3} == {1,2} #3 == 2 false"
   ]
  },
  {
   "cell_type": "code",
   "execution_count": 48,
   "id": "b4768650",
   "metadata": {},
   "outputs": [
    {
     "data": {
      "text/plain": [
       "True"
      ]
     },
     "execution_count": 48,
     "metadata": {},
     "output_type": "execute_result"
    }
   ],
   "source": [
    "{1,2,3} >= {3,1,2} #3>=3 True"
   ]
  },
  {
   "cell_type": "code",
   "execution_count": 49,
   "id": "3d86b681",
   "metadata": {},
   "outputs": [
    {
     "data": {
      "text/plain": [
       "True"
      ]
     },
     "execution_count": 49,
     "metadata": {},
     "output_type": "execute_result"
    }
   ],
   "source": [
    "{1,2,3} == {3,1,2} #3==3 True"
   ]
  },
  {
   "cell_type": "code",
   "execution_count": 51,
   "id": "e6c8ddb8",
   "metadata": {},
   "outputs": [],
   "source": [
    "a=[\"a\",\"b\",\"c\",\"d\",\"e\"] #대괄호로 묶여있으면 리스트"
   ]
  },
  {
   "cell_type": "code",
   "execution_count": 52,
   "id": "39b3953c",
   "metadata": {},
   "outputs": [],
   "source": [
    "b={} #중괄호로 묶여있으면 집합(세트)"
   ]
  },
  {
   "cell_type": "code",
   "execution_count": 53,
   "id": "bb08b0fb",
   "metadata": {},
   "outputs": [],
   "source": [
    "for i in range (len(a)): #리스트의 인덱스에 하나씩 접근하여 b집합에 담는다. 이때 대괄호에 담으면\n",
    "    #딕셔너리로 키워드는 0부터 자동으로 매겨져 저장된다.\n",
    "    b[i]=a[i] "
   ]
  },
  {
   "cell_type": "code",
   "execution_count": 54,
   "id": "0f730ea1",
   "metadata": {},
   "outputs": [
    {
     "data": {
      "text/plain": [
       "{0: 'a', 1: 'b', 2: 'c', 3: 'd', 4: 'e'}"
      ]
     },
     "execution_count": 54,
     "metadata": {},
     "output_type": "execute_result"
    }
   ],
   "source": [
    "b"
   ]
  },
  {
   "cell_type": "code",
   "execution_count": 55,
   "id": "a9f36156",
   "metadata": {},
   "outputs": [],
   "source": [
    "a=[\"a\",\"b\",\"c\",\"d\",\"e\"] #a리스트에 각 요소들을 담는다."
   ]
  },
  {
   "cell_type": "code",
   "execution_count": 56,
   "id": "89f3c20d",
   "metadata": {},
   "outputs": [],
   "source": [
    "b=enumerate(a) #enumerate()는 인덱스0 부터 차례로 대입해준다."
   ]
  },
  {
   "cell_type": "code",
   "execution_count": 57,
   "id": "79e0aca9",
   "metadata": {},
   "outputs": [
    {
     "data": {
      "text/plain": [
       "<enumerate at 0x20dd6b4fe80>"
      ]
     },
     "execution_count": 57,
     "metadata": {},
     "output_type": "execute_result"
    }
   ],
   "source": [
    "b #아직은 형변환이 되지 않았기 때문에 이러한 데이터가 나온다."
   ]
  },
  {
   "cell_type": "code",
   "execution_count": 58,
   "id": "3d712ccc",
   "metadata": {},
   "outputs": [],
   "source": [
    "b=dict(enumerate(a)); c=list(enumerate(a)) #딕셔너리와 리스트에 담아서 형변환을 해준다."
   ]
  },
  {
   "cell_type": "code",
   "execution_count": 59,
   "id": "c578900e",
   "metadata": {},
   "outputs": [
    {
     "data": {
      "text/plain": [
       "{0: 'a', 1: 'b', 2: 'c', 3: 'd', 4: 'e'}"
      ]
     },
     "execution_count": 59,
     "metadata": {},
     "output_type": "execute_result"
    }
   ],
   "source": [
    "b #딕셔너리에 담았음"
   ]
  },
  {
   "cell_type": "code",
   "execution_count": 60,
   "id": "dc780803",
   "metadata": {},
   "outputs": [
    {
     "data": {
      "text/plain": [
       "[(0, 'a'), (1, 'b'), (2, 'c'), (3, 'd'), (4, 'e')]"
      ]
     },
     "execution_count": 60,
     "metadata": {},
     "output_type": "execute_result"
    }
   ],
   "source": [
    "c #리스트에 담았음"
   ]
  },
  {
   "cell_type": "code",
   "execution_count": 61,
   "id": "71820548",
   "metadata": {},
   "outputs": [],
   "source": [
    "a={1,2,3,4,5,6,7,8} #집합a에 해당 요소들을 담는다."
   ]
  },
  {
   "cell_type": "code",
   "execution_count": 62,
   "id": "62e1ff1a",
   "metadata": {},
   "outputs": [],
   "source": [
    "b={\"a\",\"b\",\"c\",\"d\",\"e\"} #집합b에 해당 요소들을 담는다."
   ]
  },
  {
   "cell_type": "code",
   "execution_count": 63,
   "id": "12510a7e",
   "metadata": {},
   "outputs": [
    {
     "data": {
      "text/plain": [
       "<zip at 0x20dd6b48ec0>"
      ]
     },
     "execution_count": 63,
     "metadata": {},
     "output_type": "execute_result"
    }
   ],
   "source": [
    "zip(a,b) #zip만으로는 단순히 object임 이것도 현재 형변환을 안해준 날 데이터다"
   ]
  },
  {
   "cell_type": "code",
   "execution_count": 64,
   "id": "ece3ef56",
   "metadata": {},
   "outputs": [],
   "source": [
    "c=dict(zip(a,b));d=list(zip(a,b)) #zip은 두 (리스트 튜플 집합 중)인자를 받아 요소를 매칭시켜준다."
   ]
  },
  {
   "cell_type": "code",
   "execution_count": 65,
   "id": "85b9347c",
   "metadata": {},
   "outputs": [
    {
     "data": {
      "text/plain": [
       "{1: 'c', 2: 'a', 3: 'd', 4: 'e', 5: 'b'}"
      ]
     },
     "execution_count": 65,
     "metadata": {},
     "output_type": "execute_result"
    }
   ],
   "source": [
    " c #a와 b는 크기가 다르기 때문에 b값은 순서대로가 아니였다.!"
   ]
  },
  {
   "cell_type": "code",
   "execution_count": 66,
   "id": "33c31aa6",
   "metadata": {},
   "outputs": [
    {
     "data": {
      "text/plain": [
       "[(1, 'c'), (2, 'a'), (3, 'd'), (4, 'e'), (5, 'b')]"
      ]
     },
     "execution_count": 66,
     "metadata": {},
     "output_type": "execute_result"
    }
   ],
   "source": [
    "d"
   ]
  },
  {
   "cell_type": "code",
   "execution_count": 67,
   "id": "351e3810",
   "metadata": {},
   "outputs": [],
   "source": [
    "a=(1,2,3,4,5,6,7,8) #튜플a"
   ]
  },
  {
   "cell_type": "code",
   "execution_count": 68,
   "id": "9e8971b8",
   "metadata": {},
   "outputs": [],
   "source": [
    "b=[\"a\",\"b\",\"c\",\"d\",\"e\"] #리스트 b"
   ]
  },
  {
   "cell_type": "code",
   "execution_count": 69,
   "id": "e27c876a",
   "metadata": {},
   "outputs": [],
   "source": [
    "c=dict(zip(a,b));d=list(zip(a,b))"
   ]
  },
  {
   "cell_type": "code",
   "execution_count": 70,
   "id": "4c6686b6",
   "metadata": {},
   "outputs": [
    {
     "data": {
      "text/plain": [
       "{1: 'a', 2: 'b', 3: 'c', 4: 'd', 5: 'e'}"
      ]
     },
     "execution_count": 70,
     "metadata": {},
     "output_type": "execute_result"
    }
   ],
   "source": [
    "c"
   ]
  },
  {
   "cell_type": "code",
   "execution_count": 71,
   "id": "def3b811",
   "metadata": {},
   "outputs": [
    {
     "data": {
      "text/plain": [
       "[(1, 'a'), (2, 'b'), (3, 'c'), (4, 'd'), (5, 'e')]"
      ]
     },
     "execution_count": 71,
     "metadata": {},
     "output_type": "execute_result"
    }
   ],
   "source": [
    "d"
   ]
  },
  {
   "cell_type": "code",
   "execution_count": null,
   "id": "be3eaa8f",
   "metadata": {},
   "outputs": [],
   "source": []
  }
 ],
 "metadata": {
  "kernelspec": {
   "display_name": "Python 3 (ipykernel)",
   "language": "python",
   "name": "python3"
  },
  "language_info": {
   "codemirror_mode": {
    "name": "ipython",
    "version": 3
   },
   "file_extension": ".py",
   "mimetype": "text/x-python",
   "name": "python",
   "nbconvert_exporter": "python",
   "pygments_lexer": "ipython3",
   "version": "3.8.8rc1"
  }
 },
 "nbformat": 4,
 "nbformat_minor": 5
}
