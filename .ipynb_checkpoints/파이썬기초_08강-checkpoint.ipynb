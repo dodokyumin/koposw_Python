{
 "cells": [
  {
   "cell_type": "code",
   "execution_count": 1,
   "id": "2acaeb05",
   "metadata": {},
   "outputs": [],
   "source": [
    "a=[1,2,3,4,5] #마치 java배열처럼. 중괄호는 대괄호로 리스트를 만든다!"
   ]
  },
  {
   "cell_type": "code",
   "execution_count": 2,
   "id": "0be06583",
   "metadata": {},
   "outputs": [
    {
     "data": {
      "text/plain": [
       "(1, 2, 3, 4, 5)"
      ]
     },
     "execution_count": 2,
     "metadata": {},
     "output_type": "execute_result"
    }
   ],
   "source": [
    "a[0],a[1],a[2],a[3],a[4] #리스트의 인덱스에 접근해 값을 얻는다."
   ]
  },
  {
   "cell_type": "code",
   "execution_count": 3,
   "id": "aad76cb5",
   "metadata": {},
   "outputs": [],
   "source": [
    "a=[11,\"abc\",12.3333,\"안녕\",2+3j] #각 리스트에는 여러 형태의 자료형을 저장 가능."
   ]
  },
  {
   "cell_type": "code",
   "execution_count": 6,
   "id": "b719040c",
   "metadata": {},
   "outputs": [
    {
     "data": {
      "text/plain": [
       "(11, 'abc', 12.3333, '안녕', (2+3j))"
      ]
     },
     "execution_count": 6,
     "metadata": {},
     "output_type": "execute_result"
    }
   ],
   "source": [
    "a[0],a[1],a[2],a[3],a[4] #리스트의 인덱스에 접근해 값을 얻는다."
   ]
  },
  {
   "cell_type": "code",
   "execution_count": 7,
   "id": "734f03a9",
   "metadata": {},
   "outputs": [],
   "source": [
    "a[1]=1234; a[4]=\"홍길동\"#위에 지정했던 리스트의 값에 특정 인덱스 값을 재지정하기"
   ]
  },
  {
   "cell_type": "code",
   "execution_count": 8,
   "id": "a655e367",
   "metadata": {},
   "outputs": [
    {
     "data": {
      "text/plain": [
       "[11, 1234, 12.3333, '안녕', '홍길동']"
      ]
     },
     "execution_count": 8,
     "metadata": {},
     "output_type": "execute_result"
    }
   ],
   "source": [
    "a #리스트 이름만 호출해도 내용이 출력이 된다."
   ]
  },
  {
   "cell_type": "code",
   "execution_count": 9,
   "id": "2e2c90f8",
   "metadata": {},
   "outputs": [
    {
     "name": "stdout",
     "output_type": "stream",
     "text": [
      "점수( 90 )\n",
      "점수( 80 )\n",
      "점수( 70 )\n",
      "점수( 60 )\n",
      "점수( 30 )\n",
      "총점: 330\n"
     ]
    }
   ],
   "source": [
    "score=[90,80,70,60,30] #score리스트 데이터 세팅하기\n",
    "sum=0 #합계 담을 변수 0으로 초기화\n",
    "for s in score: #리스트를 바운더리로, 변수 s를 넣어 반복.\n",
    "    print(\"점수(\",s,\")\")\n",
    "    sum+=s #sum에 누적합산\n",
    "print(\"총점:\",sum);"
   ]
  },
  {
   "cell_type": "code",
   "execution_count": 10,
   "id": "00e4e31c",
   "metadata": {},
   "outputs": [],
   "source": [
    "a=[1,2,3,4,5] #리스트의 순서는 역방향으로 -n ~ -1로 지정할 수도 있다."
   ]
  },
  {
   "cell_type": "code",
   "execution_count": 11,
   "id": "b7c14896",
   "metadata": {},
   "outputs": [
    {
     "data": {
      "text/plain": [
       "(1, 1)"
      ]
     },
     "execution_count": 11,
     "metadata": {},
     "output_type": "execute_result"
    }
   ],
   "source": [
    "a[0],a[-5]"
   ]
  },
  {
   "cell_type": "code",
   "execution_count": 12,
   "id": "0d55ee47",
   "metadata": {},
   "outputs": [
    {
     "data": {
      "text/plain": [
       "(2, 2)"
      ]
     },
     "execution_count": 12,
     "metadata": {},
     "output_type": "execute_result"
    }
   ],
   "source": [
    "a[1],a[-4]"
   ]
  },
  {
   "cell_type": "code",
   "execution_count": 13,
   "id": "d406d443",
   "metadata": {},
   "outputs": [
    {
     "data": {
      "text/plain": [
       "(3, 3)"
      ]
     },
     "execution_count": 13,
     "metadata": {},
     "output_type": "execute_result"
    }
   ],
   "source": [
    "a[2],a[-3]"
   ]
  },
  {
   "cell_type": "code",
   "execution_count": 14,
   "id": "d6c00c01",
   "metadata": {},
   "outputs": [
    {
     "data": {
      "text/plain": [
       "(4, 4)"
      ]
     },
     "execution_count": 14,
     "metadata": {},
     "output_type": "execute_result"
    }
   ],
   "source": [
    "a[3],a[-2]"
   ]
  },
  {
   "cell_type": "code",
   "execution_count": 15,
   "id": "db22b66b",
   "metadata": {},
   "outputs": [
    {
     "data": {
      "text/plain": [
       "(5, 5)"
      ]
     },
     "execution_count": 15,
     "metadata": {},
     "output_type": "execute_result"
    }
   ],
   "source": [
    "a[4],a[-1]"
   ]
  },
  {
   "cell_type": "code",
   "execution_count": 16,
   "id": "b279c3ff",
   "metadata": {},
   "outputs": [
    {
     "ename": "SyntaxError",
     "evalue": "invalid syntax (3139380504.py, line 1)",
     "output_type": "error",
     "traceback": [
      "\u001b[1;36m  Input \u001b[1;32mIn [16]\u001b[1;36m\u001b[0m\n\u001b[1;33m    [begin:end:step]\u001b[0m\n\u001b[1;37m          ^\u001b[0m\n\u001b[1;31mSyntaxError\u001b[0m\u001b[1;31m:\u001b[0m invalid syntax\n"
     ]
    }
   ],
   "source": [
    "[begin:end:step]"
   ]
  },
  {
   "cell_type": "code",
   "execution_count": 17,
   "id": "cb589137",
   "metadata": {},
   "outputs": [],
   "source": [
    "a=[1,2,3,4,5,6,7,8,9,10]"
   ]
  },
  {
   "cell_type": "code",
   "execution_count": 18,
   "id": "1b4de704",
   "metadata": {},
   "outputs": [
    {
     "data": {
      "text/plain": [
       "[3, 4, 5, 6, 7, 8]"
      ]
     },
     "execution_count": 18,
     "metadata": {},
     "output_type": "execute_result"
    }
   ],
   "source": [
    "a[2:8] # 2부터 8보다 작을 때까지(2,3,4,5,6,7)"
   ]
  },
  {
   "cell_type": "code",
   "execution_count": 19,
   "id": "5ff27de3",
   "metadata": {},
   "outputs": [
    {
     "data": {
      "text/plain": [
       "[1, 2, 3, 4]"
      ]
     },
     "execution_count": 19,
     "metadata": {},
     "output_type": "execute_result"
    }
   ],
   "source": [
    "a[:4] #처음부터 4보다 작을 때까지(0,1,2,3 주의 a[4]제외)"
   ]
  },
  {
   "cell_type": "code",
   "execution_count": 20,
   "id": "e07e6070",
   "metadata": {},
   "outputs": [
    {
     "data": {
      "text/plain": [
       "[6, 7, 8, 9, 10]"
      ]
     },
     "execution_count": 20,
     "metadata": {},
     "output_type": "execute_result"
    }
   ],
   "source": [
    "a[5:] #5부터 끝까지"
   ]
  },
  {
   "cell_type": "code",
   "execution_count": 21,
   "id": "ac3f1bf5",
   "metadata": {},
   "outputs": [
    {
     "data": {
      "text/plain": [
       "[1, 4]"
      ]
     },
     "execution_count": 21,
     "metadata": {},
     "output_type": "execute_result"
    }
   ],
   "source": [
    "a[0:6:3] #0부터 6보다 작을때 까지(6은 제외 0,3) 3씩 증가하여"
   ]
  },
  {
   "cell_type": "code",
   "execution_count": 22,
   "id": "5a4d626f",
   "metadata": {},
   "outputs": [],
   "source": [
    "a=[[1,2,3],[4,5,6],[7,8,9]] # 리스트로 구성된 리스트"
   ]
  },
  {
   "cell_type": "code",
   "execution_count": 23,
   "id": "96484308",
   "metadata": {},
   "outputs": [
    {
     "data": {
      "text/plain": [
       "[7, 8, 9]"
      ]
     },
     "execution_count": 23,
     "metadata": {},
     "output_type": "execute_result"
    }
   ],
   "source": [
    "a[2]"
   ]
  },
  {
   "cell_type": "code",
   "execution_count": 24,
   "id": "d8c337fa",
   "metadata": {},
   "outputs": [
    {
     "data": {
      "text/plain": [
       "9"
      ]
     },
     "execution_count": 24,
     "metadata": {},
     "output_type": "execute_result"
    }
   ],
   "source": [
    "a[2][2]"
   ]
  },
  {
   "cell_type": "code",
   "execution_count": 25,
   "id": "acb4e6e3",
   "metadata": {},
   "outputs": [
    {
     "ename": "IndexError",
     "evalue": "list index out of range",
     "output_type": "error",
     "traceback": [
      "\u001b[1;31m---------------------------------------------------------------------------\u001b[0m",
      "\u001b[1;31mIndexError\u001b[0m                                Traceback (most recent call last)",
      "Input \u001b[1;32mIn [25]\u001b[0m, in \u001b[0;36m<cell line: 1>\u001b[1;34m()\u001b[0m\n\u001b[1;32m----> 1\u001b[0m \u001b[43ma\u001b[49m\u001b[43m[\u001b[49m\u001b[38;5;241;43m1\u001b[39;49m\u001b[43m]\u001b[49m\u001b[43m[\u001b[49m\u001b[38;5;241;43m3\u001b[39;49m\u001b[43m]\u001b[49m\n",
      "\u001b[1;31mIndexError\u001b[0m: list index out of range"
     ]
    }
   ],
   "source": [
    "a[1][3] #인덱스 아웃오브 레인지"
   ]
  },
  {
   "cell_type": "code",
   "execution_count": 26,
   "id": "e26bfd70",
   "metadata": {},
   "outputs": [
    {
     "data": {
      "text/plain": [
       "6"
      ]
     },
     "execution_count": 26,
     "metadata": {},
     "output_type": "execute_result"
    }
   ],
   "source": [
    "a[1][2]"
   ]
  },
  {
   "cell_type": "code",
   "execution_count": 27,
   "id": "4632f6f9",
   "metadata": {},
   "outputs": [],
   "source": [
    "a=[[1,2],[3,4,5],6] # 가변 형태의 리스트 #리스트 안에 리스트도 가능하다."
   ]
  },
  {
   "cell_type": "code",
   "execution_count": 28,
   "id": "220c7ccf",
   "metadata": {},
   "outputs": [
    {
     "data": {
      "text/plain": [
       "[[1, 2], [3, 4, 5], 6]"
      ]
     },
     "execution_count": 28,
     "metadata": {},
     "output_type": "execute_result"
    }
   ],
   "source": [
    "a"
   ]
  },
  {
   "cell_type": "code",
   "execution_count": 29,
   "id": "7a8910ef",
   "metadata": {},
   "outputs": [
    {
     "data": {
      "text/plain": [
       "6"
      ]
     },
     "execution_count": 29,
     "metadata": {},
     "output_type": "execute_result"
    }
   ],
   "source": [
    "a[2]"
   ]
  },
  {
   "cell_type": "code",
   "execution_count": 30,
   "id": "6b2c88c8",
   "metadata": {
    "scrolled": true
   },
   "outputs": [
    {
     "data": {
      "text/plain": [
       "[3, 4, 5]"
      ]
     },
     "execution_count": 30,
     "metadata": {},
     "output_type": "execute_result"
    }
   ],
   "source": [
    "a[1]"
   ]
  },
  {
   "cell_type": "code",
   "execution_count": 31,
   "id": "b464db28",
   "metadata": {},
   "outputs": [],
   "source": [
    "a=[ n * 3 for n in range (1,10)] #리스트의 요소들을 반복문 식을 넣어서 리턴 값들을 요소로 정해도O"
   ]
  },
  {
   "cell_type": "code",
   "execution_count": 32,
   "id": "26c463e1",
   "metadata": {},
   "outputs": [
    {
     "data": {
      "text/plain": [
       "[3, 6, 9, 12, 15, 18, 21, 24, 27]"
      ]
     },
     "execution_count": 32,
     "metadata": {},
     "output_type": "execute_result"
    }
   ],
   "source": [
    "a"
   ]
  },
  {
   "cell_type": "code",
   "execution_count": 33,
   "id": "5aaba9ad",
   "metadata": {},
   "outputs": [],
   "source": [
    "a=[ n * 3 for n in range (1,10) if n % 2 ==0 ]#range안의 n중 if문 충족하는 n들에 3을 곱한 값"
   ]
  },
  {
   "cell_type": "code",
   "execution_count": 34,
   "id": "5d47c782",
   "metadata": {},
   "outputs": [
    {
     "data": {
      "text/plain": [
       "[6, 12, 18, 24]"
      ]
     },
     "execution_count": 34,
     "metadata": {},
     "output_type": "execute_result"
    }
   ],
   "source": [
    "a"
   ]
  },
  {
   "cell_type": "code",
   "execution_count": 35,
   "id": "d6942f83",
   "metadata": {},
   "outputs": [
    {
     "name": "stdout",
     "output_type": "stream",
     "text": [
      "==================================================\n",
      "이름\t국어\t영어\t수학\t총점\t평균\n",
      "==================================================\n",
      "나연 \t 100 \t 90 \t 100 \t 290 \t 96\n",
      "정연 \t 90 \t 90 \t 100 \t 280 \t 93\n",
      "모모 \t 80 \t 70 \t 90 \t 240 \t 80\n",
      "사나 \t 90 \t 90 \t 80 \t 260 \t 86\n",
      "지효 \t 100 \t 80 \t 80 \t 260 \t 86\n",
      "미나 \t 50 \t 90 \t 90 \t 230 \t 76\n",
      "다현 \t 80 \t 60 \t 100 \t 240 \t 80\n",
      "채영 \t 70 \t 80 \t 90 \t 240 \t 80\n",
      "쯔위 \t 100 \t 90 \t 90 \t 280 \t 93\n",
      "==================================================\n",
      "반총점\t 760 \t 740 \t 820 \t 2320 \t 85.0\n",
      "==================================================\n"
     ]
    }
   ],
   "source": [
    "def titleprint(): # 상단 부분 출력 구간\n",
    "    print(\"=\"*50) #구분선 출력\n",
    "    print(\"이름\\t국어\\t영어\\t수학\\t총점\\t평균\") #이름 및 과목 총점 평균 칸 생성\n",
    "    print(\"=\"*50) #구분선 출력\n",
    "    \n",
    "def itemprint(name,kor,eng,mat): # 성적 입력하는 함수\n",
    "    print(name,\"\\t\",kor,\"\\t\",eng,\"\\t\",mat,\"\\t\",kor+eng+mat,\"\\t\",(kor+eng+mat)//3)\n",
    "\n",
    "def tailprint(): #합산 부분 출력\n",
    "    totkor=0 #국어합 지정할 변수 선언\n",
    "    toteng=0 #영어합 지정할 변수 선언\n",
    "    totmat=0 #수학합 지정할 변수 선언\n",
    "    for one_student in score: #성적 배열의 각 과목 값을 더한다\n",
    "        totkor+=one_student[kor]\n",
    "        toteng+=one_student[eng]\n",
    "        totmat+=one_student[mat]\n",
    "    print(\"=\"*50) #구분선 출력\n",
    "    print(\"반총점\\t\",totkor,\"\\t\",toteng,\"\\t\",totmat,\"\\t\"\\\n",
    "        ,(totkor+toteng+totmat),\"\\t\",(totkor+toteng+totmat)/3//9) #이름 성적 총합 평균 출력\n",
    "    print(\"=\"*50) #구분선\n",
    "\n",
    "#데이터 입력, 2차원 배열 사용\n",
    "score=[[\"나연\",100,90,100],\n",
    "    [\"정연\",90,90,100],\n",
    "    [\"모모\",80,70,90],\n",
    "    [\"사나\",90,90,80],\n",
    "    [\"지효\",100,80,80],\n",
    "    [\"미나\",50,90,90],\n",
    "    [\"다현\",80,60,100],\n",
    "    [\"채영\",70,80,90],\n",
    "    [\"쯔위\",100,90,90]]\n",
    "\n",
    "#상수 정의, 배열에서의 성적 위치\n",
    "name=0;kor=1;eng=2;mat=3\n",
    "\n",
    "#프로그램 부분\n",
    "titleprint() #제목을 출력하는 함수 실행\n",
    "for one_student in score: #리스트의 값을 넣어가며 성적 출력\n",
    "    itemprint(one_student[name],one_student[kor],one_student[eng],one_student[mat])\n",
    "tailprint() #합계 부분 출력"
   ]
  },
  {
   "cell_type": "code",
   "execution_count": 50,
   "id": "c5f3a088",
   "metadata": {},
   "outputs": [],
   "source": [
    "a=[1,2,3,4,5]"
   ]
  },
  {
   "cell_type": "code",
   "execution_count": 51,
   "id": "8ddba085",
   "metadata": {},
   "outputs": [
    {
     "data": {
      "text/plain": [
       "[1, 2, 3, 4, 5]"
      ]
     },
     "execution_count": 51,
     "metadata": {},
     "output_type": "execute_result"
    }
   ],
   "source": [
    "a"
   ]
  },
  {
   "cell_type": "code",
   "execution_count": 52,
   "id": "95688093",
   "metadata": {},
   "outputs": [],
   "source": [
    "del a[2] #2번 리스트요소 삭제"
   ]
  },
  {
   "cell_type": "code",
   "execution_count": 53,
   "id": "d1f795ee",
   "metadata": {},
   "outputs": [
    {
     "data": {
      "text/plain": [
       "[1, 2, 4, 5]"
      ]
     },
     "execution_count": 53,
     "metadata": {},
     "output_type": "execute_result"
    }
   ],
   "source": [
    "a"
   ]
  },
  {
   "cell_type": "code",
   "execution_count": 54,
   "id": "6405c341",
   "metadata": {},
   "outputs": [],
   "source": [
    "del a[2]"
   ]
  },
  {
   "cell_type": "code",
   "execution_count": 55,
   "id": "1d41c1da",
   "metadata": {},
   "outputs": [
    {
     "data": {
      "text/plain": [
       "[1, 2, 5]"
      ]
     },
     "execution_count": 55,
     "metadata": {},
     "output_type": "execute_result"
    }
   ],
   "source": [
    "a"
   ]
  },
  {
   "cell_type": "code",
   "execution_count": 56,
   "id": "b0ec5094",
   "metadata": {},
   "outputs": [],
   "source": [
    "a.clear() #리스트 전부 지움"
   ]
  },
  {
   "cell_type": "code",
   "execution_count": 57,
   "id": "8171a4a9",
   "metadata": {
    "scrolled": true
   },
   "outputs": [
    {
     "data": {
      "text/plain": [
       "[]"
      ]
     },
     "execution_count": 57,
     "metadata": {},
     "output_type": "execute_result"
    }
   ],
   "source": [
    "a #빈 리스트는 남아있음"
   ]
  },
  {
   "cell_type": "code",
   "execution_count": 58,
   "id": "1a871af5",
   "metadata": {},
   "outputs": [],
   "source": [
    "del a #a공간도 지움"
   ]
  },
  {
   "cell_type": "code",
   "execution_count": 59,
   "id": "39a502e3",
   "metadata": {},
   "outputs": [
    {
     "ename": "NameError",
     "evalue": "name 'a' is not defined",
     "output_type": "error",
     "traceback": [
      "\u001b[1;31m---------------------------------------------------------------------------\u001b[0m",
      "\u001b[1;31mNameError\u001b[0m                                 Traceback (most recent call last)",
      "Input \u001b[1;32mIn [59]\u001b[0m, in \u001b[0;36m<cell line: 1>\u001b[1;34m()\u001b[0m\n\u001b[1;32m----> 1\u001b[0m \u001b[43ma\u001b[49m\n",
      "\u001b[1;31mNameError\u001b[0m: name 'a' is not defined"
     ]
    }
   ],
   "source": [
    "a #a는 지워졌으므로 이제 남아있지 않는다."
   ]
  },
  {
   "cell_type": "code",
   "execution_count": 61,
   "id": "419a6e5a",
   "metadata": {},
   "outputs": [],
   "source": [
    "a=[1,2,3,4,5]"
   ]
  },
  {
   "cell_type": "code",
   "execution_count": 62,
   "id": "04ea74ca",
   "metadata": {},
   "outputs": [],
   "source": [
    "del a #del a를 통해 a를 완전히 지웠다."
   ]
  },
  {
   "cell_type": "code",
   "execution_count": 63,
   "id": "ce6d6b5a",
   "metadata": {},
   "outputs": [
    {
     "ename": "NameError",
     "evalue": "name 'a' is not defined",
     "output_type": "error",
     "traceback": [
      "\u001b[1;31m---------------------------------------------------------------------------\u001b[0m",
      "\u001b[1;31mNameError\u001b[0m                                 Traceback (most recent call last)",
      "Input \u001b[1;32mIn [63]\u001b[0m, in \u001b[0;36m<cell line: 1>\u001b[1;34m()\u001b[0m\n\u001b[1;32m----> 1\u001b[0m \u001b[43ma\u001b[49m\u001b[38;5;241m.\u001b[39mappend(\u001b[38;5;241m1\u001b[39m)\n",
      "\u001b[1;31mNameError\u001b[0m: name 'a' is not defined"
     ]
    }
   ],
   "source": [
    "a.append(1) #리스트가 정의되어 있지 않기 때문에 추가할 수 없다."
   ]
  },
  {
   "cell_type": "code",
   "execution_count": 65,
   "id": "2f8f9d06",
   "metadata": {},
   "outputs": [],
   "source": [
    "a=[] #빈 리스트를 정의"
   ]
  },
  {
   "cell_type": "code",
   "execution_count": 66,
   "id": "af0a3c18",
   "metadata": {},
   "outputs": [],
   "source": [
    "a.append(1) #1값의 리스트요소를 추가"
   ]
  },
  {
   "cell_type": "code",
   "execution_count": 67,
   "id": "43d32123",
   "metadata": {},
   "outputs": [],
   "source": [
    "a.append(3) #3추가"
   ]
  },
  {
   "cell_type": "code",
   "execution_count": 68,
   "id": "7f76f9df",
   "metadata": {},
   "outputs": [],
   "source": [
    "a.append(5) #5추가"
   ]
  },
  {
   "cell_type": "code",
   "execution_count": 70,
   "id": "afed308b",
   "metadata": {},
   "outputs": [
    {
     "data": {
      "text/plain": [
       "[1, 3, 5]"
      ]
     },
     "execution_count": 70,
     "metadata": {},
     "output_type": "execute_result"
    }
   ],
   "source": [
    "a #a확인"
   ]
  },
  {
   "cell_type": "code",
   "execution_count": 77,
   "id": "61355ad0",
   "metadata": {},
   "outputs": [],
   "source": [
    "a=[4,5,6] #기존 a를 무시하고 다시 정의"
   ]
  },
  {
   "cell_type": "code",
   "execution_count": 78,
   "id": "9cec2ce0",
   "metadata": {},
   "outputs": [],
   "source": [
    "a.append(10) #10추가"
   ]
  },
  {
   "cell_type": "code",
   "execution_count": 79,
   "id": "147df114",
   "metadata": {},
   "outputs": [
    {
     "data": {
      "text/plain": [
       "[4, 5, 6, 10]"
      ]
     },
     "execution_count": 79,
     "metadata": {},
     "output_type": "execute_result"
    }
   ],
   "source": [
    "a #a확인"
   ]
  },
  {
   "cell_type": "code",
   "execution_count": 80,
   "id": "bac1dd5a",
   "metadata": {},
   "outputs": [],
   "source": [
    "a=[1,2,3,4,5]"
   ]
  },
  {
   "cell_type": "code",
   "execution_count": 81,
   "id": "a3e862e8",
   "metadata": {},
   "outputs": [],
   "source": [
    "a.append(6) #append는 맨 뒤에 하나의 요소를 삽입"
   ]
  },
  {
   "cell_type": "code",
   "execution_count": 82,
   "id": "1e119dba",
   "metadata": {},
   "outputs": [
    {
     "data": {
      "text/plain": [
       "[1, 2, 3, 4, 5, 6]"
      ]
     },
     "execution_count": 82,
     "metadata": {},
     "output_type": "execute_result"
    }
   ],
   "source": [
    "a"
   ]
  },
  {
   "cell_type": "code",
   "execution_count": 83,
   "id": "b0cbb94b",
   "metadata": {},
   "outputs": [],
   "source": [
    "a.insert(3,12) #인덱스 3번째 자리에 값 12를 추가한다."
   ]
  },
  {
   "cell_type": "code",
   "execution_count": 84,
   "id": "f44c7657",
   "metadata": {},
   "outputs": [
    {
     "data": {
      "text/plain": [
       "[1, 2, 3, 12, 4, 5, 6]"
      ]
     },
     "execution_count": 84,
     "metadata": {},
     "output_type": "execute_result"
    }
   ],
   "source": [
    "a"
   ]
  },
  {
   "cell_type": "code",
   "execution_count": 85,
   "id": "80577e33",
   "metadata": {},
   "outputs": [],
   "source": [
    "a.insert(4,15) #인덱스 4번째 자리에 값 15를 추가한다."
   ]
  },
  {
   "cell_type": "code",
   "execution_count": 86,
   "id": "5b707beb",
   "metadata": {},
   "outputs": [
    {
     "data": {
      "text/plain": [
       "[1, 2, 3, 12, 15, 4, 5, 6]"
      ]
     },
     "execution_count": 86,
     "metadata": {},
     "output_type": "execute_result"
    }
   ],
   "source": [
    "a"
   ]
  },
  {
   "cell_type": "code",
   "execution_count": 87,
   "id": "f3602761",
   "metadata": {},
   "outputs": [],
   "source": [
    "a.insert(3,1) #인덱스 3번째 자리에 값 1를 추가한다."
   ]
  },
  {
   "cell_type": "code",
   "execution_count": 88,
   "id": "8af50adb",
   "metadata": {},
   "outputs": [
    {
     "data": {
      "text/plain": [
       "[1, 2, 3, 1, 12, 15, 4, 5, 6]"
      ]
     },
     "execution_count": 88,
     "metadata": {},
     "output_type": "execute_result"
    }
   ],
   "source": [
    "a"
   ]
  },
  {
   "cell_type": "code",
   "execution_count": 89,
   "id": "679bc464",
   "metadata": {},
   "outputs": [],
   "source": [
    "a=[1, 2, 3, 1, 12, 15, 4, 5, 6] #컬렉션 a 설정"
   ]
  },
  {
   "cell_type": "code",
   "execution_count": 90,
   "id": "fbccdea8",
   "metadata": {},
   "outputs": [],
   "source": [
    "a[5:5]=[1,2,3,4,5,6] #5에서 5까지 영역에 해당 리스트 값을 대입"
   ]
  },
  {
   "cell_type": "code",
   "execution_count": 91,
   "id": "3ef00e35",
   "metadata": {},
   "outputs": [
    {
     "data": {
      "text/plain": [
       "[1, 2, 3, 1, 12, 1, 2, 3, 4, 5, 6, 15, 4, 5, 6]"
      ]
     },
     "execution_count": 91,
     "metadata": {},
     "output_type": "execute_result"
    }
   ],
   "source": [
    "a #a 확인"
   ]
  },
  {
   "cell_type": "code",
   "execution_count": 92,
   "id": "8b65f602",
   "metadata": {},
   "outputs": [],
   "source": [
    "a=[1, 2, 3, 1, 12, 15, 4, 5, 6] #컬렉션 a 설정"
   ]
  },
  {
   "cell_type": "code",
   "execution_count": 93,
   "id": "4b2b2092",
   "metadata": {},
   "outputs": [],
   "source": [
    "a[5]=[1,2,3,4,5,6] #5요소에 이 리스트를 대입(큰 차이)"
   ]
  },
  {
   "cell_type": "code",
   "execution_count": 94,
   "id": "67c53270",
   "metadata": {},
   "outputs": [
    {
     "data": {
      "text/plain": [
       "[1, 2, 3, 1, 12, [1, 2, 3, 4, 5, 6], 4, 5, 6]"
      ]
     },
     "execution_count": 94,
     "metadata": {},
     "output_type": "execute_result"
    }
   ],
   "source": [
    "a #a 확인"
   ]
  },
  {
   "cell_type": "code",
   "execution_count": 95,
   "id": "dbb2bc4b",
   "metadata": {},
   "outputs": [],
   "source": [
    "a=[1,2,3] #컬렉션 a 설정"
   ]
  },
  {
   "cell_type": "code",
   "execution_count": 96,
   "id": "ceaf7ba7",
   "metadata": {},
   "outputs": [],
   "source": [
    "b=[4,5,6] #컬렉션 b 설정"
   ]
  },
  {
   "cell_type": "code",
   "execution_count": 97,
   "id": "6e7707e3",
   "metadata": {},
   "outputs": [],
   "source": [
    "a=a+b #컬렉션 a와 b를 더해서 a에 저장"
   ]
  },
  {
   "cell_type": "code",
   "execution_count": 98,
   "id": "e9f55dd8",
   "metadata": {},
   "outputs": [
    {
     "data": {
      "text/plain": [
       "[1, 2, 3, 4, 5, 6]"
      ]
     },
     "execution_count": 98,
     "metadata": {},
     "output_type": "execute_result"
    }
   ],
   "source": [
    "a #a확인"
   ]
  },
  {
   "cell_type": "code",
   "execution_count": 99,
   "id": "0ea566bd",
   "metadata": {},
   "outputs": [],
   "source": [
    "a=[1,2,3]"
   ]
  },
  {
   "cell_type": "code",
   "execution_count": 100,
   "id": "5e0827aa",
   "metadata": {},
   "outputs": [],
   "source": [
    "b=[4,5,6]"
   ]
  },
  {
   "cell_type": "code",
   "execution_count": 101,
   "id": "16dd30f6",
   "metadata": {},
   "outputs": [],
   "source": [
    "a.extend(b) #컬렉션 a와 b를 더해서 a에 저장한다는 extend메소드"
   ]
  },
  {
   "cell_type": "code",
   "execution_count": 102,
   "id": "4d892f61",
   "metadata": {},
   "outputs": [
    {
     "data": {
      "text/plain": [
       "[1, 2, 3, 4, 5, 6]"
      ]
     },
     "execution_count": 102,
     "metadata": {},
     "output_type": "execute_result"
    }
   ],
   "source": [
    "a"
   ]
  },
  {
   "cell_type": "code",
   "execution_count": 103,
   "id": "f9a0a39f",
   "metadata": {},
   "outputs": [],
   "source": [
    "a=[1,2,3,3,4,4,5,6,7,7,7,7,8]"
   ]
  },
  {
   "cell_type": "code",
   "execution_count": 104,
   "id": "da7633b4",
   "metadata": {},
   "outputs": [
    {
     "data": {
      "text/plain": [
       "[1, 2, 3, 3, 4, 4, 5, 6, 7, 7, 7, 7, 8]"
      ]
     },
     "execution_count": 104,
     "metadata": {},
     "output_type": "execute_result"
    }
   ],
   "source": [
    "a"
   ]
  },
  {
   "cell_type": "code",
   "execution_count": 105,
   "id": "5a8c71c5",
   "metadata": {},
   "outputs": [],
   "source": [
    "a.remove(7) #첫 번째 만나는 7값을 가진 리스트 삭제"
   ]
  },
  {
   "cell_type": "code",
   "execution_count": 106,
   "id": "1fe3633f",
   "metadata": {},
   "outputs": [
    {
     "data": {
      "text/plain": [
       "[1, 2, 3, 3, 4, 4, 5, 6, 7, 7, 7, 8]"
      ]
     },
     "execution_count": 106,
     "metadata": {},
     "output_type": "execute_result"
    }
   ],
   "source": [
    "a"
   ]
  },
  {
   "cell_type": "code",
   "execution_count": 107,
   "id": "8e4cf17a",
   "metadata": {},
   "outputs": [],
   "source": [
    "a.remove(7) #첫 번째 만나는 7값을 가진 리스트 삭제"
   ]
  },
  {
   "cell_type": "code",
   "execution_count": 108,
   "id": "c843d0d4",
   "metadata": {},
   "outputs": [
    {
     "data": {
      "text/plain": [
       "[1, 2, 3, 3, 4, 4, 5, 6, 7, 7, 8]"
      ]
     },
     "execution_count": 108,
     "metadata": {},
     "output_type": "execute_result"
    }
   ],
   "source": [
    "a"
   ]
  },
  {
   "cell_type": "code",
   "execution_count": 109,
   "id": "c9392f08",
   "metadata": {},
   "outputs": [],
   "source": [
    "a[5]=[] #다섯 번째에 빈 값[]이 들어 있는 리스트를 만듬(주의: a[5:5]=[]라고 해야 함) 5부터 5까지"
   ]
  },
  {
   "cell_type": "code",
   "execution_count": 110,
   "id": "85936308",
   "metadata": {},
   "outputs": [
    {
     "data": {
      "text/plain": [
       "[1, 2, 3, 3, 4, [], 5, 6, 7, 7, 8]"
      ]
     },
     "execution_count": 110,
     "metadata": {},
     "output_type": "execute_result"
    }
   ],
   "source": [
    "a"
   ]
  },
  {
   "cell_type": "code",
   "execution_count": 111,
   "id": "aa769648",
   "metadata": {},
   "outputs": [],
   "source": [
    "del(a[4])"
   ]
  },
  {
   "cell_type": "code",
   "execution_count": 112,
   "id": "582fd800",
   "metadata": {},
   "outputs": [
    {
     "data": {
      "text/plain": [
       "[1, 2, 3, 3, [], 5, 6, 7, 7, 8]"
      ]
     },
     "execution_count": 112,
     "metadata": {},
     "output_type": "execute_result"
    }
   ],
   "source": [
    "a"
   ]
  },
  {
   "cell_type": "code",
   "execution_count": 113,
   "id": "be9f84ad",
   "metadata": {},
   "outputs": [],
   "source": [
    "a.clear() #다 지우나 빈 값에 리스트가 남음"
   ]
  },
  {
   "cell_type": "code",
   "execution_count": 114,
   "id": "c23df0e7",
   "metadata": {},
   "outputs": [
    {
     "data": {
      "text/plain": [
       "[]"
      ]
     },
     "execution_count": 114,
     "metadata": {},
     "output_type": "execute_result"
    }
   ],
   "source": [
    "a"
   ]
  },
  {
   "cell_type": "code",
   "execution_count": 115,
   "id": "fe03c16f",
   "metadata": {},
   "outputs": [],
   "source": [
    "del(a) #리스트 정의까지 삭제"
   ]
  },
  {
   "cell_type": "code",
   "execution_count": 116,
   "id": "4181f3b9",
   "metadata": {},
   "outputs": [
    {
     "ename": "NameError",
     "evalue": "name 'a' is not defined",
     "output_type": "error",
     "traceback": [
      "\u001b[1;31m---------------------------------------------------------------------------\u001b[0m",
      "\u001b[1;31mNameError\u001b[0m                                 Traceback (most recent call last)",
      "Input \u001b[1;32mIn [116]\u001b[0m, in \u001b[0;36m<cell line: 1>\u001b[1;34m()\u001b[0m\n\u001b[1;32m----> 1\u001b[0m \u001b[43ma\u001b[49m\n",
      "\u001b[1;31mNameError\u001b[0m: name 'a' is not defined"
     ]
    }
   ],
   "source": [
    "a"
   ]
  },
  {
   "cell_type": "code",
   "execution_count": 117,
   "id": "14bbdde5",
   "metadata": {},
   "outputs": [],
   "source": [
    "a=[1,2,3,3,4,4,5,6,7,7,7,7,8]"
   ]
  },
  {
   "cell_type": "code",
   "execution_count": 118,
   "id": "1adec77a",
   "metadata": {},
   "outputs": [
    {
     "data": {
      "text/plain": [
       "8"
      ]
     },
     "execution_count": 118,
     "metadata": {},
     "output_type": "execute_result"
    }
   ],
   "source": [
    "a.pop() #pop메소드로 마지막 값을 뽑음"
   ]
  },
  {
   "cell_type": "code",
   "execution_count": 119,
   "id": "80127d41",
   "metadata": {},
   "outputs": [
    {
     "data": {
      "text/plain": [
       "[1, 2, 3, 3, 4, 4, 5, 6, 7, 7, 7, 7]"
      ]
     },
     "execution_count": 119,
     "metadata": {},
     "output_type": "execute_result"
    }
   ],
   "source": [
    "a #뽑아서 안에 내용은 이제 없다"
   ]
  },
  {
   "cell_type": "code",
   "execution_count": 120,
   "id": "a8afc03f",
   "metadata": {},
   "outputs": [
    {
     "data": {
      "text/plain": [
       "7"
      ]
     },
     "execution_count": 120,
     "metadata": {},
     "output_type": "execute_result"
    }
   ],
   "source": [
    "a.pop()"
   ]
  },
  {
   "cell_type": "code",
   "execution_count": 125,
   "id": "6ad41501",
   "metadata": {
    "scrolled": true
   },
   "outputs": [
    {
     "data": {
      "text/plain": [
       "4"
      ]
     },
     "execution_count": 125,
     "metadata": {},
     "output_type": "execute_result"
    }
   ],
   "source": [
    "a.pop(3) #인자로 컬렉션의 해당 인덱스 값을 뽑음"
   ]
  },
  {
   "cell_type": "code",
   "execution_count": 126,
   "id": "66945bc2",
   "metadata": {},
   "outputs": [
    {
     "data": {
      "text/plain": [
       "[1, 2, 3, 4, 5, 7, 7, 7]"
      ]
     },
     "execution_count": 126,
     "metadata": {},
     "output_type": "execute_result"
    }
   ],
   "source": [
    "a"
   ]
  },
  {
   "cell_type": "code",
   "execution_count": 127,
   "id": "d975e6c6",
   "metadata": {},
   "outputs": [
    {
     "data": {
      "text/plain": [
       "7"
      ]
     },
     "execution_count": 127,
     "metadata": {},
     "output_type": "execute_result"
    }
   ],
   "source": [
    "a.pop(6)"
   ]
  },
  {
   "cell_type": "code",
   "execution_count": 128,
   "id": "dcdd9814",
   "metadata": {},
   "outputs": [
    {
     "data": {
      "text/plain": [
       "[1, 2, 3, 4, 5, 7, 7]"
      ]
     },
     "execution_count": 128,
     "metadata": {},
     "output_type": "execute_result"
    }
   ],
   "source": [
    "a"
   ]
  },
  {
   "cell_type": "code",
   "execution_count": 129,
   "id": "2f2cb189",
   "metadata": {},
   "outputs": [
    {
     "data": {
      "text/plain": [
       "1"
      ]
     },
     "execution_count": 129,
     "metadata": {},
     "output_type": "execute_result"
    }
   ],
   "source": [
    "a.pop(0)"
   ]
  },
  {
   "cell_type": "code",
   "execution_count": 130,
   "id": "d566446f",
   "metadata": {},
   "outputs": [
    {
     "data": {
      "text/plain": [
       "[2, 3, 4, 5, 7, 7]"
      ]
     },
     "execution_count": 130,
     "metadata": {},
     "output_type": "execute_result"
    }
   ],
   "source": [
    "a"
   ]
  },
  {
   "cell_type": "code",
   "execution_count": 131,
   "id": "097fb598",
   "metadata": {},
   "outputs": [],
   "source": [
    "a=[1,2,3,3,4,4,5,6,7,7,7,7,8]"
   ]
  },
  {
   "cell_type": "code",
   "execution_count": 132,
   "id": "aeb0e4ed",
   "metadata": {},
   "outputs": [
    {
     "data": {
      "text/plain": [
       "8"
      ]
     },
     "execution_count": 132,
     "metadata": {},
     "output_type": "execute_result"
    }
   ],
   "source": [
    "a.index(7)"
   ]
  },
  {
   "cell_type": "code",
   "execution_count": 133,
   "id": "aa3fa6ed",
   "metadata": {},
   "outputs": [
    {
     "data": {
      "text/plain": [
       "12"
      ]
     },
     "execution_count": 133,
     "metadata": {},
     "output_type": "execute_result"
    }
   ],
   "source": [
    "a.index(8) #값 8의 위치는 12(0부터 시작)"
   ]
  },
  {
   "cell_type": "code",
   "execution_count": 134,
   "id": "6fe0af07",
   "metadata": {},
   "outputs": [
    {
     "data": {
      "text/plain": [
       "4"
      ]
     },
     "execution_count": 134,
     "metadata": {},
     "output_type": "execute_result"
    }
   ],
   "source": [
    "a.index(4) #값 4의 위치는 4(0부터 시작)"
   ]
  },
  {
   "cell_type": "code",
   "execution_count": 135,
   "id": "0b365f6d",
   "metadata": {},
   "outputs": [
    {
     "data": {
      "text/plain": [
       "4"
      ]
     },
     "execution_count": 135,
     "metadata": {},
     "output_type": "execute_result"
    }
   ],
   "source": [
    "a.count(7) #7은 4번 나옴"
   ]
  },
  {
   "cell_type": "code",
   "execution_count": 136,
   "id": "22e5f158",
   "metadata": {},
   "outputs": [],
   "source": [
    "a=[1,2,3,3,4,4,5,6,7,7,7,7,8]"
   ]
  },
  {
   "cell_type": "code",
   "execution_count": 143,
   "id": "1830e660",
   "metadata": {},
   "outputs": [
    {
     "name": "stdout",
     "output_type": "stream",
     "text": [
      "1 8 13\n"
     ]
    }
   ],
   "source": [
    "print(min(a),max(a),len(a)) #리스트 중 최소 최대 크기의 값을 구함."
   ]
  },
  {
   "cell_type": "code",
   "execution_count": 144,
   "id": "2cc53b9a",
   "metadata": {},
   "outputs": [],
   "source": [
    "a=[1,8,5,6,2,4,5,2,6,9,4]"
   ]
  },
  {
   "cell_type": "code",
   "execution_count": 145,
   "id": "a95d951e",
   "metadata": {},
   "outputs": [],
   "source": [
    "a.reverse() #리스트의 내용을 역으로 보여준다. 내림차순이 아님!"
   ]
  },
  {
   "cell_type": "code",
   "execution_count": 146,
   "id": "d83ccf5a",
   "metadata": {},
   "outputs": [
    {
     "data": {
      "text/plain": [
       "[4, 9, 6, 2, 5, 4, 2, 6, 5, 8, 1]"
      ]
     },
     "execution_count": 146,
     "metadata": {},
     "output_type": "execute_result"
    }
   ],
   "source": [
    "a"
   ]
  },
  {
   "cell_type": "code",
   "execution_count": 147,
   "id": "0a699ae4",
   "metadata": {},
   "outputs": [],
   "source": [
    "a.sort() #리스트의 값을 오름차순으로 설정한다!"
   ]
  },
  {
   "cell_type": "code",
   "execution_count": 155,
   "id": "5a81a9ad",
   "metadata": {},
   "outputs": [
    {
     "data": {
      "text/plain": [
       "[1, 2, 2, 4, 4, 5, 5, 6, 6, 8, 9]"
      ]
     },
     "execution_count": 155,
     "metadata": {},
     "output_type": "execute_result"
    }
   ],
   "source": [
    "a"
   ]
  },
  {
   "cell_type": "code",
   "execution_count": 162,
   "id": "f1582701",
   "metadata": {},
   "outputs": [
    {
     "name": "stdout",
     "output_type": "stream",
     "text": [
      "==================================================\n",
      "이름\t국어\t영어\t수학\t총점\t평균\n",
      "==================================================\n",
      "name0 \t 92 \t 30 \t 69 \t 191 \t 63\n",
      "name1 \t 44 \t 70 \t 40 \t 154 \t 51\n",
      "name2 \t 96 \t 60 \t 32 \t 188 \t 62\n",
      "name3 \t 88 \t 65 \t 40 \t 193 \t 64\n",
      "name4 \t 84 \t 98 \t 17 \t 199 \t 66\n",
      "name5 \t 39 \t 20 \t 15 \t 74 \t 24\n",
      "name6 \t 80 \t 11 \t 99 \t 190 \t 63\n",
      "name7 \t 71 \t 61 \t 87 \t 219 \t 73\n",
      "name8 \t 87 \t 23 \t 56 \t 166 \t 55\n",
      "==================================================\n",
      "반총점\t 681 \t 438 \t 455 \t 174 \t 58.0\n",
      "==================================================\n"
     ]
    }
   ],
   "source": [
    "import random as r\n",
    "\n",
    "def titleprint(): #pass였던 함수를 채워넣는다\n",
    "    print(\"=\"*50) #첫라인 줄 긋기\n",
    "    print(\"이름\\t국어\\t영어\\t수학\\t총점\\t평균\") #첫 둘째 라인의 항목 이름 나열하기\n",
    "    print(\"=\"*50) #줄 긋기\n",
    "\n",
    "def itemprint(name,kor,eng,mat): #4가지 인수를 받는 함수. 자료형은 설정하지 않다도 된다.\n",
    "    print(name,\"\\t\",kor,\"\\t\",eng,\"\\t\",mat,\"\\t\",kor+eng+mat,\"\\t\",(kor+eng+mat)//3)\n",
    "\n",
    "def tailprint(): #마지막 라인 반 총점을 구하는 함수\n",
    "    totkor=0 #반 총점을 0으로 초기화해놓기 \n",
    "    for i in ckor: #컬렉션 kor을 순서대로 도는 변수 i값.\n",
    "        totkor+=i #+1해주며 누적하기 때문에 컬렉션을 훑는다.\n",
    "    toteng=0\n",
    "    for i in ceng: #kor과 동일\n",
    "        toteng+=i\n",
    "    totmat=0\n",
    "    for i in cmat: #kor과 동일\n",
    "        totmat+=i\n",
    "    print(\"=\"*50) \n",
    "    print(\"반총점\\t\",totkor,\"\\t\",toteng,\"\\t\",totmat,\"\\t\",(totkor+toteng+totmat)//9,\"\\t\",(totkor+toteng+totmat)/3//9)\n",
    "    #반총점을 구하는 것. 해당 인덱스의 라인들을 모두 더하고, //는 실수형 자료형의 몫\n",
    "    print(\"=\"*50)\n",
    "    \n",
    "\n",
    "#데이터 설정하기\n",
    "cname=[]\n",
    "ckor =[]\n",
    "ceng =[]\n",
    "cmat =[]\n",
    "score = []\n",
    "\n",
    "for i in range(9):\n",
    "    cname.append(\"name\"+str(i)) #이름\n",
    "    ckor.append(r.randrange(10,100)) #국어 10부터 100까지 임의에 값을 추출\n",
    "    ceng.append(r.randrange(10,100)) #영어\n",
    "    cmat.append(r.randrange(10,100)) #수학\n",
    "    score.append(one_person[:]) #값을 복사해서 추가함에 주의할 것\n",
    "    one_person.clear()\n",
    "\n",
    "\n",
    "#프로그램을 보기 좋게 하려고 상수를 정의\n",
    "name=0;kor=1;eng=2;mat=3\n",
    "\n",
    "#여기부터 메인함수\n",
    "titleprint()\n",
    "for i in range(9):\n",
    "    itemprint(cname[i],ckor[i],ceng[i],cmat[i]) #아이템프린트 함수에 각 컬렉션 인덱스를 차례로 대입\n",
    "tailprint() \n"
   ]
  },
  {
   "cell_type": "code",
   "execution_count": 166,
   "id": "053dce92",
   "metadata": {},
   "outputs": [],
   "source": [
    "a=(1,8,5,6,2,4,5,2,6,9,4) #괄호로 묶이면 튜플이다. 튜플은 값을 변경할 수 없다. 마치 final"
   ]
  },
  {
   "cell_type": "code",
   "execution_count": 167,
   "id": "b09aee82",
   "metadata": {},
   "outputs": [
    {
     "data": {
      "text/plain": [
       "(1, 8, 5, 6, 2, 4, 5, 2, 6, 9, 4)"
      ]
     },
     "execution_count": 167,
     "metadata": {},
     "output_type": "execute_result"
    }
   ],
   "source": [
    "a"
   ]
  },
  {
   "cell_type": "code",
   "execution_count": 168,
   "id": "bf4e27d4",
   "metadata": {},
   "outputs": [
    {
     "data": {
      "text/plain": [
       "4"
      ]
     },
     "execution_count": 168,
     "metadata": {},
     "output_type": "execute_result"
    }
   ],
   "source": [
    "a[5] #값을 조회할 수는 있다."
   ]
  },
  {
   "cell_type": "code",
   "execution_count": 169,
   "id": "b156eadd",
   "metadata": {},
   "outputs": [
    {
     "data": {
      "text/plain": [
       "(6, 2)"
      ]
     },
     "execution_count": 169,
     "metadata": {},
     "output_type": "execute_result"
    }
   ],
   "source": [
    "a[3:5] #3번째인덱스~ 5번째 인덱스 앞까지. 마치 섭스트링"
   ]
  },
  {
   "cell_type": "code",
   "execution_count": 173,
   "id": "e33cfa13",
   "metadata": {},
   "outputs": [
    {
     "data": {
      "text/plain": [
       "(6, 2, 4, 5, 2)"
      ]
     },
     "execution_count": 173,
     "metadata": {},
     "output_type": "execute_result"
    }
   ],
   "source": [
    "a[3:8] #3번째인덱스~ 8번째 인덱스 앞까지. 마치 섭스트링"
   ]
  },
  {
   "cell_type": "code",
   "execution_count": 174,
   "id": "7a6ce0cf",
   "metadata": {},
   "outputs": [
    {
     "data": {
      "text/plain": [
       "(1, 8, 5, 6, 2, 4, 5, 2, 6, 9, 4, 1, 8, 5, 6, 2, 4, 5, 2, 6, 9, 4)"
      ]
     },
     "execution_count": 174,
     "metadata": {},
     "output_type": "execute_result"
    }
   ],
   "source": [
    "a*2 #값을 곱빼기하여 이어붙일 수도 있다."
   ]
  },
  {
   "cell_type": "code",
   "execution_count": 175,
   "id": "b7929043",
   "metadata": {},
   "outputs": [
    {
     "data": {
      "text/plain": [
       "(1, 8, 5, 6, 2, 4, 5, 2, 6, 9, 4)"
      ]
     },
     "execution_count": 175,
     "metadata": {},
     "output_type": "execute_result"
    }
   ],
   "source": [
    "a"
   ]
  },
  {
   "cell_type": "code",
   "execution_count": 176,
   "id": "a8c79d79",
   "metadata": {},
   "outputs": [
    {
     "ename": "TypeError",
     "evalue": "'tuple' object does not support item assignment",
     "output_type": "error",
     "traceback": [
      "\u001b[1;31m---------------------------------------------------------------------------\u001b[0m",
      "\u001b[1;31mTypeError\u001b[0m                                 Traceback (most recent call last)",
      "Input \u001b[1;32mIn [176]\u001b[0m, in \u001b[0;36m<cell line: 1>\u001b[1;34m()\u001b[0m\n\u001b[1;32m----> 1\u001b[0m a[\u001b[38;5;241m1\u001b[39m]\u001b[38;5;241m=\u001b[39m\u001b[38;5;241m5\u001b[39m\n",
      "\u001b[1;31mTypeError\u001b[0m: 'tuple' object does not support item assignment"
     ]
    }
   ],
   "source": [
    "a[1]=5 #값 변경불가"
   ]
  },
  {
   "cell_type": "code",
   "execution_count": 177,
   "id": "257f10c8",
   "metadata": {},
   "outputs": [
    {
     "ename": "TypeError",
     "evalue": "'tuple' object doesn't support item deletion",
     "output_type": "error",
     "traceback": [
      "\u001b[1;31m---------------------------------------------------------------------------\u001b[0m",
      "\u001b[1;31mTypeError\u001b[0m                                 Traceback (most recent call last)",
      "Input \u001b[1;32mIn [177]\u001b[0m, in \u001b[0;36m<cell line: 1>\u001b[1;34m()\u001b[0m\n\u001b[1;32m----> 1\u001b[0m \u001b[38;5;28;01mdel\u001b[39;00m a[\u001b[38;5;241m4\u001b[39m]\n",
      "\u001b[1;31mTypeError\u001b[0m: 'tuple' object doesn't support item deletion"
     ]
    }
   ],
   "source": [
    "del a[4] #변수 지우기 불가"
   ]
  },
  {
   "cell_type": "code",
   "execution_count": 178,
   "id": "3d72de53",
   "metadata": {},
   "outputs": [
    {
     "ename": "AttributeError",
     "evalue": "'tuple' object has no attribute 'append'",
     "output_type": "error",
     "traceback": [
      "\u001b[1;31m---------------------------------------------------------------------------\u001b[0m",
      "\u001b[1;31mAttributeError\u001b[0m                            Traceback (most recent call last)",
      "Input \u001b[1;32mIn [178]\u001b[0m, in \u001b[0;36m<cell line: 1>\u001b[1;34m()\u001b[0m\n\u001b[1;32m----> 1\u001b[0m \u001b[43ma\u001b[49m\u001b[38;5;241;43m.\u001b[39;49m\u001b[43mappend\u001b[49m(\u001b[38;5;241m10\u001b[39m)\n",
      "\u001b[1;31mAttributeError\u001b[0m: 'tuple' object has no attribute 'append'"
     ]
    }
   ],
   "source": [
    "a.append(10) #값 추가하기 불가"
   ]
  },
  {
   "cell_type": "code",
   "execution_count": 180,
   "id": "0d3bff53",
   "metadata": {},
   "outputs": [
    {
     "name": "stdout",
     "output_type": "stream",
     "text": [
      "((2, 17403), (41, 40338))\n"
     ]
    }
   ],
   "source": [
    "def location():\n",
    "    latitude = 2, 17403 # 위도\n",
    "    longitude=41,40338 #경도\n",
    "    return latitude,longitude #이런방식의 리턴은 튜플로 반환\n",
    "a=location()\n",
    "print(a)"
   ]
  },
  {
   "cell_type": "code",
   "execution_count": null,
   "id": "32ff4230",
   "metadata": {},
   "outputs": [],
   "source": []
  }
 ],
 "metadata": {
  "kernelspec": {
   "display_name": "Python 3 (ipykernel)",
   "language": "python",
   "name": "python3"
  },
  "language_info": {
   "codemirror_mode": {
    "name": "ipython",
    "version": 3
   },
   "file_extension": ".py",
   "mimetype": "text/x-python",
   "name": "python",
   "nbconvert_exporter": "python",
   "pygments_lexer": "ipython3",
   "version": "3.8.8rc1"
  }
 },
 "nbformat": 4,
 "nbformat_minor": 5
}
