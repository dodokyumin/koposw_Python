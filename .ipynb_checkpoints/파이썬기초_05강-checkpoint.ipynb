{
 "cells": [
  {
   "cell_type": "code",
   "execution_count": 4,
   "id": "272229c9",
   "metadata": {
    "scrolled": true
   },
   "outputs": [
    {
     "name": "stdout",
     "output_type": "stream",
     "text": [
      "이름이 뭐니?홍규민\n",
      "주인님 어서오십시요\n"
     ]
    }
   ],
   "source": [
    "name = input(\"이름이 뭐니?\") #안내 문구와 함께 인풋값을 받아 변수 name에 문자형으로 저장한다.\n",
    "if name == \"홍규민\" : #저장한 문자형 name이 \"홍규민\" 이 문자형과 같다면\n",
    "    print(\"주인님 어서오십시요\") #참일 때 실행하는 실행문"
   ]
  },
  {
   "cell_type": "code",
   "execution_count": 5,
   "id": "31a8a704",
   "metadata": {},
   "outputs": [
    {
     "name": "stdout",
     "output_type": "stream",
     "text": [
      "이름이 뭐니?홍홍홍\n"
     ]
    }
   ],
   "source": [
    "name = input(\"이름이 뭐니?\") #안내 문구와 함께 인풋값을 받아 변수 name에 문자형으로 저장한다.\n",
    "if name == \"홍규민\" : #저장한 문자형 name이 \"홍규민\" 이 문자형과 같다면\n",
    "    print(\"주인님 어서오십시요\")"
   ]
  },
  {
   "cell_type": "code",
   "execution_count": 6,
   "id": "e46c6315",
   "metadata": {},
   "outputs": [
    {
     "name": "stdout",
     "output_type": "stream",
     "text": [
      "성별이 어떻게 되나요?남자\n",
      "넥타이가 멋있습니다.\n"
     ]
    }
   ],
   "source": [
    "name = input(\"성별이 어떻게 되나요?\") #안내 문구와 함께 인풋값을 받아 변수 name에 문자형으로 저장한다.\n",
    "\n",
    "if name == \"남자\" :  #저장한 문자형 name이 \"남자\" 이 문자형과 같다면\n",
    "    print(\"넥타이가 멋있습니다.\") #참일 때 실행하는 실행문\n",
    "else:\n",
    "    print(\"립스틱색이 예쁘네요.\") #거짓일 때 실행하는 실행문"
   ]
  },
  {
   "cell_type": "code",
   "execution_count": 7,
   "id": "cc90ccef",
   "metadata": {},
   "outputs": [
    {
     "name": "stdout",
     "output_type": "stream",
     "text": [
      "성별이 어떻게 되나요?여자\n",
      "립스틱색이 예쁘네요.\n"
     ]
    }
   ],
   "source": [
    "name = input(\"성별이 어떻게 되나요?\")\n",
    "\n",
    "if name == \"남자\" :\n",
    "    print(\"넥타이가 멋있습니다.\")\n",
    "else:\n",
    "    print(\"립스틱색이 예쁘네요.\")"
   ]
  },
  {
   "cell_type": "code",
   "execution_count": 8,
   "id": "d21b8eb1",
   "metadata": {
    "scrolled": true
   },
   "outputs": [
    {
     "name": "stdout",
     "output_type": "stream",
     "text": [
      "성별이 어떻게 되나요?몰라\n",
      "립스틱색이 예쁘네요.\n"
     ]
    }
   ],
   "source": [
    "name = input(\"성별이 어떻게 되나요?\")\n",
    "\n",
    "if name == \"남자\" :\n",
    "    print(\"넥타이가 멋있습니다.\")\n",
    "else:\n",
    "    print(\"립스틱색이 예쁘네요.\") #이때 남자가 아닌 모든 입력값을 else가 받으므로 몰라라고 입력해도 립스틱 그 문장이 출력됨"
   ]
  },
  {
   "cell_type": "code",
   "execution_count": 11,
   "id": "a794f795",
   "metadata": {},
   "outputs": [
    {
     "name": "stdout",
     "output_type": "stream",
     "text": [
      "얼마를 구매하셨나요?1000\n",
      "면세입니다.\n"
     ]
    }
   ],
   "source": [
    "price = int(input(\"얼마를 구매하셨나요?\"))\n",
    "if price < 10000 :\n",
    "    print(\"면세입니다.\")\n",
    "else:\n",
    "    print(\"세금은 10%입니다.\")"
   ]
  },
  {
   "cell_type": "code",
   "execution_count": 15,
   "id": "24b7a550",
   "metadata": {},
   "outputs": [
    {
     "name": "stdout",
     "output_type": "stream",
     "text": [
      "얼마를 구매하셨나요?100000\n",
      "세금은 10%입니다.\n"
     ]
    }
   ],
   "source": [
    "price = int(input(\"얼마를 구매하셨나요?\"))\n",
    "if price < 10000 :\n",
    "    print(\"면세입니다.\")\n",
    "else:\n",
    "    print(\"세금은 10%입니다.\")"
   ]
  },
  {
   "cell_type": "code",
   "execution_count": 16,
   "id": "c5736eaf",
   "metadata": {
    "scrolled": true
   },
   "outputs": [
    {
     "name": "stdout",
     "output_type": "stream",
     "text": [
      "얼마를 구매하셨나요?100\n",
      "면세입니다.\n"
     ]
    }
   ],
   "source": [
    "price = int(input(\"얼마를 구매하셨나요?\"))\n",
    "if price < 10000 :\n",
    "    print(\"면세입니다.\")\n",
    "else:\n",
    "    print(\"세금은 10%입니다.\")"
   ]
  },
  {
   "cell_type": "code",
   "execution_count": 17,
   "id": "c39ec9f8",
   "metadata": {},
   "outputs": [],
   "source": [
    "a=100 #a에 정수형 자료형 100을 대입"
   ]
  },
  {
   "cell_type": "code",
   "execution_count": 18,
   "id": "2b7a649b",
   "metadata": {},
   "outputs": [],
   "source": [
    "if (a==99): print(\"a는 99입니다\") #a는 100이므로 99가 아니므로 실행 안함"
   ]
  },
  {
   "cell_type": "code",
   "execution_count": 19,
   "id": "8402ee11",
   "metadata": {},
   "outputs": [
    {
     "name": "stdout",
     "output_type": "stream",
     "text": [
      "a는 100입니다\n"
     ]
    }
   ],
   "source": [
    "if (a==100): print(\"a는 100입니다\") #a는 100이므로 실행함"
   ]
  },
  {
   "cell_type": "code",
   "execution_count": 20,
   "id": "e0445c88",
   "metadata": {},
   "outputs": [
    {
     "name": "stdout",
     "output_type": "stream",
     "text": [
      "a는 100이상입니다\n"
     ]
    }
   ],
   "source": [
    "if (a>=100): print(\"a는 100이상입니다\") #a는 100이므로 100이상이라는 조건에 맞다"
   ]
  },
  {
   "cell_type": "code",
   "execution_count": 21,
   "id": "50e13de7",
   "metadata": {},
   "outputs": [],
   "source": [
    "if (a<100): print(\"a는 100미만입니다\") #a는 100이고 100미만이 아니므로 조건에 안맞다."
   ]
  },
  {
   "cell_type": "code",
   "execution_count": 22,
   "id": "9ba2afdc",
   "metadata": {},
   "outputs": [],
   "source": [
    "a=\"abc\" #\"abc\" 문자형을 변수 a에 저장한다."
   ]
  },
  {
   "cell_type": "code",
   "execution_count": 23,
   "id": "8aca788f",
   "metadata": {},
   "outputs": [
    {
     "name": "stdout",
     "output_type": "stream",
     "text": [
      "abc이다\n"
     ]
    }
   ],
   "source": [
    "if(a == \"abc\"): print(\"abc이다\") #a는 \"abc\" 이므로 실행문이 실행된다."
   ]
  },
  {
   "cell_type": "code",
   "execution_count": 24,
   "id": "19a5a191",
   "metadata": {},
   "outputs": [],
   "source": [
    "a=\"abc\" #\"abc\" 문자형을 변수 a에 저장한다."
   ]
  },
  {
   "cell_type": "code",
   "execution_count": 30,
   "id": "f154c53e",
   "metadata": {},
   "outputs": [],
   "source": [
    "if(a > \"abc\"): print(\"abc보다 큰문자이다\") #\"abc\" > \"abc\" 는 같다가 아닌이상 false이다."
   ]
  },
  {
   "cell_type": "code",
   "execution_count": 26,
   "id": "eee5b360",
   "metadata": {},
   "outputs": [],
   "source": [
    "a=\"abd\" #\"abd\" 문자형을 변수 a에 저장한다."
   ]
  },
  {
   "cell_type": "code",
   "execution_count": 27,
   "id": "1b6103db",
   "metadata": {},
   "outputs": [
    {
     "name": "stdout",
     "output_type": "stream",
     "text": [
      "abc보다 큰문자이다\n"
     ]
    }
   ],
   "source": [
    "if(a > \"abc\"): print(\"abc보다 큰문자이다\") #abd > abc. 파이썬에서 d는 c보다 크므로 true이다. "
   ]
  },
  {
   "cell_type": "code",
   "execution_count": 28,
   "id": "bd15e2f1",
   "metadata": {},
   "outputs": [],
   "source": [
    "a=\"abb\" #\"abb\" 문자형을 변수 a에 저장한다."
   ]
  },
  {
   "cell_type": "code",
   "execution_count": 29,
   "id": "d4a2d909",
   "metadata": {},
   "outputs": [],
   "source": [
    "if(a > \"abc\"): print(\"abc보다 큰문자이다\") #\"abb\" 문자형은 \"abc\"보다 작으므로 false이다."
   ]
  },
  {
   "cell_type": "code",
   "execution_count": 31,
   "id": "5696b601",
   "metadata": {},
   "outputs": [
    {
     "name": "stdout",
     "output_type": "stream",
     "text": [
      "점수를 입력하셔요?88\n",
      "학점은 B입니다.\n"
     ]
    }
   ],
   "source": [
    "x = int(input(\"점수를 입력하셔요?\")) #input값을 정수형으로 받아 변수 x에 저장한다.\n",
    "if 0 <= x and x < 60 : print(\"학점은 F입니다.\") #만약 x가 0이상 60미만이면 해당 프린트 실행.\n",
    "if 60 <= x and x < 70 : print(\"학점은 D입니다.\") #만약 x가 60이상 70미만이면 해당 프린트 실행.\n",
    "if 70 <= x and x < 80 : print(\"학점은 C입니다.\") #만약 x가 70이상 80미만이면 해당 프린트 실행.\n",
    "if 80 <= x and x < 90 : print(\"학점은 B입니다.\") #만약 x가 80이상 90미만이면 해당 프린트 실행.\n",
    "if 90 <= x and x <= 100 : print(\"학점은 A입니다.\") #만약 x가 90이상 100미만이면 해당 프린트 실행."
   ]
  },
  {
   "cell_type": "code",
   "execution_count": 32,
   "id": "b41086ec",
   "metadata": {},
   "outputs": [
    {
     "name": "stdout",
     "output_type": "stream",
     "text": [
      "점수를 입력하셔요?100\n",
      "학점은 A입니다.\n"
     ]
    }
   ],
   "source": [
    "x = int(input(\"점수를 입력하셔요?\"))\n",
    "if 0 <= x and x < 60 : print(\"학점은 F입니다.\")\n",
    "if 60 <= x and x < 70 : print(\"학점은 D입니다.\")\n",
    "if 70 <= x and x < 80 : print(\"학점은 C입니다.\")\n",
    "if 80 <= x and x < 90 : print(\"학점은 B입니다.\")\n",
    "if 90 <= x and x <= 100 : print(\"학점은 A입니다.\")"
   ]
  },
  {
   "cell_type": "code",
   "execution_count": 33,
   "id": "dce6cca2",
   "metadata": {},
   "outputs": [
    {
     "name": "stdout",
     "output_type": "stream",
     "text": [
      "점수를 입력하셔요?44\n",
      "학점은 F입니다.\n"
     ]
    }
   ],
   "source": [
    "x = int(input(\"점수를 입력하셔요?\"))\n",
    "if 0 <= x and x < 60 : print(\"학점은 F입니다.\")\n",
    "if 60 <= x and x < 70 : print(\"학점은 D입니다.\")\n",
    "if 70 <= x and x < 80 : print(\"학점은 C입니다.\")\n",
    "if 80 <= x and x < 90 : print(\"학점은 B입니다.\")\n",
    "if 90 <= x and x <= 100 : print(\"학점은 A입니다.\")"
   ]
  },
  {
   "cell_type": "code",
   "execution_count": 34,
   "id": "1f3bc69a",
   "metadata": {},
   "outputs": [
    {
     "name": "stdout",
     "output_type": "stream",
     "text": [
      "영문 알파벳 한글자를 입력하셔요?a\n",
      "소문자 입니다.\n"
     ]
    }
   ],
   "source": [
    "x = input(\"영문 알파벳 한글자를 입력하셔요?\") #input값을 정수형으로 받아 변수 x에 저장한다.\n",
    "if \"a\" <= x and x <= \"z\" : print(\"소문자 입니다.\") #부등호에 \"a\"를 넣으면 b,c,d..차례로 문자가 들어간다.\n",
    "if \"A\" <= x and x <= \"Z\" : print(\"대문자 입니다.\") #대문자도 똑같이 가능"
   ]
  },
  {
   "cell_type": "code",
   "execution_count": 35,
   "id": "0e14f8b7",
   "metadata": {},
   "outputs": [
    {
     "name": "stdout",
     "output_type": "stream",
     "text": [
      "영문 알파벳 한글자를 입력하셔요?A\n",
      "대문자 입니다.\n"
     ]
    }
   ],
   "source": [
    "x = input(\"영문 알파벳 한글자를 입력하셔요?\")\n",
    "if \"a\" <= x and x <= \"z\" : print(\"소문자 입니다.\")\n",
    "if \"A\" <= x and x <= \"Z\" : print(\"대문자 입니다.\")"
   ]
  },
  {
   "cell_type": "code",
   "execution_count": 36,
   "id": "30623885",
   "metadata": {},
   "outputs": [
    {
     "name": "stdout",
     "output_type": "stream",
     "text": [
      "영문 알파벳 한글자를 입력하셔요?S\n",
      "대문자 입니다.\n"
     ]
    }
   ],
   "source": [
    "x = input(\"영문 알파벳 한글자를 입력하셔요?\")\n",
    "if \"a\" <= x and x <= \"z\" : print(\"소문자 입니다.\")\n",
    "if \"A\" <= x and x <= \"Z\" : print(\"대문자 입니다.\")"
   ]
  },
  {
   "cell_type": "code",
   "execution_count": 37,
   "id": "f4847375",
   "metadata": {},
   "outputs": [],
   "source": [
    "a=100 #a에 정수형100을 담아주었다."
   ]
  },
  {
   "cell_type": "code",
   "execution_count": 39,
   "id": "f495e3dc",
   "metadata": {},
   "outputs": [
    {
     "ename": "IndentationError",
     "evalue": "unexpected indent (722847035.py, line 3)",
     "output_type": "error",
     "traceback": [
      "\u001b[1;36m  Input \u001b[1;32mIn [39]\u001b[1;36m\u001b[0m\n\u001b[1;33m    a = a - 50\u001b[0m\n\u001b[1;37m    ^\u001b[0m\n\u001b[1;31mIndentationError\u001b[0m\u001b[1;31m:\u001b[0m unexpected indent\n"
     ]
    }
   ],
   "source": [
    "if a>50:   #100은 50보다 커서 실행문을 실행한다.\n",
    "    print (\"50보다 큰수는 50을 빼겠습니다.\") \n",
    "        a = a - 50  #여기서 에러 발생. 블록이 한칸 밀려있으므로 다른 구조에 된다는 것."
   ]
  },
  {
   "cell_type": "code",
   "execution_count": 40,
   "id": "00e39028",
   "metadata": {},
   "outputs": [
    {
     "name": "stdout",
     "output_type": "stream",
     "text": [
      "50보다 큰수는 50을 빼겠습니다.\n"
     ]
    }
   ],
   "source": [
    "if a>50:\n",
    "    print (\"50보다 큰수는 50을 빼겠습니다.\")\n",
    "    a = a - 50  #블록이 같은 구조로 있으니 실행이 된다. a에서 50을 뺀 값을 저장한다."
   ]
  },
  {
   "cell_type": "code",
   "execution_count": 41,
   "id": "4c60044e",
   "metadata": {},
   "outputs": [
    {
     "name": "stdout",
     "output_type": "stream",
     "text": [
      "50\n"
     ]
    }
   ],
   "source": [
    "print(a)"
   ]
  },
  {
   "cell_type": "code",
   "execution_count": 1,
   "id": "3e7ddd26",
   "metadata": {},
   "outputs": [
    {
     "name": "stdout",
     "output_type": "stream",
     "text": [
      "점수를 입력하셔요?(0~100)100\n",
      "학점은 A입니다\n"
     ]
    }
   ],
   "source": [
    "x=int(input(\"점수를 입력하셔요?(0~100)\"))#input값을 정수형으로 받아 변수 x에 저장한다.\n",
    "if x >= 90 : print (\"학점은 A입니다\") #x가 90이상이면 실행되는 코드\n",
    "elif x >= 80 : print (\"학점은 B입니다\") #x가 80이상 90미만이면 실행되는 코드\n",
    "elif x >= 70 : print (\"학점은 C입니다\") #x가 70이상 80미만이면 실행되는 코드\n",
    "elif x >= 60 : print (\"학점은 D입니다\") #x가 60이상 70미만이면 실행되는 코드\n",
    "else : print (\"학점은 F입니다\")"
   ]
  },
  {
   "cell_type": "code",
   "execution_count": 2,
   "id": "e8162270",
   "metadata": {},
   "outputs": [
    {
     "name": "stdout",
     "output_type": "stream",
     "text": [
      "점수를 입력하셔요?(0~100)44\n",
      "학점은 F입니다\n"
     ]
    }
   ],
   "source": [
    "x=int(input(\"점수를 입력하셔요?(0~100)\")) #input값을 정수형으로 받아 변수 x에 저장한다.\n",
    "if x >= 90 : print (\"학점은 A입니다\") #if문의 조건은 : 까지. :로 블록을 마무리 하고 이어 붙여도 실행된다1\n",
    "elif x >= 80 : print (\"학점은 B입니다\")\n",
    "elif x >= 70 : print (\"학점은 C입니다\")\n",
    "elif x >= 60 : print (\"학점은 D입니다\")\n",
    "else : print (\"학점은 F입니다\")"
   ]
  },
  {
   "cell_type": "code",
   "execution_count": 3,
   "id": "a2358368",
   "metadata": {},
   "outputs": [
    {
     "name": "stdout",
     "output_type": "stream",
     "text": [
      "점수를 입력하셔요?(0~100)77\n",
      "학점은 C입니다\n"
     ]
    }
   ],
   "source": [
    "x=int(input(\"점수를 입력하셔요?(0~100)\"))\n",
    "if x >= 90 : print (\"학점은 A입니다\")\n",
    "elif x >= 80 : print (\"학점은 B입니다\")\n",
    "elif x >= 70 : print (\"학점은 C입니다\")\n",
    "elif x >= 60 : print (\"학점은 D입니다\")\n",
    "else : print (\"학점은 F입니다\")"
   ]
  },
  {
   "cell_type": "code",
   "execution_count": 4,
   "id": "43ffd365",
   "metadata": {},
   "outputs": [
    {
     "name": "stdout",
     "output_type": "stream",
     "text": [
      "숫자를 입력하셔요?4\n",
      "4의 배수인 짝수입니다(당연히 짝수)\n"
     ]
    }
   ],
   "source": [
    "x=int(input(\"숫자를 입력하셔요?\"))\n",
    "if x % 2 == 0 : #맨 먼저 x값이 2로 나누어 떨어지는 값인지 확인을 한다.\n",
    "    if x%4==0: #만약 2로 나누어 떨어진다면 다시 4로 나누어 떨어지는지 확인한다.\n",
    "        print(\"4의 배수인 짝수입니다(당연히 짝수)\")\n",
    "    else: #4로 나누어 떨어지지 않는다면 아래 실행문을 실행한다.\n",
    "        print(\"4의 배수가 아닌 짝수입니다\");\n",
    "elif x%3==0:  #파이썬에서는 else if를 간단히 elif라고 한다. 3으로 나누어 떨어지는지\n",
    "    print(\"3의 배수인 홀수 입니다\")\n",
    "else:  #3으로 나누어 떨어지는게 아니면\n",
    "    print (\"3의 배수가 아닌 홀수입니다\")"
   ]
  },
  {
   "cell_type": "code",
   "execution_count": 5,
   "id": "81fda58a",
   "metadata": {},
   "outputs": [
    {
     "name": "stdout",
     "output_type": "stream",
     "text": [
      "숫자를 입력하셔요?22\n",
      "4의 배수가 아닌 짝수입니다\n"
     ]
    }
   ],
   "source": [
    "x=int(input(\"숫자를 입력하셔요?\"))\n",
    "if x % 2 == 0 : #맨 먼저 x값이 2로 나누어 떨어지는 값인지 확인을 한다.\n",
    "    if x%4==0: #만약 2로 나누어 떨어진다면 다시 4로 나누어 떨어지는지 확인한다.\n",
    "        print(\"4의 배수인 짝수입니다(당연히 짝수)\")\n",
    "    else: #4로 나누어 떨어지지 않는다면 아래 실행문을 실행한다.\n",
    "        print(\"4의 배수가 아닌 짝수입니다\");\n",
    "elif x%3==0:  #파이썬에서는 else if를 간단히 elif라고 한다. 3으로 나누어 떨어지는지\n",
    "    print(\"3의 배수인 홀수 입니다\")\n",
    "else:  #3으로 나누어 떨어지는게 아니면\n",
    "    print (\"3의 배수가 아닌 홀수입니다\")"
   ]
  },
  {
   "cell_type": "code",
   "execution_count": 6,
   "id": "0853e227",
   "metadata": {
    "scrolled": true
   },
   "outputs": [
    {
     "name": "stdout",
     "output_type": "stream",
     "text": [
      "숫자를 입력하셔요?9\n",
      "3의 배수인 홀수 입니다\n"
     ]
    }
   ],
   "source": [
    "x=int(input(\"숫자를 입력하셔요?\"))\n",
    "if x % 2 == 0 : #맨 먼저 x값이 2로 나누어 떨어지는 값인지 확인을 한다.\n",
    "    if x%4==0: #만약 2로 나누어 떨어진다면 다시 4로 나누어 떨어지는지 확인한다.\n",
    "        print(\"4의 배수인 짝수입니다(당연히 짝수)\")\n",
    "    else: #4로 나누어 떨어지지 않는다면 아래 실행문을 실행한다.\n",
    "        print(\"4의 배수가 아닌 짝수입니다\");\n",
    "elif x%3==0:  #파이썬에서는 else if를 간단히 elif라고 한다. 3으로 나누어 떨어지는지\n",
    "    print(\"3의 배수인 홀수 입니다\")\n",
    "else:  #3으로 나누어 떨어지는게 아니면\n",
    "    print (\"3의 배수가 아닌 홀수입니다\")"
   ]
  },
  {
   "cell_type": "code",
   "execution_count": 7,
   "id": "132f05bc",
   "metadata": {},
   "outputs": [
    {
     "name": "stdout",
     "output_type": "stream",
     "text": [
      "숫자를 입력하셔요?11\n",
      "3의 배수가 아닌 홀수입니다\n"
     ]
    }
   ],
   "source": [
    "x=int(input(\"숫자를 입력하셔요?\"))\n",
    "if x % 2 == 0 : #맨 먼저 x값이 2로 나누어 떨어지는 값인지 확인을 한다.\n",
    "    if x%4==0: #만약 2로 나누어 떨어진다면 다시 4로 나누어 떨어지는지 확인한다.\n",
    "        print(\"4의 배수인 짝수입니다(당연히 짝수)\")\n",
    "    else: #4로 나누어 떨어지지 않는다면 아래 실행문을 실행한다.\n",
    "        print(\"4의 배수가 아닌 짝수입니다\");\n",
    "elif x%3==0:  #파이썬에서는 else if를 간단히 elif라고 한다. 3으로 나누어 떨어지는지\n",
    "    print(\"3의 배수인 홀수 입니다\")\n",
    "else:  #3으로 나누어 떨어지는게 아니면\n",
    "    print (\"3의 배수가 아닌 홀수입니다\")"
   ]
  },
  {
   "cell_type": "code",
   "execution_count": 58,
   "id": "8ad8baf3",
   "metadata": {},
   "outputs": [
    {
     "name": "stdout",
     "output_type": "stream",
     "text": [
      "*****************************************\n",
      "총금액:  1000000   달러환율:  1010.12 $\n",
      "지급달러:  988 $\n",
      "거스름돈:  5    은행수수료:  1996\n",
      "*****************************************\n"
     ]
    }
   ],
   "source": [
    "myWon = 1000000 #한국돈\n",
    "usdRate = 1010.12 #환율 설정\n",
    "fee = 0.002 #수수료율 설정\n",
    "usd = int(myWon/(usdRate*(1+fee))) #지급달러는 한국돈을 환율로 나누고(고객이 받는 수수료포함 달러)\n",
    "#수수료 포함 달러에서(=1+fee) 곱하기 (1+fee)분의 1을 해주면 지급 달러가 산정된다.  \n",
    "commission = (usd * usdRate) * fee #수수료는 총 달러 금액 * 수수료율\n",
    "\n",
    "if commission%1 != 0 : #만약 수수료에 소수자리가 있으면 소수점을 버리고 1원을 더 받는다.\n",
    "    commission = int(commission) + 1\n",
    "\n",
    "change = int(myWon - ((usd*usdRate)+commission)) #거스름돈은 총달러금액을 한화로, 여기에 수수료를\n",
    "#더한 금액을 내 한화에서 뺀 값. 소수점이 붙으면 거스름돈은 적게 주는게 이득이니 버림처리.\n",
    "\n",
    "print(\"*****************************************\")\n",
    "print(\"총금액: \" , myWon, \"  달러환율: \", usdRate, \"$\")\n",
    "\n",
    "print(\"지급달러: \", usd, \"$\")\n",
    "print(\"거스름돈: \" , change, \"   은행수수료: \" , commission)\n",
    "print(\"*****************************************\")\n"
   ]
  }
 ],
 "metadata": {
  "kernelspec": {
   "display_name": "Python 3 (ipykernel)",
   "language": "python",
   "name": "python3"
  },
  "language_info": {
   "codemirror_mode": {
    "name": "ipython",
    "version": 3
   },
   "file_extension": ".py",
   "mimetype": "text/x-python",
   "name": "python",
   "nbconvert_exporter": "python",
   "pygments_lexer": "ipython3",
   "version": "3.8.8rc1"
  }
 },
 "nbformat": 4,
 "nbformat_minor": 5
}
