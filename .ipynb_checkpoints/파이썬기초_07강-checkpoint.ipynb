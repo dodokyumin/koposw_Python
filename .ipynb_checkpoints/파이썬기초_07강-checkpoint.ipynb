{
 "cells": [
  {
   "cell_type": "code",
   "execution_count": 1,
   "id": "938e0ae2",
   "metadata": {},
   "outputs": [
    {
     "name": "stdout",
     "output_type": "stream",
     "text": [
      "별10개 찍기\n",
      "**********\n",
      "\n",
      "별3개 찍기\n",
      "***\n",
      "\n",
      "별5개 찍기\n",
      "*****\n",
      "\n"
     ]
    }
   ],
   "source": [
    "print(\"별10개 찍기\") #별 몇개 찍을건지\n",
    "for i in range(10): #그럼 10개 0~9번 총 10번\n",
    "    print(\"*\",end=\"\") #출력\n",
    "print(\"\\n\") #줄바꿈\n",
    "\n",
    "print(\"별3개 찍기\")\n",
    "for i in range(3):\n",
    "    print(\"*\",end=\"\")\n",
    "print(\"\\n\")\n",
    "\n",
    "print(\"별5개 찍기\")\n",
    "for i in range(5):\n",
    "    print(\"*\",end=\"\")\n",
    "print(\"\\n\") "
   ]
  },
  {
   "cell_type": "code",
   "execution_count": 2,
   "id": "43d784ef",
   "metadata": {},
   "outputs": [
    {
     "name": "stdout",
     "output_type": "stream",
     "text": [
      "별10개 찍기\n",
      "**********\n",
      "\n",
      "별3개 찍기\n",
      "***\n",
      "\n",
      "별5개 찍기\n",
      "*****\n",
      "\n"
     ]
    }
   ],
   "source": [
    "def starprint(n): #파이썬에서는 def가 function이구나! 인자n을 받는 starprint. range에 n을 전달\n",
    "    for i in range(n):\n",
    "        print(\"*\",end=\"\")\n",
    "    print(\"\\n\")\n",
    "    \n",
    "print(\"별10개 찍기\");starprint(10)\n",
    "print(\"별3개 찍기\");starprint(3)\n",
    "print(\"별5개 찍기\");starprint(5)\n"
   ]
  },
  {
   "cell_type": "code",
   "execution_count": 3,
   "id": "1648a46c",
   "metadata": {},
   "outputs": [
    {
     "name": "stdout",
     "output_type": "stream",
     "text": [
      "1~10까지의 합: 55\n",
      "1~1000까지의 합: 500500\n",
      "1~10000까지의 합: 50005000\n"
     ]
    }
   ],
   "source": [
    "def intsum(n): #intsum함수는 n을 인자로 받는다,\n",
    "    sum=0; #값을 더해줄 sum변수 초기화 및 0으로 설정.\n",
    "    for i in range(1,n+1,1): #변수 i는 1부터 n+1(n)까지 돌면서 1씩증가한다.\n",
    "        sum+=i #각 회차마다 i를 sum에 누적한다.\n",
    "    return sum\n",
    "print(\"1~10까지의 합:\",intsum(10))\n",
    "print(\"1~1000까지의 합:\",intsum(1000))\n",
    "print(\"1~10000까지의 합:\",intsum(10000))"
   ]
  },
  {
   "cell_type": "code",
   "execution_count": 4,
   "id": "7abd5d6d",
   "metadata": {},
   "outputs": [
    {
     "name": "stdout",
     "output_type": "stream",
     "text": [
      "1~10까지의 합: 55\n",
      "100~1000까지의 합: 495550\n",
      "5000~10000까지의 합: 37507500\n"
     ]
    }
   ],
   "source": [
    "def intsum(x,y): #인자를 두개 받도록 해서(근데 인자의 자료형은 설정하지 않아도 된다!!)\n",
    "    sum=0; #값을 더해줄 sum변수 초기화 및 0으로 설정.\n",
    "    for i in range(x,y+1,1): #범위는 시작값x부터 종료값y까지 1씩 i가 증가한다.\n",
    "        sum+=i#각 회차마다 i를 sum에 누적한다.\n",
    "    return sum\n",
    "print(\"1~10까지의 합:\",intsum(1,10))\n",
    "print(\"100~1000까지의 합:\",intsum(100,1000))\n",
    "print(\"5000~10000까지의 합:\",intsum(5000,10000))"
   ]
  },
  {
   "cell_type": "code",
   "execution_count": 5,
   "id": "f5532f53",
   "metadata": {},
   "outputs": [
    {
     "name": "stdout",
     "output_type": "stream",
     "text": [
      "1~10까지의 합에 5를 더함: 60\n",
      "100~1000까지의 합에 33을 곱함: 16353150\n"
     ]
    }
   ],
   "source": [
    "def intsum(x,y): #인자를 두개 받도록\n",
    "    sum=0; #값을 더해줄 sum변수 초기화 및 0으로 설정.\n",
    "    for i in range(x,y+1,1): #범위는 시작값x부터 종료값y까지 1씩 i가 증가한다.\n",
    "        sum+=i #각 회차마다 i를 sum에 누적한다.\n",
    "    return sum #구한 sum값을 리턴한다.\n",
    "\n",
    "print(\"1~10까지의 합에 5를 더함:\",intsum(1,10)+5) #최종값에 5를 더해준다.\n",
    "i=intsum(100,1000)*33 #함수로 구한 최종값에 33을 곱함\n",
    "print(\"100~1000까지의 합에 33을 곱함:\",i)\n"
   ]
  },
  {
   "cell_type": "code",
   "execution_count": 7,
   "id": "6ac6570e",
   "metadata": {},
   "outputs": [
    {
     "name": "stdout",
     "output_type": "stream",
     "text": [
      "함수내부에서 sum값을 출력: 495550\n",
      "100~1000까지의 합: None\n",
      "100~1000까지의 합에 33을 곱함: None\n"
     ]
    }
   ],
   "source": [
    "def intsum(x,y): #인자를 두개 받도록\n",
    "    sum=0;  #값을 더해줄 sum변수 초기화 및 0으로 설정.\n",
    "    for i in range(x,y+1,1):  #범위는 시작값x부터 종료값y까지 1씩 i가 증가한다.\n",
    "        sum+=i  #각 회차마다 i를 sum에 누적한다.\n",
    "    print(\"함수내부에서 sum값을 출력:\",sum) #리턴값 없이 그냥 안에서 출력 마치 java의 void형 함수\n",
    "    \n",
    "i=intsum(100,1000)\n",
    "print(\"100~1000까지의 합:\",i)\n",
    "print(\"100~1000까지의 합에 33을 곱함:\",i)"
   ]
  },
  {
   "cell_type": "code",
   "execution_count": 33,
   "id": "deb9960a",
   "metadata": {},
   "outputs": [],
   "source": [
    "def titleprint(): \n",
    "    pass #함수를 먼저 만들기 전에 선언해놓고 pass를 먹여놓고 데이터를 먼저 정의하는 방법\n",
    "\n",
    "def itemprint(name,kor,eng,mat):\n",
    "    pass #pass함수는 아무런 처리가 없는 명령\n",
    "\n",
    "def tailprint(): \n",
    "    pass\n",
    "\n",
    "#데이터 설정하기\n",
    "cname=[\"나연\",\"정연\",\"모모\",\"사나\",\"지효\",\"미나\",\"다현\",\"채영\",\"쯔위\"]\n",
    "ckor =[ 100,100,90,90,100,80,70,80,100]\n",
    "ceng =[ 90,100,100,80,100,70,60,100,100]\n",
    "cmat =[ 100,80,100,90,100,90,100,90,100]\n",
    "\n",
    "#여기부터 메인함수\n",
    "titleprint()\n",
    "for i in range(9):\n",
    "    itemprint(cname[i],ckor[i],ceng[i],cmat[i])\n",
    "tailprint() \n"
   ]
  },
  {
   "cell_type": "code",
   "execution_count": 31,
   "id": "6765f09d",
   "metadata": {},
   "outputs": [
    {
     "name": "stdout",
     "output_type": "stream",
     "text": [
      "==================================================\n",
      "이름\t국어\t영어\t수학\t총점\t평균\n",
      "==================================================\n",
      "나연 \t 100 \t 90 \t 100 \t 290 \t 96\n",
      "정연 \t 100 \t 100 \t 80 \t 280 \t 93\n",
      "모모 \t 90 \t 100 \t 100 \t 290 \t 96\n",
      "사나 \t 90 \t 80 \t 90 \t 260 \t 86\n",
      "지효 \t 100 \t 100 \t 100 \t 300 \t 100\n",
      "미나 \t 80 \t 70 \t 90 \t 240 \t 80\n",
      "다현 \t 70 \t 60 \t 100 \t 230 \t 76\n",
      "채영 \t 80 \t 100 \t 90 \t 270 \t 90\n",
      "쯔위 \t 100 \t 100 \t 100 \t 300 \t 100\n",
      "==================================================\n",
      "반총점\t 810 \t 800 \t 850 \t 273 \t 91.0\n",
      "==================================================\n"
     ]
    }
   ],
   "source": [
    "def titleprint(): #pass였던 함수를 채워넣는다\n",
    "    print(\"=\"*50) #첫라인 줄 긋기\n",
    "    print(\"이름\\t국어\\t영어\\t수학\\t총점\\t평균\") #첫 둘째 라인의 항목 이름 나열하기\n",
    "    print(\"=\"*50) #줄 긋기\n",
    "\n",
    "def itemprint(name,kor,eng,mat): #4가지 인수를 받는 함수. 자료형은 설정하지 않다도 된다.\n",
    "    print(name,\"\\t\",kor,\"\\t\",eng,\"\\t\",mat,\"\\t\",kor+eng+mat,\"\\t\",(kor+eng+mat)//3)\n",
    "\n",
    "def tailprint(): #마지막 라인 반 총점을 구하는 함수\n",
    "    totkor=0 #반 총점을 0으로 초기화해놓기 \n",
    "    for i in ckor: #컬렉션 kor을 순서대로 도는 변수 i값.\n",
    "        totkor+=i #+1해주며 누적하기 때문에 컬렉션을 훑는다.\n",
    "    toteng=0\n",
    "    for i in ceng: #kor과 동일\n",
    "        toteng+=i\n",
    "    totmat=0\n",
    "    for i in cmat: #kor과 동일\n",
    "        totmat+=i\n",
    "    print(\"=\"*50) \n",
    "    print(\"반총점\\t\",totkor,\"\\t\",toteng,\"\\t\",totmat,\"\\t\",(totkor+toteng+totmat)//9,\"\\t\",(totkor+toteng+totmat)/3//9)\n",
    "    #반총점을 구하는 것. 해당 인덱스의 라인들을 모두 더하고, //는 실수형 자료형의 몫\n",
    "    print(\"=\"*50)\n",
    "\n",
    "#데이터 설정하기\n",
    "cname=[\"나연\",\"정연\",\"모모\",\"사나\",\"지효\",\"미나\",\"다현\",\"채영\",\"쯔위\"]\n",
    "ckor =[ 100,100,90,90,100,80,70,80,100]\n",
    "ceng =[ 90,100,100,80,100,70,60,100,100]\n",
    "cmat =[ 100,80,100,90,100,90,100,90,100]\n",
    "\n",
    "#여기부터 메인함수\n",
    "titleprint()\n",
    "for i in range(9):\n",
    "    itemprint(cname[i],ckor[i],ceng[i],cmat[i]) #아이템프린트 함수에 각 컬렉션 인덱스를 차례로 대입\n",
    "tailprint() \n"
   ]
  },
  {
   "cell_type": "code",
   "execution_count": 35,
   "id": "f7f358b8",
   "metadata": {},
   "outputs": [
    {
     "name": "stdout",
     "output_type": "stream",
     "text": [
      "case 1: 1\n",
      "case 2: 7\n",
      "case 3: 9505\n"
     ]
    }
   ],
   "source": [
    "def sumsum(*num): #sumsum함수에 인자를 한개 또는 여러개들을 보낼 때 인자 앞에 *를 붙인다!!\n",
    "    sum=0 #sum합계 변수를 0으로 설정해놓고\n",
    "    for i in num: #범위 없으면 그냥 i에 num을 대입한다.\n",
    "        sum+=i #받은 모든 인자들을 누적 더하기\n",
    "    return sum\n",
    "\n",
    "print(\"case 1:\", sumsum(1))\n",
    "print(\"case 2:\", sumsum(1,2,4))\n",
    "print(\"case 3:\", sumsum(1,2,34,567,8901))"
   ]
  },
  {
   "cell_type": "code",
   "execution_count": 36,
   "id": "dcf395a1",
   "metadata": {},
   "outputs": [
    {
     "name": "stdout",
     "output_type": "stream",
     "text": [
      "case 1: 55\n",
      "case 2: 3825\n",
      "case 3: 495550\n"
     ]
    }
   ],
   "source": [
    "def defaultest (start,end=1000,step=1): #인자에 디폴트 값을 정의하면 해당 인자를 받지 않을 경우\n",
    "    #설정해 놓은 디폴트 값이 적용되어 함수를 실행한다.\n",
    "    \n",
    "    sum=0\n",
    "    for i in range(start,end+1,step):\n",
    "        sum+=i\n",
    "    return sum\n",
    "\n",
    "print(\"case 1:\", defaultest(0,10,1)) #시작값0, 종료값10, 증가율1 : 55출력\n",
    "\n",
    "print(\"case 2:\", defaultest(50,100)) #시작값50, 종료값100, 증가율1 : 3825출력\n",
    "\n",
    "print(\"case 3:\", defaultest(100)) #시작값100, 종료값1000, 증가율1 : 495550출력"
   ]
  },
  {
   "cell_type": "code",
   "execution_count": 37,
   "id": "01adaf0f",
   "metadata": {},
   "outputs": [
    {
     "name": "stdout",
     "output_type": "stream",
     "text": [
      "case 1: 55\n",
      "case 2: 55\n",
      "case 3: 55\n",
      "case 4: 55\n",
      "case 5: 55\n"
     ]
    }
   ],
   "source": [
    "def defaultest (start,end=1000,step=1):\n",
    "    sum=0\n",
    "    for i in range(start,end+1,step):\n",
    "        sum+=i\n",
    "    return sum\n",
    "\n",
    "print(\"case 1:\", defaultest(0,10,1))\n",
    "print(\"case 2:\", defaultest(start=0,end=10,step=1)) #인자 키워드를 직접 지정해주면 순서에 상관이X\n",
    "print(\"case 3:\", defaultest(step=1,end=10,start=0))\n",
    "print(\"case 4:\", defaultest(0,10,step=1)) #정해지지 않은 인자 키워드는 그대로 인자에 순서대로 드감\n",
    "print(\"case 5:\", defaultest(0,step=1,end=10))"
   ]
  },
  {
   "cell_type": "code",
   "execution_count": 40,
   "id": "fa7a72fb",
   "metadata": {},
   "outputs": [
    {
     "name": "stdout",
     "output_type": "stream",
     "text": [
      "case 1: 55\n",
      "case 2: 5005\n"
     ]
    }
   ],
   "source": [
    "def testfunc (**args): #키워드를 가변으로 받는다면 앞에 별 두개를 추가한다.\n",
    "    start=args[\"start\"] #인자로 받은 스트링을 arg[](인자)컬렉션에 담아서 밑 코드들에 적용할 인자들\n",
    "    #start, end, step에 넣어준다.\n",
    "    end=args[\"end\"] #키워드 \"end\"의 값을 받아 함수에 사용할 end에 넣어준다,\n",
    "    step=args[\"step\"] \n",
    "    sum=0\n",
    "    for i in range(start,end+1,step):\n",
    "        sum+=i\n",
    "    return sum\n",
    "\n",
    "print(\"case 1:\", testfunc(start=0,end=10,step=1)) #키워드 인수들과 그 값을 지정해서 함수로 보냄\n",
    "print(\"case 2:\", testfunc(end=100,step=1,start=10)) #물론 키워드가 정해졌기 때문에 순서 노상관"
   ]
  },
  {
   "cell_type": "code",
   "execution_count": 41,
   "id": "edf07249",
   "metadata": {},
   "outputs": [
    {
     "name": "stdout",
     "output_type": "stream",
     "text": [
      "==============================\n",
      "***********\n",
      "\n",
      "&&&&&&&&&&&\n",
      "\n",
      "===========\n",
      "\n",
      "==============================\n",
      "   ********\n",
      "\n",
      "   ????????\n",
      "\n",
      "   ========\n",
      "\n",
      "   %%%%%%%%\n",
      "\n"
     ]
    }
   ],
   "source": [
    "def testfunc (*s,**args): #가변, 키워드 가변을 섞어 쓰는 것도 가능하다.\n",
    "    start=args[\"start\"]  #가변 키워드들은 해당 키워드의 값을 인자들에게 담아주고,\n",
    "    end=args[\"end\"] \n",
    "    step=args[\"step\"] \n",
    "    for c in s: #string으로 받은 인자들은 가변 인자이므로 앞에 얼마든지 추가해도 됨.\n",
    "        print(\" \"*start,end=\"\")\n",
    "        for i in range(start,end+1,step):\n",
    "            print(c,end=\"\")\n",
    "        print(\"\\n\")\n",
    "        \n",
    "print(\"=\"*30)\n",
    "testfunc(\"*\",\"&\",\"=\",start=0,end=10,step=1)\n",
    "print(\"=\"*30)\n",
    "testfunc(\"*\",\"?\",\"=\",\"%\",start=3,end=10,step=1)\n"
   ]
  },
  {
   "cell_type": "code",
   "execution_count": 42,
   "id": "fcbbfb36",
   "metadata": {},
   "outputs": [
    {
     "ename": "NameError",
     "evalue": "name 'a' is not defined",
     "output_type": "error",
     "traceback": [
      "\u001b[1;31m---------------------------------------------------------------------------\u001b[0m",
      "\u001b[1;31mNameError\u001b[0m                                 Traceback (most recent call last)",
      "Input \u001b[1;32mIn [42]\u001b[0m, in \u001b[0;36m<cell line: 4>\u001b[1;34m()\u001b[0m\n\u001b[0;32m      2\u001b[0m     a\u001b[38;5;241m=\u001b[39m\u001b[38;5;241m1\u001b[39m\n\u001b[0;32m      3\u001b[0m test()\n\u001b[1;32m----> 4\u001b[0m \u001b[38;5;28mprint\u001b[39m(\u001b[43ma\u001b[49m)\n",
      "\u001b[1;31mNameError\u001b[0m: name 'a' is not defined"
     ]
    }
   ],
   "source": [
    "def test():\n",
    "    a=1\n",
    "test()\n",
    "print(a)\n",
    "#NameError: name 'a' is not defined 즉, 함수 안에서 정의된 변수는 지역변수 이므로 밖에서 영향X"
   ]
  },
  {
   "cell_type": "code",
   "execution_count": 43,
   "id": "851fee7e",
   "metadata": {},
   "outputs": [
    {
     "name": "stdout",
     "output_type": "stream",
     "text": [
      "testf1: 1\n",
      "testf2: 즐거운 실습\n",
      "testf3: 3.141592\n",
      "랄랄라\n"
     ]
    }
   ],
   "source": [
    "def testf1():\n",
    "    a=1\n",
    "    print(\"testf1:\",a) #각 함수 안의 변수들은 지역변수이므로 서로가 서로에게 영향 끼치지 않는 별개\n",
    "def testf2():\n",
    "    a=\"즐거운 실습\"\n",
    "    print(\"testf2:\",a)\n",
    "def testf3():\n",
    "    a=3.141592\n",
    "    print(\"testf3:\",a)\n",
    "    \n",
    "testf1()\n",
    "testf2()\n",
    "testf3()\n",
    "a=\"랄랄라\"\n",
    "print(a)\n"
   ]
  },
  {
   "cell_type": "code",
   "execution_count": 44,
   "id": "a6234f1b",
   "metadata": {},
   "outputs": [
    {
     "name": "stdout",
     "output_type": "stream",
     "text": [
      "testf1: 현재 달러환율은 1달러당  1021 원이며\n",
      "testf1: 미화 100달러는  102100 원 입니다\n",
      "testf1: 현재 달러환율은 1달러당  1120 원이며\n",
      "testf1: 미화 100달러는  112000 원 입니다\n",
      "testf2: 현재 달러환율은 1달러당  1011 원이며\n",
      "testf2: 미화 100달러는  101100 원 입니다\n",
      "testf1: 현재 달러환율은 1달러당  1120 원이며\n",
      "testf1: 미화 100달러는  112000 원 입니다\n"
     ]
    }
   ],
   "source": [
    "def testf1():\n",
    "    print(\"testf1: 현재 달러환율은 1달러당 \",exrate,\"원이며\")\n",
    "    print(\"testf1: 미화 100달러는 \",100*exrate,\"원 입니다\")\n",
    "def testf2():\n",
    "    exrate=1011 #함수 안에서 exrate를 적용하므로 밑 코드들의 exrate값은 1011이다.\n",
    "    print(\"testf2: 현재 달러환율은 1달러당 \",exrate,\"원이며\")\n",
    "    print(\"testf2: 미화 100달러는 \",100*exrate,\"원 입니다\")\n",
    "    \n",
    "exrate=1021 #exrate변수는 함수 밖의 전역변수이다. 그래서 따로 extrate의 정의가 없는 test1함수\n",
    "#에서는 해당 전역 변수의 값을 그대로 받아서 실행된다.\n",
    "testf1() #여기서 exrate의 값은 1021\n",
    "exrate=1120\n",
    "testf1() #여기서 exrate의 값은 1120\n",
    "\n",
    "testf2() #testf2함수안에 extrate를 정의하므로 지역변수가 적용됨. 여기서 exrate의 값은 1011\n",
    "testf1() #여기서 exrate의 값은 1021"
   ]
  },
  {
   "cell_type": "code",
   "execution_count": 50,
   "id": "2889f7b4",
   "metadata": {},
   "outputs": [
    {
     "name": "stdout",
     "output_type": "stream",
     "text": [
      "Help on function testf1 in module __main__:\n",
      "\n",
      "testf1()\n",
      "    이 함수는 홍필두가 최선을 다하여 멋지게 만든 함수\n",
      "    인수 값에 숫자만큼 1부터 해당 값을 더한 값을 출력해 준다\n",
      "\n"
     ]
    }
   ],
   "source": [
    "def testf1():\n",
    "    \"\"\" \n",
    "    이 함수는 홍필두가 최선을 다하여 멋지게 만든 함수\n",
    "    인수 값에 숫자만큼 1부터 해당 값을 더한 값을 출력해 준다\n",
    "\"\"\"#독스트링의 앞 3따옴표의 앞에는 탭을 넣어줘야한다.\n",
    "    \n",
    "    sum=0\n",
    "    for i in range(n+1):\n",
    "        sum+=i\n",
    "    print(\"합:\",sum)\n",
    "    \n",
    "#해당 docstring은 help(함수명)으로 쉽게 읽을 수 있다.\n",
    "help(testf1)"
   ]
  },
  {
   "cell_type": "code",
   "execution_count": null,
   "id": "538ae1a7",
   "metadata": {},
   "outputs": [],
   "source": []
  }
 ],
 "metadata": {
  "kernelspec": {
   "display_name": "Python 3 (ipykernel)",
   "language": "python",
   "name": "python3"
  },
  "language_info": {
   "codemirror_mode": {
    "name": "ipython",
    "version": 3
   },
   "file_extension": ".py",
   "mimetype": "text/x-python",
   "name": "python",
   "nbconvert_exporter": "python",
   "pygments_lexer": "ipython3",
   "version": "3.8.8rc1"
  }
 },
 "nbformat": 4,
 "nbformat_minor": 5
}
