{
 "cells": [
  {
   "cell_type": "code",
   "execution_count": 6,
   "id": "ad3050f0",
   "metadata": {
    "scrolled": false
   },
   "outputs": [
    {
     "data": {
      "text/plain": [
       "3"
      ]
     },
     "execution_count": 6,
     "metadata": {},
     "output_type": "execute_result"
    }
   ],
   "source": [
    "1 + 2"
   ]
  },
  {
   "cell_type": "code",
   "execution_count": 28,
   "id": "93ee5e5d",
   "metadata": {
    "scrolled": false
   },
   "outputs": [
    {
     "ename": "IndentationError",
     "evalue": "unexpected indent (2123371967.py, line 2)",
     "output_type": "error",
     "traceback": [
      "\u001b[1;36m  Input \u001b[1;32mIn [28]\u001b[1;36m\u001b[0m\n\u001b[1;33m    1+2\u001b[0m\n\u001b[1;37m    ^\u001b[0m\n\u001b[1;31mIndentationError\u001b[0m\u001b[1;31m:\u001b[0m unexpected indent\n"
     ]
    }
   ],
   "source": [
    "#앞에 그냥 스페이스바만 하면 실행 되길래 주석을 첫칸으로 하고 밑으로 들여쓰고 첫칸을 비우니 에러가 떴다.\n",
    " 1+2"
   ]
  },
  {
   "cell_type": "code",
   "execution_count": 35,
   "id": "cfa2ebd7",
   "metadata": {
    "scrolled": true
   },
   "outputs": [
    {
     "name": "stdout",
     "output_type": "stream",
     "text": [
      "스위치 on\n"
     ]
    }
   ],
   "source": [
    "sw = 1  #여기서 변수 sw를 선언해주지 않으면 밑에서 sw는 선언되지 않았다는 에러가 뜬다.\n",
    "if sw == 1:  #블록의 시작은 자바에선 중괄호{}, 파이썬에서는 그냥 들여쓰기만 하면 된다.\n",
    "    print(\"스위치 on\")  #sw가 1일 때 실행할 실행문\n",
    "else:\n",
    "    print(\"스위치 off\")  #sw가 1이 아닐 때 실행할 실행문"
   ]
  },
  {
   "cell_type": "code",
   "execution_count": 58,
   "id": "ebe86d39",
   "metadata": {
    "scrolled": true
   },
   "outputs": [
    {
     "data": {
      "text/plain": [
       "12"
      ]
     },
     "execution_count": 58,
     "metadata": {},
     "output_type": "execute_result"
    }
   ],
   "source": [
    "1+2;3+4;5+ 7  #여기서는 앞 1+2 와 3+4를 연산만 하고 넘어가는 듯하다."
   ]
  },
  {
   "cell_type": "code",
   "execution_count": 61,
   "id": "212f9b46",
   "metadata": {},
   "outputs": [
    {
     "name": "stdout",
     "output_type": "stream",
     "text": [
      "3\n",
      "7\n",
      "12\n"
     ]
    }
   ],
   "source": [
    "print(1+2);print(3+4);print(5+ 7) #이렇게 해야 실습ppt처럼 출력이 된다. 여러 명령어를 사용할 때 세미콜론."
   ]
  },
  {
   "cell_type": "code",
   "execution_count": 57,
   "id": "eb49b001",
   "metadata": {},
   "outputs": [
    {
     "data": {
      "text/plain": [
       "12"
      ]
     },
     "execution_count": 57,
     "metadata": {},
     "output_type": "execute_result"
    }
   ],
   "source": []
  },
  {
   "cell_type": "code",
   "execution_count": 62,
   "id": "4283e6b4",
   "metadata": {},
   "outputs": [
    {
     "name": "stdout",
     "output_type": "stream",
     "text": [
      "3\n"
     ]
    }
   ],
   "source": [
    "print(1+2)"
   ]
  },
  {
   "cell_type": "code",
   "execution_count": 63,
   "id": "a985fbad",
   "metadata": {},
   "outputs": [
    {
     "ename": "NameError",
     "evalue": "name 'Print' is not defined",
     "output_type": "error",
     "traceback": [
      "\u001b[1;31m---------------------------------------------------------------------------\u001b[0m",
      "\u001b[1;31mNameError\u001b[0m                                 Traceback (most recent call last)",
      "Input \u001b[1;32mIn [63]\u001b[0m, in \u001b[0;36m<cell line: 1>\u001b[1;34m()\u001b[0m\n\u001b[1;32m----> 1\u001b[0m \u001b[43mPrint\u001b[49m(\u001b[38;5;241m1\u001b[39m\u001b[38;5;241m+\u001b[39m\u001b[38;5;241m2\u001b[39m)\n",
      "\u001b[1;31mNameError\u001b[0m: name 'Print' is not defined"
     ]
    }
   ],
   "source": [
    "Print(1+2)  #메소드는 대소문자를 구분한다. 실수하지 않도록 주의하자"
   ]
  },
  {
   "cell_type": "code",
   "execution_count": 64,
   "id": "fdcd4896",
   "metadata": {
    "scrolled": true
   },
   "outputs": [
    {
     "ename": "NameError",
     "evalue": "name 'PRINT' is not defined",
     "output_type": "error",
     "traceback": [
      "\u001b[1;31m---------------------------------------------------------------------------\u001b[0m",
      "\u001b[1;31mNameError\u001b[0m                                 Traceback (most recent call last)",
      "Input \u001b[1;32mIn [64]\u001b[0m, in \u001b[0;36m<cell line: 1>\u001b[1;34m()\u001b[0m\n\u001b[1;32m----> 1\u001b[0m \u001b[43mPRINT\u001b[49m(\u001b[38;5;241m1\u001b[39m\u001b[38;5;241m+\u001b[39m\u001b[38;5;241m2\u001b[39m)\n",
      "\u001b[1;31mNameError\u001b[0m: name 'PRINT' is not defined"
     ]
    }
   ],
   "source": [
    "PRINT(1+2)  #모두 대문자여서 에러코드가 난 모습"
   ]
  },
  {
   "cell_type": "code",
   "execution_count": 65,
   "id": "f0d0c35e",
   "metadata": {},
   "outputs": [
    {
     "data": {
      "text/plain": [
       "3"
      ]
     },
     "execution_count": 65,
     "metadata": {},
     "output_type": "execute_result"
    }
   ],
   "source": [
    "abc=1  #변수 abc는 1이라 설정\n",
    "1+2  #대화형에서는 print 문장이 없어도 출력한다."
   ]
  },
  {
   "cell_type": "code",
   "execution_count": 66,
   "id": "5df664ae",
   "metadata": {},
   "outputs": [
    {
     "data": {
      "text/plain": [
       "1"
      ]
     },
     "execution_count": 66,
     "metadata": {},
     "output_type": "execute_result"
    }
   ],
   "source": [
    "abc  #abc는 1이라고 선언을 했으므로 abc만 입력해도 해당 값 1이 출력된다."
   ]
  },
  {
   "cell_type": "code",
   "execution_count": 67,
   "id": "49842176",
   "metadata": {},
   "outputs": [
    {
     "name": "stdout",
     "output_type": "stream",
     "text": [
      "1\n"
     ]
    }
   ],
   "source": [
    "print(abc) #print로 직접 abc를 출력해도 값은 같다."
   ]
  },
  {
   "cell_type": "code",
   "execution_count": 68,
   "id": "4e8a8c3c",
   "metadata": {},
   "outputs": [
    {
     "name": "stdout",
     "output_type": "stream",
     "text": [
      "3\n"
     ]
    }
   ],
   "source": [
    "print(1+2) #1+2를 print하면 값은 3이니 3출력."
   ]
  },
  {
   "cell_type": "code",
   "execution_count": 74,
   "id": "ae00231d",
   "metadata": {},
   "outputs": [
    {
     "name": "stdout",
     "output_type": "stream",
     "text": [
      "3\n",
      "3\n"
     ]
    }
   ],
   "source": [
    "a=1\n",
    "b=2\n",
    "a+b #대화형에서는 a+b가 3으로 결과 출력이 되는데 스크립트 형식에서는 print문장 없이는 출력이 되지 않는다.\n",
    "print (a+b) #\n",
    "1+2 # 대화형에서는 이 문장이 실행되지 않고\n",
    "print (1+2) # 이 프린트 메소드가 포함된 문장만 출력되어 결과가 3두개 값이 나온다."
   ]
  },
  {
   "cell_type": "code",
   "execution_count": 75,
   "id": "aa318f92",
   "metadata": {},
   "outputs": [
    {
     "name": "stdout",
     "output_type": "stream",
     "text": [
      "아침 점심 저녁\n",
      "아침먹고 점심먹고 저녁\n",
      "아침먹고 점심먹고 저녁땡"
     ]
    }
   ],
   "source": [
    "a= \"아침\"\n",
    "b= \"점심\"\n",
    "c= \"저녁\"\n",
    "print(a,b,c) #a,b,c 는 a + b + c로 string을 연결\n",
    "print(a,b,c, sep=\"먹고 \") #sep변수에 바로 저장하면서 출력이 가능. sep변수는 다른 변수 중간중간에 낀다.마지막x\n",
    "print(a,b,c, sep=\"먹고 \" ,end =\"땡\")  #end 변수는 다른 출력값들 출력하고 마지막에 추가됨."
   ]
  },
  {
   "cell_type": "code",
   "execution_count": 76,
   "id": "d5a51fbb",
   "metadata": {},
   "outputs": [
    {
     "name": "stdout",
     "output_type": "stream",
     "text": [
      "아침 점심 저녁\n",
      "아침먹고 점심먹고 저녁\n",
      "아침먹고 점심먹고 저녁아침자고 점심자고 저녁아침먹고 점심먹고 저녁\n",
      "아침자고 점심자고 저녁\n"
     ]
    }
   ],
   "source": [
    "a= \"아침\"  #변수에 String담기. 이때 자바스크립트처럼 변수 자료형을 지정하지 않아도 된다.\n",
    "b= \"점심\"\n",
    "c= \"저녁\"\n",
    "print(a,b,c)\n",
    "print(a,b,c, sep=\"먹고 \") #sep = separate. 출력 요소 사이사이에 낀다.\n",
    "print(a,b,c, sep=\"먹고 \" ,end =\"\") #마지막 end는 기본값이 \\n 이여서 줄바꿈이 되지만 \"\"로 설정하면 줄바꿈 없음\n",
    "print(a,b,c, sep=\"자고 \" ,end =\"\") #sep을 \"자고 \"로 바꿔 사이사이 끼는 글자를 바꿈\n",
    "print(a,b,c, sep=\"먹고 \" ,end =\"\\n\") #end를 다시 \\n로 바꿔 줄바꿈을 해준다.\n",
    "print(a,b,c, sep=\"자고 \" ,end =\"\\n\") #sep을 \"자고 \"로 변환"
   ]
  },
  {
   "cell_type": "code",
   "execution_count": 77,
   "id": "d934e81c",
   "metadata": {},
   "outputs": [
    {
     "name": "stdout",
     "output_type": "stream",
     "text": [
      "22+33=55\n"
     ]
    }
   ],
   "source": [
    "a= 22\n",
    "b= 33\n",
    "print(a,b, sep=\"+\" ,end=\"=\") #그러면 sep에 사칙연산 기호를 넣고 마지막엔 =을 넣어서 출력을 간단히 가능!\n",
    "print(a+b) #위에선 프린트만 했으니 더한값 55는 직접 프린트해줬네!"
   ]
  },
  {
   "cell_type": "code",
   "execution_count": 78,
   "id": "7ea583b0",
   "metadata": {},
   "outputs": [
    {
     "name": "stdout",
     "output_type": "stream",
     "text": [
      "너는 이름이 뭐니?홍규민\n",
      "이름이  홍규민  입니다\n",
      "너는 몇 살이니?27\n",
      "나이가  27 살 입니다\n"
     ]
    }
   ],
   "source": [
    "a= input(\"너는 이름이 뭐니?\") #input메소드 안에 안내문String을 적고 해당 값을 인자로 받아 변수a에 저장하는 식\n",
    "print(\"이름이 \",a,\" 입니다\") #저장한 input값 a를 print메소드로 출력한다.\n",
    "b= input(\"너는 몇 살이니?\") #위와 같이 나이를 받는 안내문과 입력값을 받음. 이때 자료형 선언은 안해도 되네!\n",
    "print(\"나이가 \",b,\"살 입니다\") #저장한 input값 b 를 print로 출력."
   ]
  },
  {
   "cell_type": "code",
   "execution_count": 79,
   "id": "a852c85d",
   "metadata": {},
   "outputs": [
    {
     "name": "stdout",
     "output_type": "stream",
     "text": [
      "a값을 입력하셔요?1\n",
      "b값을 입력하셔요?2\n",
      "1+2=12\n",
      "수치 계산 : 1+2=3\n"
     ]
    }
   ],
   "source": [
    "a= input(\"a값을 입력하셔요?\")\n",
    "b= input(\"b값을 입력하셔요?\")\n",
    "print(a,b, sep=\"+\" ,end=\"=\") #입력받은 a와 b에 sep + 와 end = 를 사용하여 문자식 출력\n",
    "print(a+b) #아하! 이때 input으로 받은 값은 디폴트 자료형이 String이여서 1+2결과가 12가 되는구나!!\n",
    "print(\"수치 계산\", end =\" : \") #String말고 정수형으로 수치 계산을 하려면\n",
    "print(a,b, sep=\"+\" ,end=\"=\") #입력한 값 수식 표현.\n",
    "print(int(a)+int(b)) #결과는 각 String 1과 2를 int()로 감싸주기만 하면 타입캐스팅이 되어 정수형 계산이 되는군"
   ]
  },
  {
   "cell_type": "code",
   "execution_count": 82,
   "id": "e8d6f5ba",
   "metadata": {},
   "outputs": [
    {
     "name": "stdout",
     "output_type": "stream",
     "text": [
      "품목?초코파이\n",
      "수량?10\n",
      "단가?100\n",
      "초코파이  :  10 개 *  100 원 = 총  1000 원\n"
     ]
    }
   ],
   "source": [
    "a= input(\"품목?\") #input 메소드로 안내문 보여주면서 입력값을 a에 담는다. 자료형 선언이 없으면 기본 String\n",
    "b=int(input(\"수량?\")) #input 메소드의 값을 int()로 감싸주면서 input값을 애초에 int형으로 바꿔 b에 담았다.\n",
    "c=int(input(\"단가?\")) #c도 b와 마찬가지로 int형으로 저장\n",
    "print(a, \" : \",b,\"개 * \",c,\"원 = 총 \", b*c, \"원\") #b와c가 int형이므로 b*c는 1000이라는 값이 나왔다."
   ]
  },
  {
   "cell_type": "code",
   "execution_count": 83,
   "id": "c00febff",
   "metadata": {},
   "outputs": [],
   "source": [
    "a=1 #a라는 변수에 숫자 1을 담음"
   ]
  },
  {
   "cell_type": "code",
   "execution_count": 84,
   "id": "ddc5d25e",
   "metadata": {},
   "outputs": [
    {
     "name": "stdout",
     "output_type": "stream",
     "text": [
      "1\n"
     ]
    }
   ],
   "source": [
    "print(a) #a를 출력하면 담겨진 1을 아웃풋함."
   ]
  },
  {
   "cell_type": "code",
   "execution_count": 85,
   "id": "400f5011",
   "metadata": {},
   "outputs": [],
   "source": [
    "a=2 #a의 값을 2로 다시 담음. 기존의 1은 사라졌다."
   ]
  },
  {
   "cell_type": "code",
   "execution_count": 86,
   "id": "8c3ca17f",
   "metadata": {},
   "outputs": [
    {
     "name": "stdout",
     "output_type": "stream",
     "text": [
      "2\n"
     ]
    }
   ],
   "source": [
    "print(a) #그러므로 a를 프린트하면 2가 출력,"
   ]
  },
  {
   "cell_type": "code",
   "execution_count": 87,
   "id": "0fee9852",
   "metadata": {},
   "outputs": [],
   "source": [
    "b=3 #새로운 변수 b에 3을 넣어준다."
   ]
  },
  {
   "cell_type": "code",
   "execution_count": 88,
   "id": "a5dffd9d",
   "metadata": {},
   "outputs": [
    {
     "name": "stdout",
     "output_type": "stream",
     "text": [
      "3\n"
     ]
    }
   ],
   "source": [
    "print(b) #b를 프린트하면 저장되어있던 3이 나옴"
   ]
  },
  {
   "cell_type": "code",
   "execution_count": 89,
   "id": "db468d6c",
   "metadata": {},
   "outputs": [
    {
     "name": "stdout",
     "output_type": "stream",
     "text": [
      "2\n"
     ]
    }
   ],
   "source": [
    "print(a) #b에 상관없이 a에는 여전히 2가 저장되어 있으므로 출력값은 2"
   ]
  },
  {
   "cell_type": "code",
   "execution_count": 90,
   "id": "5b941577",
   "metadata": {},
   "outputs": [
    {
     "name": "stdout",
     "output_type": "stream",
     "text": [
      "1122\n"
     ]
    },
    {
     "data": {
      "text/plain": [
       "int"
      ]
     },
     "execution_count": 90,
     "metadata": {},
     "output_type": "execute_result"
    }
   ],
   "source": [
    "a=1122;print(a);type(a) #type메소드는 해당 파라미터의 자료형을 보여주는 메소드이다. 1122는 int형 자료형"
   ]
  },
  {
   "cell_type": "code",
   "execution_count": 91,
   "id": "d5b786dc",
   "metadata": {},
   "outputs": [
    {
     "name": "stdout",
     "output_type": "stream",
     "text": [
      "hello\n"
     ]
    },
    {
     "data": {
      "text/plain": [
       "str"
      ]
     },
     "execution_count": 91,
     "metadata": {},
     "output_type": "execute_result"
    }
   ],
   "source": [
    "b=\"hello\";print(b);type(b) #\"hello\"는 String이므로 type(b)의 출력값은 str이다."
   ]
  },
  {
   "cell_type": "code",
   "execution_count": 92,
   "id": "b88652e0",
   "metadata": {},
   "outputs": [],
   "source": [
    "b=12 #String \"hello\"였던 b의 값을 12로 재설정해준다."
   ]
  },
  {
   "cell_type": "code",
   "execution_count": 93,
   "id": "90a3b3f1",
   "metadata": {},
   "outputs": [
    {
     "data": {
      "text/plain": [
       "int"
      ]
     },
     "execution_count": 93,
     "metadata": {},
     "output_type": "execute_result"
    }
   ],
   "source": [
    "type(b) #12는 int형 자료형이므로 결과값은 int"
   ]
  },
  {
   "cell_type": "code",
   "execution_count": 94,
   "id": "276274bd",
   "metadata": {},
   "outputs": [
    {
     "name": "stdout",
     "output_type": "stream",
     "text": [
      "1122\n"
     ]
    },
    {
     "data": {
      "text/plain": [
       "int"
      ]
     },
     "execution_count": 94,
     "metadata": {},
     "output_type": "execute_result"
    }
   ],
   "source": [
    "a=1122;print(a);type(a) #변수 a에 정수 1122를 저장했다."
   ]
  },
  {
   "cell_type": "code",
   "execution_count": 95,
   "id": "ed40a811",
   "metadata": {},
   "outputs": [
    {
     "name": "stdout",
     "output_type": "stream",
     "text": [
      "11\n"
     ]
    }
   ],
   "source": [
    "a=11;print(a) #a의 기존의 값 1122말고 11로 재설정하고 출력. 아웃풋은 11."
   ]
  },
  {
   "cell_type": "code",
   "execution_count": 96,
   "id": "361b0d14",
   "metadata": {},
   "outputs": [],
   "source": [
    "del a #파이썬에서는 더이상 사용하지 않는 변수를 del x 로 삭제하여 메모리 공간을 절약할 수 있는 기능이 있다!"
   ]
  },
  {
   "cell_type": "code",
   "execution_count": 97,
   "id": "58ad447b",
   "metadata": {},
   "outputs": [
    {
     "ename": "NameError",
     "evalue": "name 'a' is not defined",
     "output_type": "error",
     "traceback": [
      "\u001b[1;31m---------------------------------------------------------------------------\u001b[0m",
      "\u001b[1;31mNameError\u001b[0m                                 Traceback (most recent call last)",
      "Input \u001b[1;32mIn [97]\u001b[0m, in \u001b[0;36m<cell line: 1>\u001b[1;34m()\u001b[0m\n\u001b[1;32m----> 1\u001b[0m \u001b[38;5;28mprint\u001b[39m(\u001b[43ma\u001b[49m)\n",
      "\u001b[1;31mNameError\u001b[0m: name 'a' is not defined"
     ]
    }
   ],
   "source": [
    "print(a) #96라인에서 del a 를 하여 변수 a를 지웠으므로 변수a는 없기 때문에 NameError가 떴다."
   ]
  },
  {
   "cell_type": "code",
   "execution_count": 98,
   "id": "b6914260",
   "metadata": {},
   "outputs": [
    {
     "name": "stdout",
     "output_type": "stream",
     "text": [
      "100000\n"
     ]
    }
   ],
   "source": [
    "net = 100 ; qty = 1000; total =net * qty ;print (total) #변수 명은 누가봐도 딱 알아볼 수 있게 설정한다"
   ]
  },
  {
   "cell_type": "code",
   "execution_count": 99,
   "id": "fb288dab",
   "metadata": {},
   "outputs": [
    {
     "name": "stdout",
     "output_type": "stream",
     "text": [
      "100000\n"
     ]
    }
   ],
   "source": [
    "단가=100; 수량 =1000; 총합= 단가 * 수량; print (총합) #관습적으로 한글 변수는 사용안한다."
   ]
  },
  {
   "cell_type": "code",
   "execution_count": null,
   "id": "a85a6323",
   "metadata": {},
   "outputs": [
    {
     "name": "stdout",
     "output_type": "stream",
     "text": [
      "\n",
      "Welcome to Python 3.8's help utility!\n",
      "\n",
      "If this is your first time using Python, you should definitely check out\n",
      "the tutorial on the Internet at https://docs.python.org/3.8/tutorial/.\n",
      "\n",
      "Enter the name of any module, keyword, or topic to get help on writing\n",
      "Python programs and using Python modules.  To quit this help utility and\n",
      "return to the interpreter, just type \"quit\".\n",
      "\n",
      "To get a list of available modules, keywords, symbols, or topics, type\n",
      "\"modules\", \"keywords\", \"symbols\", or \"topics\".  Each module also comes\n",
      "with a one-line summary of what it does; to list the modules whose name\n",
      "or summary contain a given string such as \"spam\", type \"modules spam\".\n",
      "\n",
      "help> keywords\n",
      "\n",
      "Here is a list of the Python keywords.  Enter any keyword to get more help.\n",
      "\n",
      "False               class               from                or\n",
      "None                continue            global              pass\n",
      "True                def                 if                  raise\n",
      "and                 del                 import              return\n",
      "as                  elif                in                  try\n",
      "assert              else                is                  while\n",
      "async               except              lambda              with\n",
      "await               finally             nonlocal            yield\n",
      "break               for                 not                 \n",
      "\n"
     ]
    }
   ],
   "source": [
    "help() #help 메소드는 도움말을 호출한다.예약어들 keywords을 확인해보자"
   ]
  },
  {
   "cell_type": "code",
   "execution_count": null,
   "id": "c00e2197",
   "metadata": {},
   "outputs": [],
   "source": []
  }
 ],
 "metadata": {
  "kernelspec": {
   "display_name": "Python 3 (ipykernel)",
   "language": "python",
   "name": "python3"
  },
  "language_info": {
   "codemirror_mode": {
    "name": "ipython",
    "version": 3
   },
   "file_extension": ".py",
   "mimetype": "text/x-python",
   "name": "python",
   "nbconvert_exporter": "python",
   "pygments_lexer": "ipython3",
   "version": "3.8.8rc1"
  }
 },
 "nbformat": 4,
 "nbformat_minor": 5
}
