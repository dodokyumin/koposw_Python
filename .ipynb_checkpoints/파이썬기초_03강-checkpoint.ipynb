{
 "cells": [
  {
   "cell_type": "code",
   "execution_count": 1,
   "id": "4f6cb780",
   "metadata": {},
   "outputs": [],
   "source": [
    "a =10 #저장하는 순간 a의 자료형이 정해짐. int형이다."
   ]
  },
  {
   "cell_type": "code",
   "execution_count": 2,
   "id": "0dcc0dab",
   "metadata": {},
   "outputs": [],
   "source": [
    "b=1200 #b에 값1200 저장"
   ]
  },
  {
   "cell_type": "code",
   "execution_count": 4,
   "id": "75227e26",
   "metadata": {},
   "outputs": [],
   "source": [
    "c=+1200   #양수는 +기호 생략가능."
   ]
  },
  {
   "cell_type": "code",
   "execution_count": 5,
   "id": "12d7b177",
   "metadata": {},
   "outputs": [],
   "source": [
    "d=-1234   #음수는 -를 붙인다."
   ]
  },
  {
   "cell_type": "code",
   "execution_count": 7,
   "id": "610caded",
   "metadata": {},
   "outputs": [
    {
     "name": "stdout",
     "output_type": "stream",
     "text": [
      "a= 10  b= 1200  c= 1200  d= -1234\n"
     ]
    }
   ],
   "source": [
    "print(\"a=\",a ,\" b=\",b ,\" c=\",c, \" d=\",d)  #각 세팅 한 변수들을 보기쉽게 출력하기"
   ]
  },
  {
   "cell_type": "code",
   "execution_count": 8,
   "id": "770e172f",
   "metadata": {},
   "outputs": [],
   "source": [
    " a=21098134232408921340891340984312089423089341208943120934120894312089 #애초에 이런 값들은 java나 c에서는 자료형 용량이 부족"
   ]
  },
  {
   "cell_type": "code",
   "execution_count": 9,
   "id": "b9749ef5",
   "metadata": {},
   "outputs": [],
   "source": [
    "b=234412307893421789078903455107893412093412089341208934120894320893421 #변수에 담는 것조차 불가능 하지만,\n"
   ]
  },
  {
   "cell_type": "code",
   "execution_count": 10,
   "id": "53293b79",
   "metadata": {},
   "outputs": [
    {
     "name": "stdout",
     "output_type": "stream",
     "text": [
      "a+b= 255510442125830710419794796092205501516501430550152055055015215205510\n"
     ]
    }
   ],
   "source": [
    "print(\"a+b=\", a+b)"
   ]
  },
  {
   "cell_type": "code",
   "execution_count": 11,
   "id": "0ab63b48",
   "metadata": {},
   "outputs": [
    {
     "name": "stdout",
     "output_type": "stream",
     "text": [
      "a*b= 4945662337664182251045508647662854964228779292407290431545377548887919021506299614458775856747962183641984855519033366861090951680866469\n"
     ]
    }
   ],
   "source": [
    "print(\"a*b=\", a*b) #어마무시한 값도 파이썬에서는 가능하다!!"
   ]
  },
  {
   "cell_type": "code",
   "execution_count": 12,
   "id": "fa7eb6d1",
   "metadata": {},
   "outputs": [
    {
     "data": {
      "text/plain": [
       "10"
      ]
     },
     "execution_count": 12,
     "metadata": {},
     "output_type": "execute_result"
    }
   ],
   "source": [
    "0b1010 #0b~ 는 2진수의 표현. 2진수 1010은 10진수의 10이다."
   ]
  },
  {
   "cell_type": "code",
   "execution_count": 13,
   "id": "336c2fbc",
   "metadata": {},
   "outputs": [
    {
     "data": {
      "text/plain": [
       "15"
      ]
     },
     "execution_count": 13,
     "metadata": {},
     "output_type": "execute_result"
    }
   ],
   "source": [
    "0b1111 #0b~ 는 2진수의 표현. 2진수 1011은 1010에 1이 더해진 10진수의 11이다."
   ]
  },
  {
   "cell_type": "code",
   "execution_count": 14,
   "id": "ef5660df",
   "metadata": {},
   "outputs": [
    {
     "data": {
      "text/plain": [
       "1"
      ]
     },
     "execution_count": 14,
     "metadata": {},
     "output_type": "execute_result"
    }
   ],
   "source": [
    "0b0001 #0b~ 는 2진수의 표현. 2진수 0001은 10진수의 1."
   ]
  },
  {
   "cell_type": "code",
   "execution_count": 15,
   "id": "5a2efe5c",
   "metadata": {},
   "outputs": [
    {
     "ename": "SyntaxError",
     "evalue": "invalid digit '2' in binary literal (4097528594.py, line 1)",
     "output_type": "error",
     "traceback": [
      "\u001b[1;36m  Input \u001b[1;32mIn [15]\u001b[1;36m\u001b[0m\n\u001b[1;33m    0b0201\u001b[0m\n\u001b[1;37m       ^\u001b[0m\n\u001b[1;31mSyntaxError\u001b[0m\u001b[1;31m:\u001b[0m invalid digit '2' in binary literal\n"
     ]
    }
   ],
   "source": [
    "0b0201 #0b는 2진수 이기 때문에 0과 1만 존재하므로 2가오면 안된다. 에러 발생@!"
   ]
  },
  {
   "cell_type": "code",
   "execution_count": 16,
   "id": "f00533f5",
   "metadata": {},
   "outputs": [
    {
     "data": {
      "text/plain": [
       "16"
      ]
     },
     "execution_count": 16,
     "metadata": {},
     "output_type": "execute_result"
    }
   ],
   "source": [
    "0x10 #0x는 16 진수의 표현법. 16진수의 10은 10진수의 10이다."
   ]
  },
  {
   "cell_type": "code",
   "execution_count": 17,
   "id": "a514c9a4",
   "metadata": {},
   "outputs": [
    {
     "data": {
      "text/plain": [
       "26"
      ]
     },
     "execution_count": 17,
     "metadata": {},
     "output_type": "execute_result"
    }
   ],
   "source": [
    "0x1a #0x는 16 진수의 표현법. 16진수의 1a는 10진수의 26이다."
   ]
  },
  {
   "cell_type": "code",
   "execution_count": 18,
   "id": "d30b4560",
   "metadata": {},
   "outputs": [
    {
     "data": {
      "text/plain": [
       "47"
      ]
     },
     "execution_count": 18,
     "metadata": {},
     "output_type": "execute_result"
    }
   ],
   "source": [
    "0x2f #0x는 16 진수의 표현법. 16진수의 2f은 10진수의 47이다."
   ]
  },
  {
   "cell_type": "code",
   "execution_count": 19,
   "id": "ec8f82a3",
   "metadata": {},
   "outputs": [
    {
     "ename": "SyntaxError",
     "evalue": "invalid syntax (3986162713.py, line 1)",
     "output_type": "error",
     "traceback": [
      "\u001b[1;36m  Input \u001b[1;32mIn [19]\u001b[1;36m\u001b[0m\n\u001b[1;33m    0x3z\u001b[0m\n\u001b[1;37m       ^\u001b[0m\n\u001b[1;31mSyntaxError\u001b[0m\u001b[1;31m:\u001b[0m invalid syntax\n"
     ]
    }
   ],
   "source": [
    "0x3z #0x는 16 진수의 표현법. 이때 11= 1a, 12 = 1b ... 16=1f 까지만 알파벳 표현이므로 z는 존재하지 않으므로 에러발생!"
   ]
  },
  {
   "cell_type": "code",
   "execution_count": 20,
   "id": "8b06bfc3",
   "metadata": {},
   "outputs": [
    {
     "name": "stdout",
     "output_type": "stream",
     "text": [
      "0xc\n",
      "0o26\n",
      "0b100001\n"
     ]
    }
   ],
   "source": [
    "print(hex(12));print(oct(22));print(bin(33)) #12를 16진수로, #22를 8진수로, 33을 2진수로 변환하며 출력!"
   ]
  },
  {
   "cell_type": "code",
   "execution_count": 21,
   "id": "971b6177",
   "metadata": {},
   "outputs": [
    {
     "data": {
      "text/plain": [
       "9460000000000.0"
      ]
     },
     "execution_count": 21,
     "metadata": {},
     "output_type": "execute_result"
    }
   ],
   "source": [
    "9.46e12 #9조 4600억은 9.46 x 10의 12승이다. 9.46e12 이렇게 표현."
   ]
  },
  {
   "cell_type": "code",
   "execution_count": 22,
   "id": "589359fc",
   "metadata": {},
   "outputs": [
    {
     "data": {
      "text/plain": [
       "1.2131232417683412e+32"
      ]
     },
     "execution_count": 22,
     "metadata": {},
     "output_type": "execute_result"
    }
   ],
   "source": [
    "9.46e12 + 121312324176834127678963412341298 #실수형과 정수형의 연산 결과는 유효숫자 만큼만 표현이되어 나머지는 생략된다 주의!"
   ]
  },
  {
   "cell_type": "code",
   "execution_count": 23,
   "id": "5b145620",
   "metadata": {},
   "outputs": [
    {
     "ename": "SyntaxError",
     "evalue": "invalid syntax (3700144954.py, line 1)",
     "output_type": "error",
     "traceback": [
      "\u001b[1;36m  Input \u001b[1;32mIn [23]\u001b[1;36m\u001b[0m\n\u001b[1;33m    a=1+2i\u001b[0m\n\u001b[1;37m         ^\u001b[0m\n\u001b[1;31mSyntaxError\u001b[0m\u001b[1;31m:\u001b[0m invalid syntax\n"
     ]
    }
   ],
   "source": [
    " a=1+2i #파이썬에서는 실제 복소수와는 달리 i가 아닌 j를 사용한다. 그러므로 i를 입력하면 아래와 같이 에러가 발생한다."
   ]
  },
  {
   "cell_type": "code",
   "execution_count": 25,
   "id": "46626e8b",
   "metadata": {},
   "outputs": [],
   "source": [
    "a=1+2j #1과 2의 허수부분 j를 더한 값을 변수 a 에 저장한다"
   ]
  },
  {
   "cell_type": "code",
   "execution_count": 26,
   "id": "cfc938b9",
   "metadata": {},
   "outputs": [],
   "source": [
    " b=1-2j #1과 2의 허수부분 j를 뺀 값을 변수 a 에 저장한다"
   ]
  },
  {
   "cell_type": "code",
   "execution_count": 27,
   "id": "7ad2cee7",
   "metadata": {},
   "outputs": [
    {
     "name": "stdout",
     "output_type": "stream",
     "text": [
      "(2+0j) (5+0j)\n"
     ]
    }
   ],
   "source": [
    "print(a+b, a*b)  #허수의 더하기,빼기:(a+bi)+(c+di) = (a+c)+(b+d)i 허수의 곱 : (ac-bd)+(ad+bc)i"
   ]
  },
  {
   "cell_type": "code",
   "execution_count": 28,
   "id": "95d39ea9",
   "metadata": {},
   "outputs": [],
   "source": [
    "a = \"aaa\" #변수 a의 값은 \"\"로 둘러쌓인 문자형 aaa이다."
   ]
  },
  {
   "cell_type": "code",
   "execution_count": 29,
   "id": "7d73d9cb",
   "metadata": {},
   "outputs": [],
   "source": [
    "b = \"bbb\" #변수 b의 값은 \"\"로 둘러쌓인 문자형 bbb이다."
   ]
  },
  {
   "cell_type": "code",
   "execution_count": 30,
   "id": "595bf215",
   "metadata": {},
   "outputs": [
    {
     "data": {
      "text/plain": [
       "'aaabbb'"
      ]
     },
     "execution_count": 30,
     "metadata": {},
     "output_type": "execute_result"
    }
   ],
   "source": [
    "a+b  #java에서도 문자열의 덧셈은 앞 문자열의 뒤에 이어붙이는 식이였다."
   ]
  },
  {
   "cell_type": "code",
   "execution_count": 31,
   "id": "2f867ab2",
   "metadata": {},
   "outputs": [
    {
     "ename": "TypeError",
     "evalue": "can't multiply sequence by non-int of type 'str'",
     "output_type": "error",
     "traceback": [
      "\u001b[1;31m---------------------------------------------------------------------------\u001b[0m",
      "\u001b[1;31mTypeError\u001b[0m                                 Traceback (most recent call last)",
      "Input \u001b[1;32mIn [31]\u001b[0m, in \u001b[0;36m<cell line: 1>\u001b[1;34m()\u001b[0m\n\u001b[1;32m----> 1\u001b[0m \u001b[43ma\u001b[49m\u001b[38;5;241;43m*\u001b[39;49m\u001b[43mb\u001b[49m\n",
      "\u001b[1;31mTypeError\u001b[0m: can't multiply sequence by non-int of type 'str'"
     ]
    }
   ],
   "source": [
    "a*b #두 문자열 자료형의 변수를 곱하는건 존재하지 않는다. 그래서 에러가 떴다. 'str'을 곱할 수 없음."
   ]
  },
  {
   "cell_type": "code",
   "execution_count": 32,
   "id": "ba8a9b4e",
   "metadata": {},
   "outputs": [
    {
     "data": {
      "text/plain": [
       "'aaaaaaaaa'"
      ]
     },
     "execution_count": 32,
     "metadata": {},
     "output_type": "execute_result"
    }
   ],
   "source": [
    "a*3 #하지만 파이썬에선 str을 곱할 수 있다. 곱한 만큼 반복하여 이어붙여 출력을 한다는 뜻이다!"
   ]
  },
  {
   "cell_type": "code",
   "execution_count": 34,
   "id": "8e847db5",
   "metadata": {},
   "outputs": [
    {
     "data": {
      "text/plain": [
       "'bbbbbbbbbbbbbbb'"
      ]
     },
     "execution_count": 34,
     "metadata": {},
     "output_type": "execute_result"
    }
   ],
   "source": [
    "b*5 #b = bbb를 5번 이어 붙여서 총 15개의 b가 출력되었다!"
   ]
  },
  {
   "cell_type": "code",
   "execution_count": 35,
   "id": "5ec07c3c",
   "metadata": {},
   "outputs": [],
   "source": [
    "# 호랑이가 \"떡하나 주면 안잡아 먹지\" 라고 말했습니다."
   ]
  },
  {
   "cell_type": "code",
   "execution_count": 36,
   "id": "ecfbaee6",
   "metadata": {},
   "outputs": [
    {
     "name": "stdout",
     "output_type": "stream",
     "text": [
      "호랑이가 \"떡하나 주면 안잡아 먹지\" 라고 말했습니다.\n"
     ]
    }
   ],
   "source": [
    "print ('호랑이가 \"떡하나 주면 안잡아 먹지\" 라고 말했습니다.') #''안에 자료들을 모두 str으로 받아서 \"\"까지 잘 출력됨"
   ]
  },
  {
   "cell_type": "code",
   "execution_count": 43,
   "id": "ce4fa9bb",
   "metadata": {},
   "outputs": [
    {
     "name": "stdout",
     "output_type": "stream",
     "text": [
      " 호랑이가 \"떡하나 주면 안잡아 먹지\" 라고 말했습니다.\n"
     ]
    }
   ],
   "source": [
    "print (\" 호랑이가 \\\"떡하나 주면 안잡아 먹지\\\" 라고 말했습니다.\") #\"\"안에서 \"\"를 출력하기 위해 \\를 붙여줌으로써 읽게 만듦"
   ]
  },
  {
   "cell_type": "code",
   "execution_count": 39,
   "id": "d6486c3a",
   "metadata": {},
   "outputs": [],
   "source": [
    " #I say \" I Love You\""
   ]
  },
  {
   "cell_type": "code",
   "execution_count": 40,
   "id": "9c0be023",
   "metadata": {},
   "outputs": [
    {
     "name": "stdout",
     "output_type": "stream",
     "text": [
      "I say \"I Love You\"\n"
     ]
    }
   ],
   "source": [
    "print (\"I say \\\"I Love You\\\"\") #\"\"안에서 \"\"를 출력하기 위해 \\를 붙여줌으로써 읽게 만듦"
   ]
  },
  {
   "cell_type": "code",
   "execution_count": 41,
   "id": "4b4b7400",
   "metadata": {},
   "outputs": [
    {
     "ename": "SyntaxError",
     "evalue": "invalid syntax (832799594.py, line 1)",
     "output_type": "error",
     "traceback": [
      "\u001b[1;36m  Input \u001b[1;32mIn [41]\u001b[1;36m\u001b[0m\n\u001b[1;33m    print (\"I say \"I Love You\"\")\u001b[0m\n\u001b[1;37m                   ^\u001b[0m\n\u001b[1;31mSyntaxError\u001b[0m\u001b[1;31m:\u001b[0m invalid syntax\n"
     ]
    }
   ],
   "source": [
    "print (\"I say \"I Love You\"\") #\"\"안에서 확장문자 없이 \"를 쓰면 str구분이 끝나므로 에러가 발생했다!!"
   ]
  },
  {
   "cell_type": "code",
   "execution_count": 44,
   "id": "4ae7ce13",
   "metadata": {},
   "outputs": [
    {
     "name": "stdout",
     "output_type": "stream",
     "text": [
      "오늘 열심히 파이썬을 공부했습니다. \n",
      "내일도 열심히 파이썬을 공부할 것입니다. \n",
      "그래서 규민이가 결국 일등할 것입니다\n"
     ]
    }
   ],
   "source": [
    "print(\"\"\"오늘 열심히 파이썬을 공부했습니다. \n",
    "내일도 열심히 파이썬을 공부할 것입니다. \n",
    "그래서 규민이가 결국 일등할 것입니다\"\"\") #\"\"\"큰따옴표 세개로 둘러쌓여있으면 줄바꿈까지 고대로 인식한다."
   ]
  },
  {
   "cell_type": "code",
   "execution_count": 46,
   "id": "004f0f1d",
   "metadata": {},
   "outputs": [
    {
     "name": "stdout",
     "output_type": "stream",
     "text": [
      "오늘 열심히 파이썬을 공부했습니다. 내일도 열심히 파이썬을 공부할 것입니다. 그래서 규민이가 결국 일등할 것입니다\n"
     ]
    }
   ],
   "source": [
    "print(\"오늘 열심히 파이썬을 공부했습니다. \\\n",
    "내일도 열심히 파이썬을 공부할 것입니다. \\\n",
    "그래서 규민이가 결국 일등할 것입니다\") #문자열의 합을 \\를 통해서 표현하여 줄 들여쓰기가 적용되지 않고 한줄로 출력되었다."
   ]
  },
  {
   "cell_type": "code",
   "execution_count": 47,
   "id": "1178948d",
   "metadata": {},
   "outputs": [],
   "source": [
    "a = \"오늘은\" \"즐거운\" \"일요일\" #\"\"로 둘러쌓인 문자열들을 한꺼번에 변수에 담을 수 있다!"
   ]
  },
  {
   "cell_type": "code",
   "execution_count": 48,
   "id": "d1a6e328",
   "metadata": {},
   "outputs": [
    {
     "name": "stdout",
     "output_type": "stream",
     "text": [
      "오늘은즐거운일요일\n"
     ]
    }
   ],
   "source": [
    "print (a) # 출력을 하면 띄어쓰기 없이 각 문자열이 sep + 된 상태로 붙어 이어져서 출력이 된다!"
   ]
  },
  {
   "cell_type": "code",
   "execution_count": 50,
   "id": "cb96bfc0",
   "metadata": {},
   "outputs": [
    {
     "name": "stdout",
     "output_type": "stream",
     "text": [
      "오늘 열심히 파이썬을 공부했습니다. \n",
      "내일도 열심히 파이썬을 공부할 것입니다. \n",
      "그래서 규민이는 일등할 것입니다\n"
     ]
    }
   ],
   "source": [
    "print(\"오늘 열심히 파이썬을 공부했습니다. \\n\"\n",
    "\"내일도 열심히 파이썬을 공부할 것입니다. \\n\"\n",
    "\"그래서 규민이는 일등할 것입니다\")  #규민이는 열심히 공부하여 훌륭한 개발자가 될 것입니다."
   ]
  },
  {
   "cell_type": "code",
   "execution_count": 51,
   "id": "02cea7ef",
   "metadata": {},
   "outputs": [],
   "source": [
    "a = True #파이썬에서 부울형은 첫 글자가 대문자네! 실수하지 말자"
   ]
  },
  {
   "cell_type": "code",
   "execution_count": 52,
   "id": "34a21611",
   "metadata": {},
   "outputs": [],
   "source": [
    "b = False #b에 False를 저장함으로 b는 부울형 자료형 변수가 되었다."
   ]
  },
  {
   "cell_type": "code",
   "execution_count": 53,
   "id": "40bb41b7",
   "metadata": {},
   "outputs": [
    {
     "data": {
      "text/plain": [
       "False"
      ]
     },
     "execution_count": 53,
     "metadata": {},
     "output_type": "execute_result"
    }
   ],
   "source": [
    "a and b #java의 &&는 파이썬에서 말 그대로 and이다. a&&b는 하나라도 false가 있으면 false이므로 False가 출력 됨"
   ]
  },
  {
   "cell_type": "code",
   "execution_count": 54,
   "id": "427bb9eb",
   "metadata": {},
   "outputs": [
    {
     "data": {
      "text/plain": [
       "True"
      ]
     },
     "execution_count": 54,
     "metadata": {},
     "output_type": "execute_result"
    }
   ],
   "source": [
    "a or b  #java의 ||는 파이썬에서 말 그대로 or이다. 하나라도 True가 있으면 true이므로 출력은 True가 됨."
   ]
  },
  {
   "cell_type": "code",
   "execution_count": 55,
   "id": "5458ba52",
   "metadata": {},
   "outputs": [
    {
     "data": {
      "text/plain": [
       "True"
      ]
     },
     "execution_count": 55,
     "metadata": {},
     "output_type": "execute_result"
    }
   ],
   "source": [
    "a and not b #java의 !=는 and not으로 알기 쉽게 표현되네! true != false는 true이므로 출력값은 True이다."
   ]
  },
  {
   "cell_type": "code",
   "execution_count": 56,
   "id": "f5912bec",
   "metadata": {},
   "outputs": [],
   "source": [
    "a = 0 #a에 int형 자료형 0을 넣어주므로 a는 자동으로 int형이 됨"
   ]
  },
  {
   "cell_type": "code",
   "execution_count": 57,
   "id": "08a53c09",
   "metadata": {},
   "outputs": [],
   "source": [
    "b = a==0 #a는 0이 맞으므로 True이고, 이 True 부울형 데이터를 b에 넣어주어"
   ]
  },
  {
   "cell_type": "code",
   "execution_count": 58,
   "id": "395e2f33",
   "metadata": {},
   "outputs": [
    {
     "data": {
      "text/plain": [
       "True"
      ]
     },
     "execution_count": 58,
     "metadata": {},
     "output_type": "execute_result"
    }
   ],
   "source": [
    "b #b를 출력했을 때 저장되어 있었던 True가 나왔다"
   ]
  },
  {
   "cell_type": "code",
   "execution_count": 59,
   "id": "282e7a35",
   "metadata": {},
   "outputs": [
    {
     "data": {
      "text/plain": [
       "int"
      ]
     },
     "execution_count": 59,
     "metadata": {},
     "output_type": "execute_result"
    }
   ],
   "source": [
    "type(a)"
   ]
  },
  {
   "cell_type": "code",
   "execution_count": 60,
   "id": "edfac01e",
   "metadata": {},
   "outputs": [],
   "source": [
    "a = True #a에 부울형 값True를 넣었다."
   ]
  },
  {
   "cell_type": "code",
   "execution_count": 61,
   "id": "8718d1de",
   "metadata": {},
   "outputs": [],
   "source": [
    "b = False #a에 부울형 값True를 넣었다."
   ]
  },
  {
   "cell_type": "code",
   "execution_count": 62,
   "id": "8f42cbcd",
   "metadata": {},
   "outputs": [
    {
     "name": "stdout",
     "output_type": "stream",
     "text": [
      "참\n"
     ]
    }
   ],
   "source": [
    "if 1>2 and a and b or b or a:  #1>2(f) 그리고 a(f) 그리고 b(t) 또는 b(f) 또는 a(t). if조건문의 ()는 생략이 가능하네!\n",
    "    print(\"참\")\n",
    "else:\n",
    "    print(\"거짓\")"
   ]
  },
  {
   "cell_type": "code",
   "execution_count": 63,
   "id": "5d89d524",
   "metadata": {},
   "outputs": [],
   "source": [
    "rainbow = [\"빨\",\"주\",\"노\",\"초\",\"파\",\"남\",\"보\"] #java에서의 배열이 파이썬에선 컬렉션이다.빨~보까지의 값을 rainbow리스트에 셋"
   ]
  },
  {
   "cell_type": "code",
   "execution_count": 65,
   "id": "0a63ebc6",
   "metadata": {},
   "outputs": [
    {
     "name": "stdout",
     "output_type": "stream",
     "text": [
      "['빨', '주', '노', '초', '파', '남', '보']\n"
     ]
    }
   ],
   "source": [
    "print(rainbow) #리스트 rainbow를 프린트하여 모든 값들을 확인!~"
   ]
  },
  {
   "cell_type": "code",
   "execution_count": 66,
   "id": "373535f5",
   "metadata": {},
   "outputs": [
    {
     "name": "stdout",
     "output_type": "stream",
     "text": [
      "빨 색\n",
      "주 색\n",
      "노 색\n",
      "초 색\n",
      "파 색\n",
      "남 색\n",
      "보 색\n"
     ]
    }
   ],
   "source": [
    "for color in rainbow : #리스트를 프린트할 때 \"색\" str을 덧붙여 하나씩 모두 출력을 할 수 있다. 반복문이 불필요!\n",
    "    print ( color, \"색\")"
   ]
  },
  {
   "cell_type": "code",
   "execution_count": 67,
   "id": "8422c429",
   "metadata": {},
   "outputs": [],
   "source": [
    "rainbow = (\"빨강\",\"주황\",\"노랑\",\"초록\",\"파랑\",\"남색\",\"보라\") #리스트와 달리 튜플은 ()안에 값을 저장한다. 수정이 불가하다."
   ]
  },
  {
   "cell_type": "code",
   "execution_count": 104,
   "id": "f6064ec8",
   "metadata": {},
   "outputs": [
    {
     "name": "stdout",
     "output_type": "stream",
     "text": [
      "빨강 색\n",
      "주황 색\n",
      "노랑 색\n",
      "초록 색\n",
      "파랑 색\n",
      "남색 색\n",
      "보라 색\n"
     ]
    }
   ],
   "source": [
    "for color in rainbow : #리스트와 마찬가지로 모든 값 하나하나씩 반복문 없이 프린트할 수 있다.\n",
    "     print ( color, \"색\")"
   ]
  },
  {
   "cell_type": "code",
   "execution_count": null,
   "id": "8ca5b7e6",
   "metadata": {},
   "outputs": [],
   "source": []
  }
 ],
 "metadata": {
  "kernelspec": {
   "display_name": "Python 3 (ipykernel)",
   "language": "python",
   "name": "python3"
  },
  "language_info": {
   "codemirror_mode": {
    "name": "ipython",
    "version": 3
   },
   "file_extension": ".py",
   "mimetype": "text/x-python",
   "name": "python",
   "nbconvert_exporter": "python",
   "pygments_lexer": "ipython3",
   "version": "3.8.8rc1"
  }
 },
 "nbformat": 4,
 "nbformat_minor": 5
}
